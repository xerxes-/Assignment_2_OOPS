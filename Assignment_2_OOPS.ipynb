{
 "cells": [
  {
   "cell_type": "markdown",
   "id": "8d5604d7-02d3-4c44-a87a-654c08e6bf0c",
   "metadata": {},
   "source": [
    "# Constructor:"
   ]
  },
  {
   "cell_type": "markdown",
   "id": "d5dae407-53a0-43be-abca-9e7f0354c728",
   "metadata": {},
   "source": [
    "#### 1. What is a constructor in Python? Explain its purpose and usage."
   ]
  },
  {
   "cell_type": "code",
   "execution_count": 1,
   "id": "d4b79f55-14b3-4f40-b602-bf7b8f3dfff3",
   "metadata": {},
   "outputs": [],
   "source": [
    "'''\n",
    "In Python, a constructor is a special method that is automatically called when a new instance of a class is created. \n",
    "The constructor method in Python is named __init__().\n",
    "\n",
    "Purpose:\n",
    "\n",
    "Initialization: The primary purpose of a constructor is to initialize the newly created object with initial values or configurations.\n",
    "Setting up Attributes: It sets up the initial values of attributes within the object.\n",
    "Performing Setup Actions: It can perform any necessary setup actions or tasks required before using the object.\n",
    "\n",
    "Usage:\n",
    "\n",
    "Defining a Constructor: To define a constructor in a Python class, we create a method named __init__() within the class definition. \n",
    "This method takes self (representing the instance being created) along with any other parameters needed for initialization.\n",
    "Automatic Invocation: The constructor is automatically called when a new instance of the class is created using the class name followed by parentheses (e.g., obj = MyClass()).\n",
    "''';"
   ]
  },
  {
   "cell_type": "markdown",
   "id": "0dc3fbfb-84a4-4b14-9bed-6cecd45698f5",
   "metadata": {},
   "source": [
    "#### 2. Differentiate between a parameterless constructor and a parameterized constructor in Python."
   ]
  },
  {
   "cell_type": "code",
   "execution_count": 1,
   "id": "e1bc931e-7fe8-47c4-8511-0d4450a4a3fc",
   "metadata": {},
   "outputs": [],
   "source": [
    "'''\n",
    "The main difference is that a parameterized constructor accepts parameters, allowing for initialization with external data, \n",
    "while a parameterless constructor does not accept any parameters and is used for basic initialization tasks.\n",
    "''';\n",
    "\n",
    "# Parameterless Constructor:\n",
    "\n",
    "# It is defined with only the self parameter, which is a reference to the instance being created.\n",
    "# It is used for basic initialization tasks or when the initialization does not require any external data.\n",
    "# Example:\n",
    "class MyClass:\n",
    "    def __init__(self):\n",
    "        self.attribute = 0  # Initialization without parameters\n",
    "\n",
    "        \n",
    "# Parameterized Constructor:\n",
    "\n",
    "# A parameterized constructor accepts one or more parameters in addition to the self parameter.\n",
    "# It allows the initialization of object attributes with values provided as parameters during object creation.\n",
    "# It is used when the initialization requires external data or when the object's state depends on the values passed during creation.\n",
    "# Example:\n",
    "class MyClass:\n",
    "    def __init__(self, param1, param2):\n",
    "        self.attribute1 = param1  # Initialization with parameters\n",
    "        self.attribute2 = param2\n"
   ]
  },
  {
   "cell_type": "markdown",
   "id": "ef3e958f-b9ca-453a-9637-a15476e376e5",
   "metadata": {},
   "source": [
    "#### 3. How do you define a constructor in a Python class? Provide an example."
   ]
  },
  {
   "cell_type": "code",
   "execution_count": 2,
   "id": "e2be0e5c-a247-40f5-ab33-cf5d119bff5c",
   "metadata": {},
   "outputs": [],
   "source": [
    "# In Python, a constructor is defined using a special method called __init__(). \n",
    "# This method is automatically called when a new instance of the class is created. \n",
    "# It is used to initialize the object's state, setting up initial values for attributes or performing any necessary setup actions.\n",
    "\n",
    "# Example:\n",
    "class MyClass:\n",
    "    def __init__(self, param1, param2):\n",
    "        self.attribute1 = param1\n",
    "        self.attribute2 = param2\n",
    "\n",
    "# Creating an instance of MyClass invokes the constructor automatically\n",
    "obj = MyClass(\"value1\", \"value2\")\n"
   ]
  },
  {
   "cell_type": "markdown",
   "id": "7fc16d31-1f84-4a63-b3fe-6647dad422cf",
   "metadata": {},
   "source": [
    "#### 4. Explain the `__init__` method in Python and its role in constructors."
   ]
  },
  {
   "cell_type": "code",
   "execution_count": 3,
   "id": "1910ab4b-01ec-49bd-a78a-3ef389875bab",
   "metadata": {},
   "outputs": [],
   "source": [
    "'''\n",
    "In Python, the __init__() method is a special method used for initializing objects of a class. \n",
    "It is also known as the constructor method. The __init__() method is automatically called when a new instance of the class is created. \n",
    "Its primary role is to initialize the object's state, setting up initial values for attributes or performing any necessary setup actions.\n",
    "\n",
    "Key Points about __init__() method and Constructors:\n",
    "\n",
    "Initialization: The __init__() method initializes the newly created object with initial values or configurations.\n",
    "Automatic Invocation: When a new instance of a class is created, Python automatically calls the __init__() method for that class.\n",
    "Parameters: The __init__() method typically accepts the self parameter (which represents the instance being created) along \n",
    "with any other parameters needed for initialization.\n",
    "Attribute Initialization: Inside the __init__() method, you can initialize the object's attributes by assigning values to them.\n",
    "Setup Actions: It can perform any necessary setup actions or tasks required before using the object.\n",
    "Optional: While defining a class, the __init__() method is optional. If not provided, Python provides a default constructor that does nothing.\n",
    "''';"
   ]
  },
  {
   "cell_type": "markdown",
   "id": "9d66c8a4-cc7a-41db-ac93-2b6955eba4a5",
   "metadata": {},
   "source": [
    "#### 5. In a class named `Person`, create a constructor that initializes the `name` and `age` attributes. Provide an example of creating an object of this class."
   ]
  },
  {
   "cell_type": "code",
   "execution_count": 4,
   "id": "ef12d8e0-31b4-46ec-bc3c-9d99a97181ac",
   "metadata": {},
   "outputs": [
    {
     "name": "stdout",
     "output_type": "stream",
     "text": [
      "Name: Alice\n",
      "Age: 30\n"
     ]
    }
   ],
   "source": [
    "class Person:\n",
    "    def __init__(self, name, age):\n",
    "        self.name = name\n",
    "        self.age = age\n",
    "\n",
    "# Creating an object of the Person class\n",
    "person1 = Person(\"Alice\", 30)\n",
    "\n",
    "# Accessing attributes of the person1 object\n",
    "print(\"Name:\", person1.name)\n",
    "print(\"Age:\", person1.age)\n"
   ]
  },
  {
   "cell_type": "markdown",
   "id": "e1dd84c6-0de3-41ce-8c34-d62fd7ee3d4d",
   "metadata": {},
   "source": [
    "#### 6. How can you call a constructor explicitly in Python? Give an example."
   ]
  },
  {
   "cell_type": "code",
   "execution_count": 6,
   "id": "f280e96c-2494-44d4-8e9f-154544a807c6",
   "metadata": {},
   "outputs": [
    {
     "name": "stdout",
     "output_type": "stream",
     "text": [
      "Jane\n"
     ]
    }
   ],
   "source": [
    "# In Python, we typically don't call a constructor explicitly. \n",
    "# The constructor (__init__() method) is automatically called when we create a new instance of a class.\n",
    "\n",
    "# However, if we need to explicitly call the constructor for some reason, \n",
    "# we can do so using the class name followed by parentheses and passing the required arguments. \n",
    "# This is rarely necessary and generally not recommended, as it can lead to unexpected behavior or errors.\n",
    "\n",
    "# Here's an example:\n",
    "class MyClass:\n",
    "    def __init__(self, name):\n",
    "        self.name = name\n",
    "\n",
    "# Create an object of the class\n",
    "obj = MyClass(\"John\")\n",
    "\n",
    "# Call the constructor explicitly\n",
    "MyClass.__init__(obj, \"Jane\")\n",
    "\n",
    "print(obj.name)"
   ]
  },
  {
   "cell_type": "markdown",
   "id": "a9021dfc-b727-401d-9bbd-006e919014bb",
   "metadata": {},
   "source": [
    "#### 7. What is the significance of the `self` parameter in Python constructors? Explain with an example."
   ]
  },
  {
   "cell_type": "code",
   "execution_count": 7,
   "id": "245393b6-43bc-472b-8b6d-804f0a4dbf39",
   "metadata": {},
   "outputs": [
    {
     "name": "stdout",
     "output_type": "stream",
     "text": [
      "Name: Alice\n",
      "Age: 30\n",
      "Name: Bob\n",
      "Age: 25\n"
     ]
    }
   ],
   "source": [
    "# In Python constructors, the self parameter refers to the instance of the class itself. \n",
    "# It is used within the class methods to access and manipulate the instance variables of the object. \n",
    "# When a method is called on an object, Python automatically passes the object itself as the first argument to the method, which is conventionally named self.\n",
    "\n",
    "# The significance of the self parameter in Python constructors lies in its role in distinguishing between instance variables and \n",
    "# local variables within the class. It allows you to access and modify instance variables within the class methods, \n",
    "# ensuring that each instance of the class maintains its own state.\n",
    "\n",
    "# Here's an example:\n",
    "class Person:\n",
    "    def __init__(self, name, age):\n",
    "        self.name = name   # Instance variable\n",
    "        self.age = age     # Instance variable\n",
    "    \n",
    "    def display_info(self):\n",
    "        print(\"Name:\", self.name)\n",
    "        print(\"Age:\", self.age)\n",
    "\n",
    "# Creating two instances of the Person class\n",
    "person1 = Person(\"Alice\", 30)\n",
    "person2 = Person(\"Bob\", 25)\n",
    "\n",
    "# Calling the display_info method for each instance\n",
    "person1.display_info()\n",
    "person2.display_info()\n"
   ]
  },
  {
   "cell_type": "markdown",
   "id": "7d85d69a-ec88-474d-adff-e33976fd67c8",
   "metadata": {},
   "source": [
    "#### 8. Discuss the concept of default constructors in Python. When are they used?"
   ]
  },
  {
   "cell_type": "code",
   "execution_count": 8,
   "id": "b2ab2317-382a-43c6-aa8d-f746dd1b7aa3",
   "metadata": {},
   "outputs": [
    {
     "name": "stdout",
     "output_type": "stream",
     "text": [
      "John\n"
     ]
    }
   ],
   "source": [
    "# In Python, a default constructor is a special method in a class that is automatically called when an object of the class is created. \n",
    "# The default constructor is also known as the __init__ method.\n",
    "\n",
    "# The __init__ method is a special method in Python classes that is automatically called when an object of the class is created. \n",
    "# The __init__ method is used to initialize the attributes of the class.\n",
    "\n",
    "# Here is an example:\n",
    "class MyClass:\n",
    "    def __init__(self):\n",
    "        self.name = \"John\"\n",
    "\n",
    "obj = MyClass()\n",
    "print(obj.name)"
   ]
  },
  {
   "cell_type": "markdown",
   "id": "a58c20b6-5d81-4549-a9b3-b0fed5bfb587",
   "metadata": {},
   "source": [
    "#### 9. Create a Python class called `Rectangle` with a constructor that initializes the `width` and `height` attributes. Provide a method to calculate the area of the rectangle."
   ]
  },
  {
   "cell_type": "code",
   "execution_count": 9,
   "id": "0a0447f3-ee25-4ee5-85b0-e30e2f506673",
   "metadata": {},
   "outputs": [
    {
     "name": "stdout",
     "output_type": "stream",
     "text": [
      "Area of the rectangle: 20\n"
     ]
    }
   ],
   "source": [
    "class Rectangle:\n",
    "    def __init__(self, width, height):\n",
    "        self.width = width\n",
    "        self.height = height\n",
    "    \n",
    "    def calculate_area(self):\n",
    "        return self.width * self.height\n",
    "\n",
    "# Create an instance of the Rectangle class\n",
    "rectangle = Rectangle(5, 4)\n",
    "\n",
    "# Calculate and print the area of the rectangle\n",
    "area = rectangle.calculate_area()\n",
    "print(\"Area of the rectangle:\", area)\n"
   ]
  },
  {
   "cell_type": "markdown",
   "id": "c3d1e7f9-802b-4071-9305-9d94c3263c9f",
   "metadata": {},
   "source": [
    "#### 10. How can you have multiple constructors in a Python class? Explain with an example."
   ]
  },
  {
   "cell_type": "code",
   "execution_count": 10,
   "id": "14107823-f209-4697-a611-950b6d926aa5",
   "metadata": {},
   "outputs": [
    {
     "name": "stdout",
     "output_type": "stream",
     "text": [
      "John\n",
      "Alice\n",
      "25\n"
     ]
    }
   ],
   "source": [
    "# In Python, we can have multiple constructors in a class by using special methods. \n",
    "# The special method __init__ is called when an object is instantiated. \n",
    "# We can have multiple constructors by defining multiple __init__ methods with different parameters.\n",
    "\n",
    "# However, this approach is not recommended because it can lead to confusion and errors. \n",
    "# A better approach is to use a single __init__ method and provide default values for the parameters. \n",
    "\n",
    "# Example:\n",
    "class Person:\n",
    "    def __init__(self, name, age=None):  # age is optional parameter\n",
    "        self.name = name\n",
    "        if age is not None:\n",
    "            self.age = age\n",
    "\n",
    "p1 = Person(\"John\")  # This will call the __init__ method with default age\n",
    "print(p1.name)  \n",
    "\n",
    "p2 = Person(\"Alice\", 25)  # This will call the __init__ method with name and age\n",
    "print(p2.name)  \n",
    "print(p2.age)  \n"
   ]
  },
  {
   "cell_type": "markdown",
   "id": "f21d0027-f7aa-4569-955f-ec89c0c812fe",
   "metadata": {},
   "source": [
    "#### 11. What is method overloading, and how is it related to constructors in Python?"
   ]
  },
  {
   "cell_type": "code",
   "execution_count": 11,
   "id": "64b9edea-148b-4e70-b52c-5c07b232bf6d",
   "metadata": {},
   "outputs": [
    {
     "name": "stdout",
     "output_type": "stream",
     "text": [
      "Hello, stranger!\n",
      "Hello, Alice!\n"
     ]
    }
   ],
   "source": [
    "# Method overloading is a feature in some programming languages that allows multiple methods with the same name to be defined, \n",
    "# as long as they have different parameter lists. This means that a method can be called with different sets of arguments, \n",
    "# and the correct method will be executed based on the number and types of the arguments.\n",
    "\n",
    "# In Python, method overloading is not supported in the classical sense. \n",
    "# Python does not allow multiple methods with the same name to be defined, even if they have different parameter lists. \n",
    "# This is because Python's dynamic typing system makes it difficult to determine which method to call at compile time.\n",
    "\n",
    "# However, Python provides a way to achieve method overloading-like behavior using default arguments and variable-length argument lists. \n",
    "# Here's an example:\n",
    "\n",
    "class Person:\n",
    "    def greet(self, name=None):\n",
    "        if name is not None:\n",
    "            print(f\"Hello, {name}!\")\n",
    "        else:\n",
    "            print(\"Hello, stranger!\")\n",
    "\n",
    "p = Person()\n",
    "p.greet()  \n",
    "p.greet(\"Alice\") \n",
    "\n",
    "# Regarding constructors in Python, method overloading can be used to create multiple constructors for a class. \n",
    "# A constructor is a special method that is called when an object is created. \n",
    "# In Python, the constructor is defined using the __init__ method. \n",
    "# Here's an example:\n",
    "\n",
    "class Person:\n",
    "    def __init__(self, name, age=None):\n",
    "        self.name = name\n",
    "        self.age = age\n",
    "\n",
    "p1 = Person(\"John\")  \n",
    "p2 = Person(\"Alice\", 25)  "
   ]
  },
  {
   "cell_type": "markdown",
   "id": "4e29a677-21ea-49a5-a719-c7016a71ff7c",
   "metadata": {},
   "source": [
    "#### 12. Explain the use of the `super()` function in Python constructors. Provide an example."
   ]
  },
  {
   "cell_type": "code",
   "execution_count": 12,
   "id": "37659182-f675-4969-b14f-c38ee3da610e",
   "metadata": {},
   "outputs": [
    {
     "name": "stdout",
     "output_type": "stream",
     "text": [
      "Hello, my name is John!\n",
      "I am 25 years old!\n"
     ]
    }
   ],
   "source": [
    "# The super() function in Python is used to access the parent class's methods and attributes. \n",
    "# It is commonly used in method overriding and inheritance.\n",
    "# This is particularly useful when we want to extend the behavior of a parent class's method.\n",
    "\n",
    "# Here's an example:\n",
    "\n",
    "class Parent:\n",
    "    def __init__(self, name):\n",
    "        self.name = name\n",
    "\n",
    "    def greet(self):\n",
    "        print(f\"Hello, my name is {self.name}!\")\n",
    "\n",
    "class Child(Parent):\n",
    "    def __init__(self, name, age):\n",
    "        super().__init__(name)  # Call the parent's __init__ method\n",
    "        self.age = age\n",
    "\n",
    "    def greet(self):\n",
    "        super().greet()  # Call the parent's greet method\n",
    "        print(f\"I am {self.age} years old!\")\n",
    "\n",
    "child = Child(\"John\", 25)\n",
    "child.greet()"
   ]
  },
  {
   "cell_type": "markdown",
   "id": "7990a793-e72d-4d7b-b18e-883744f0d7ef",
   "metadata": {},
   "source": [
    "#### 13. Create a class called `Book` with a constructor that initializes the `title`, `author`, and `published_year` attributes. Provide a method to display book details."
   ]
  },
  {
   "cell_type": "code",
   "execution_count": 1,
   "id": "14cd1b17-eda7-4a18-b285-a5651ee637b7",
   "metadata": {},
   "outputs": [
    {
     "name": "stdout",
     "output_type": "stream",
     "text": [
      "Title: To Kill a Mockingbird\n",
      "Author: Harper Lee\n",
      "Published Year: 1960\n"
     ]
    }
   ],
   "source": [
    "class Book:\n",
    "    def __init__(self, title, author, published_year):\n",
    "        self.title = title\n",
    "        self.author = author\n",
    "        self.published_year = published_year\n",
    "    \n",
    "    def display_details(self):\n",
    "        print(\"Title:\", self.title)\n",
    "        print(\"Author:\", self.author)\n",
    "        print(\"Published Year:\", self.published_year)\n",
    "\n",
    "# Create an instance of the Book class\n",
    "book1 = Book(\"To Kill a Mockingbird\", \"Harper Lee\", 1960)\n",
    "\n",
    "# Display book details\n",
    "book1.display_details()\n"
   ]
  },
  {
   "cell_type": "markdown",
   "id": "c8f499c8-4ece-4ae3-ad96-27cc708095e0",
   "metadata": {},
   "source": [
    "#### 14. Discuss the differences between constructors and regular methods in Python classes."
   ]
  },
  {
   "cell_type": "code",
   "execution_count": 2,
   "id": "39e6f076-7efd-4d36-b8c8-c3bfc18a63ac",
   "metadata": {},
   "outputs": [],
   "source": [
    "'''\n",
    "Constructors and regular methods serve different purposes in Python classes. \n",
    "Here are the key differences between them:\n",
    "\n",
    "1. Initialization:\n",
    "Constructors, typically named __init__(), are special methods used for initializing objects when they are created. They are automatically called when a new instance of the class is created.\n",
    "Regular methods, on the other hand, are defined to perform specific actions or operations on the objects of the class. They are called explicitly by the object using dot notation.\n",
    "\n",
    "2. Invocation:\n",
    "Constructors are invoked automatically when an instance of the class is created. They are responsible for initializing the object's state by assigning initial values to its attributes.\n",
    "Regular methods must be called explicitly using the object they belong to. They can be called multiple times after the object has been created to perform various operations on the object's data.\n",
    "\n",
    "3. Return Value:\n",
    "Constructors do not return any value explicitly. They are responsible for initializing the object's state and attributes.\n",
    "Regular methods can return values using the return statement. They can perform calculations, modify object attributes, or return information about the object's state.\n",
    "''';"
   ]
  },
  {
   "cell_type": "markdown",
   "id": "8d3bdc9a-1d4d-46db-87ee-0843558a7f44",
   "metadata": {},
   "source": [
    "#### 15. Explain the role of the `self` parameter in instance variable initialization within a constructor."
   ]
  },
  {
   "cell_type": "code",
   "execution_count": 3,
   "id": "b38c717a-3285-4f5a-bc57-03d5fa053585",
   "metadata": {},
   "outputs": [],
   "source": [
    "# The self parameter in Python is a reference to the current instance of the class and is used to access variables and methods from the class. \n",
    "# In the context of instance variable initialization within a constructor, self is used to assign values to instance variables."
   ]
  },
  {
   "cell_type": "markdown",
   "id": "4ed8a54d-994c-4645-a234-723b1122d78a",
   "metadata": {},
   "source": [
    "#### 16. How do you prevent a class from having multiple instances by using constructors in Python? Provide an example."
   ]
  },
  {
   "cell_type": "code",
   "execution_count": 4,
   "id": "b7d9d37f-b413-4818-91e3-16dd670f4f90",
   "metadata": {},
   "outputs": [
    {
     "name": "stdout",
     "output_type": "stream",
     "text": [
      "True\n"
     ]
    }
   ],
   "source": [
    "# In Python, we can prevent a class from having multiple instances by using a singleton pattern. \n",
    "# A singleton is a class that can only have one instance.\n",
    "# Here's an example:\n",
    "\n",
    "class Singleton:\n",
    "    _instance = None  # Class-level variable to store the single instance\n",
    "    \n",
    "    def __init__(self):\n",
    "        if Singleton._instance is not None:\n",
    "            raise Exception(\"Singleton class cannot have multiple instances.\")\n",
    "        Singleton._instance = self  # Store the single instance\n",
    "    \n",
    "    @classmethod\n",
    "    def get_instance(cls):\n",
    "        if cls._instance is None:\n",
    "            cls._instance = cls()  # Create the instance if it doesn't exist\n",
    "        return cls._instance\n",
    "\n",
    "singleton1 = Singleton.get_instance()\n",
    "singleton2 = Singleton.get_instance()\n",
    "\n",
    "print(singleton1 is singleton2)  \n"
   ]
  },
  {
   "cell_type": "markdown",
   "id": "0090f81d-93cf-4b8b-a17f-59fcfd508b7b",
   "metadata": {},
   "source": [
    "#### 17. Create a Python class called `Student` with a constructor that takes a list of subjects as a parameter and initializes the `subjects` attribute."
   ]
  },
  {
   "cell_type": "code",
   "execution_count": 5,
   "id": "954ece5f-b6cf-4f16-8ad5-ea45cdd7f190",
   "metadata": {},
   "outputs": [
    {
     "name": "stdout",
     "output_type": "stream",
     "text": [
      "['Math', 'Science', 'History']\n"
     ]
    }
   ],
   "source": [
    "class Student:\n",
    "    def __init__(self, subjects):\n",
    "        self.subjects = subjects\n",
    "\n",
    "# Example usage:\n",
    "subjects_list = [\"Math\", \"Science\", \"History\"]\n",
    "student1 = Student(subjects_list)\n",
    "print(student1.subjects)\n"
   ]
  },
  {
   "cell_type": "markdown",
   "id": "5e01a55a-5dcb-49ee-84d7-95f117c9a423",
   "metadata": {},
   "source": [
    "#### 18. What is the purpose of the `__del__` method in Python classes, and how does it relate to constructors?"
   ]
  },
  {
   "cell_type": "code",
   "execution_count": 6,
   "id": "b6406ae5-afc2-4133-a3e8-943dd5751d3e",
   "metadata": {},
   "outputs": [],
   "source": [
    "'''\n",
    "The __del__ method in Python classes serves as a destructor, and it is called when an object is about to be destroyed or garbage collected. \n",
    "It is the counterpart to the constructor __init__() method, which is called when an object is created.\n",
    "\n",
    "They are complementary methods used to manage the lifecycle of objects in Python classes. \n",
    "However, it's important to note that relying on __del__ for cleanup is not always recommended, \n",
    "as it may not be predictable or reliable due to the garbage collection mechanism in Python. \n",
    "It's often better to use context managers (with statement) or explicitly defined cleanup methods for resource management.\n",
    "''';"
   ]
  },
  {
   "cell_type": "markdown",
   "id": "280ba772-2cf2-43de-9a14-5550bcc282af",
   "metadata": {},
   "source": [
    "#### 19. Explain the use of constructor chaining in Python. Provide a practical example."
   ]
  },
  {
   "cell_type": "code",
   "execution_count": 7,
   "id": "f8c279ba-9b88-41fc-85e0-7d0ab3b2d9df",
   "metadata": {},
   "outputs": [
    {
     "name": "stdout",
     "output_type": "stream",
     "text": [
      "Parent constructor\n",
      "Child constructor\n"
     ]
    }
   ],
   "source": [
    "# Constructor chaining in Python refers to the process of calling one constructor from another constructor within the same class hierarchy. \n",
    "# This allows you to reuse code and avoid duplicating initialization logic.\n",
    "\n",
    "class Parent:\n",
    "    def __init__(self):\n",
    "        print(\"Parent constructor\")\n",
    "\n",
    "class Child(Parent):\n",
    "    def __init__(self):\n",
    "        super().__init__()  # Call parent constructor\n",
    "        print(\"Child constructor\")\n",
    "\n",
    "child = Child()\n"
   ]
  },
  {
   "cell_type": "markdown",
   "id": "2849586c-413d-4808-bbab-6affc640e6dd",
   "metadata": {},
   "source": [
    "#### 20. Create a Python class called `Car` with a default constructor that initializes the `make` and `model` attributes. Provide a method to display car information."
   ]
  },
  {
   "cell_type": "code",
   "execution_count": 8,
   "id": "7bbc281b-95d3-40c9-a20c-70a7dbfb07c4",
   "metadata": {},
   "outputs": [
    {
     "name": "stdout",
     "output_type": "stream",
     "text": [
      "Car: Toyota Camry\n"
     ]
    }
   ],
   "source": [
    "class Car:\n",
    "    def __init__(self, make, model):\n",
    "        self.make = make\n",
    "        self.model = model\n",
    "\n",
    "    def display_info(self):\n",
    "        print(f\"Car: {self.make} {self.model}\")\n",
    "\n",
    "car1 = Car(\"Toyota\", \"Camry\")\n",
    "car1.display_info()  \n"
   ]
  },
  {
   "cell_type": "markdown",
   "id": "d46a6c9c-1a33-43f5-8b26-71ef2ad2be1b",
   "metadata": {},
   "source": [
    "# Inheritance:"
   ]
  },
  {
   "cell_type": "markdown",
   "id": "e352f481-a8e5-40e0-a0dc-126519372a50",
   "metadata": {},
   "source": [
    "#### 1. What is inheritance in Python? Explain its significance in object-oriented programming."
   ]
  },
  {
   "cell_type": "code",
   "execution_count": 9,
   "id": "dbc89b57-254a-48ae-8be0-1d642367a62b",
   "metadata": {},
   "outputs": [],
   "source": [
    "'''\n",
    "Inheritance in Python is a mechanism where a new class inherits properties and behaviors (attributes and methods) from an existing class. \n",
    "The existing class is called the base class or superclass, and the new class is called the derived class or subclass. \n",
    "Inheritance allows the subclass to reuse code from the superclass, promoting code reusability and extensibility in object-oriented programming.\n",
    "\n",
    "Significance of inheritance in object-oriented programming:\n",
    "\n",
    "1. Code Reusability: Inheritance allows the subclass to inherit attributes and methods from the superclass, reducing code duplication. \n",
    "Common functionalities can be implemented in a superclass and reused in multiple subclasses.\n",
    "\n",
    "2. Extensibility: Subclasses can extend the functionality of the superclass by adding new attributes and methods or by overriding existing methods. \n",
    "This promotes modular and scalable code development.\n",
    "\n",
    "3. Hierarchy and Organization: Inheritance facilitates the creation of a hierarchical structure of classes, where classes are organized based on their relationships. \n",
    "This enhances code readability and maintainability by representing real-world relationships more accurately.\n",
    "\n",
    "4. Polymorphism: Inheritance enables polymorphic behavior, where objects of different classes can be treated uniformly through the use of superclass references. \n",
    "This simplifies code and promotes flexibility in designing systems.\n",
    "\n",
    "Inheritance is a fundamental concept in object-oriented programming that promotes code reusability, extensibility, hierarchy, and polymorphism. \n",
    "It allows developers to build modular, scalable, and maintainable software systems by leveraging existing code and organizing classes in a meaningful hierarchy.\n",
    "''';"
   ]
  },
  {
   "cell_type": "markdown",
   "id": "3500cfad-09a1-4dfe-9868-1d03f02945b1",
   "metadata": {},
   "source": [
    "#### 2. Differentiate between single inheritance and multiple inheritance in Python. Provide examples for each."
   ]
  },
  {
   "cell_type": "code",
   "execution_count": 3,
   "id": "1612c01f-ee0e-4276-852b-cae39f8753bb",
   "metadata": {},
   "outputs": [
    {
     "name": "stdout",
     "output_type": "stream",
     "text": [
      "Animal speaks\n",
      "Dog barks\n",
      "Animal speaks\n",
      "Bird chirps\n",
      "Flying\n"
     ]
    }
   ],
   "source": [
    "# In Python, inheritance allows a class to inherit attributes and methods from one or more parent classes. \n",
    "\n",
    "# Single Inheritance:\n",
    "# In single inheritance, a subclass inherits from only one superclass.\n",
    "# It forms a single parent-child relationship between classes.\n",
    "# Single inheritance is simpler and more straightforward than multiple inheritance.\n",
    "# Example:\n",
    "class Animal:\n",
    "    def speak(self):\n",
    "        print(\"Animal speaks\")\n",
    "\n",
    "class Dog(Animal):\n",
    "    def bark(self):\n",
    "        print(\"Dog barks\")\n",
    "\n",
    "dog = Dog()\n",
    "dog.speak()  \n",
    "dog.bark()  \n",
    "\n",
    "\n",
    "# Multiple Inheritance:\n",
    "# In multiple inheritance, a subclass inherits from more than one superclass.\n",
    "# It forms a hierarchy where a subclass can inherit attributes and methods from multiple parent classes.\n",
    "# Multiple inheritance provides more flexibility but can lead to complex class hierarchies and potential diamond inheritance issues.\n",
    "# Example:\n",
    "class Flyable:\n",
    "    def fly(self):\n",
    "        print(\"Flying\")\n",
    "\n",
    "class Animal:\n",
    "    def speak(self):\n",
    "        print(\"Animal speaks\")\n",
    "\n",
    "class Bird(Animal, Flyable):\n",
    "    def chirp(self):\n",
    "        print(\"Bird chirps\")\n",
    "\n",
    "bird = Bird()\n",
    "bird.speak()  \n",
    "bird.chirp()  \n",
    "bird.fly()    \n"
   ]
  },
  {
   "cell_type": "markdown",
   "id": "45aba0ae-6b16-4758-b8d4-25db3f7ff518",
   "metadata": {},
   "source": [
    "#### 3. Create a Python class called `Vehicle` with attributes `color` and `speed`. Then, create a child class called `Car` that inherits from `Vehicle` and adds a `brand` attribute. Provide an example of creating a `Car` object."
   ]
  },
  {
   "cell_type": "code",
   "execution_count": 4,
   "id": "6e3ba273-35fc-4295-a6aa-9da1a0b89788",
   "metadata": {},
   "outputs": [
    {
     "name": "stdout",
     "output_type": "stream",
     "text": [
      "Car color: Red\n",
      "Car speed: 100\n",
      "Car brand: Toyota\n"
     ]
    }
   ],
   "source": [
    "class Vehicle:\n",
    "    def __init__(self, color, speed):\n",
    "        self.color = color\n",
    "        self.speed = speed\n",
    "\n",
    "class Car(Vehicle):\n",
    "    def __init__(self, color, speed, brand):\n",
    "        super().__init__(color, speed)\n",
    "        self.brand = brand\n",
    "\n",
    "car = Car(\"Red\", 100, \"Toyota\")\n",
    "print(\"Car color:\", car.color)\n",
    "print(\"Car speed:\", car.speed)\n",
    "print(\"Car brand:\", car.brand)\n"
   ]
  },
  {
   "cell_type": "markdown",
   "id": "700dedd7-9231-42f9-9b01-54ff9383b2b6",
   "metadata": {},
   "source": [
    "#### 4. Explain the concept of method overriding in inheritance. Provide a practical example."
   ]
  },
  {
   "cell_type": "code",
   "execution_count": 5,
   "id": "d86a4a4f-6db5-4ecf-a55a-fc609bec5e4a",
   "metadata": {},
   "outputs": [
    {
     "name": "stdout",
     "output_type": "stream",
     "text": [
      "Woof!\n",
      "Meow!\n"
     ]
    }
   ],
   "source": [
    "# Method overriding is a concept in object-oriented programming where a subclass provides a specific \n",
    "# implementation of a method that is already defined in its superclass. \n",
    "# This allows the subclass to customize the behavior of inherited methods to better suit its own requirements. \n",
    "# When a method is overridden in a subclass, the method in the superclass with the same name and signature is replaced by the method in the subclass.\n",
    "\n",
    "class Animal:\n",
    "    def make_sound(self):\n",
    "        print(\"Generic animal sound\")\n",
    "\n",
    "class Dog(Animal):\n",
    "    def make_sound(self):\n",
    "        print(\"Woof!\")\n",
    "\n",
    "class Cat(Animal):\n",
    "    def make_sound(self):\n",
    "        print(\"Meow!\")\n",
    "\n",
    "# Create instances of Dog and Cat\n",
    "dog = Dog()\n",
    "cat = Cat()\n",
    "\n",
    "# Call the overridden method\n",
    "dog.make_sound()  \n",
    "cat.make_sound()  \n"
   ]
  },
  {
   "cell_type": "markdown",
   "id": "7ab9e183-d8ed-408a-94d4-dc7db942e010",
   "metadata": {},
   "source": [
    "#### 5. How can you access the methods and attributes of a parent class from a child class in Python? Give an example."
   ]
  },
  {
   "cell_type": "code",
   "execution_count": 6,
   "id": "1e943a45-4f36-4014-9954-1d9dfc5cc64d",
   "metadata": {},
   "outputs": [
    {
     "name": "stdout",
     "output_type": "stream",
     "text": [
      "Hello, I'm Alice\n",
      "My name is Alice and I'm 10 years old\n"
     ]
    }
   ],
   "source": [
    "# In Python, we can access the methods and attributes of a parent class from a child class using the super() function. \n",
    "# This allows us to call methods or access attributes defined in the parent class within the context of the child class.\n",
    "\n",
    "class Parent:\n",
    "    def __init__(self, name):\n",
    "        self.name = name\n",
    "\n",
    "    def greet(self):\n",
    "        print(f\"Hello, I'm {self.name}\")\n",
    "\n",
    "class Child(Parent):\n",
    "    def __init__(self, name, age):\n",
    "        super().__init__(name)  # Call parent class constructor\n",
    "        self.age = age\n",
    "\n",
    "    def introduce(self):\n",
    "        print(f\"My name is {self.name} and I'm {self.age} years old\")\n",
    "\n",
    "# Create an instance of the Child class\n",
    "child = Child(\"Alice\", 10)\n",
    "\n",
    "# Access methods and attributes of the parent class from the child class\n",
    "child.greet()  \n",
    "child.introduce()  \n"
   ]
  },
  {
   "cell_type": "markdown",
   "id": "b45ea944-cbb0-4c88-88e2-5e5dcae95f76",
   "metadata": {},
   "source": [
    "#### 6. Discuss the use of the `super()` function in Python inheritance. When and why is it used? Provide an example."
   ]
  },
  {
   "cell_type": "code",
   "execution_count": 7,
   "id": "5bf0dc27-9cbf-441a-80cd-1ac0566cdc97",
   "metadata": {},
   "outputs": [
    {
     "name": "stdout",
     "output_type": "stream",
     "text": [
      "Parent's method\n",
      "Child's method\n"
     ]
    }
   ],
   "source": [
    "# The super() function in Python is used to access methods of a parent class. \n",
    "# It is used in method overriding in Python's inheritance.\n",
    "\n",
    "# When a child class overrides a method of its parent class, it can use super() to call the overridden method of the parent class. \n",
    "# This is useful when you want to extend the behavior of the parent class's method in the child class.\n",
    "\n",
    "# Here is an example:\n",
    "class Parent:\n",
    "    def method(self):\n",
    "        print(\"Parent's method\")\n",
    "\n",
    "class Child(Parent):\n",
    "    def method(self):\n",
    "        super().method()  # Calls the method of the parent class\n",
    "        print(\"Child's method\")\n",
    "\n",
    "child = Child()\n",
    "child.method()"
   ]
  },
  {
   "cell_type": "markdown",
   "id": "14b08a35-e55c-462e-9cde-869fe7dd75a5",
   "metadata": {},
   "source": [
    "#### 7. Create a Python class called `Animal` with a method `speak()`. Then, create child classes `Dog` and `Cat` that inherit from `Animal` and override the `speak()` method. Provide an example of using these classes."
   ]
  },
  {
   "cell_type": "code",
   "execution_count": 8,
   "id": "9d3b77f6-867f-4e33-bc23-4d0207849fc8",
   "metadata": {},
   "outputs": [
    {
     "name": "stdout",
     "output_type": "stream",
     "text": [
      "Woof!\n",
      "Meow!\n"
     ]
    }
   ],
   "source": [
    "class Animal:\n",
    "    def speak(self):\n",
    "        pass  # Placeholder method, overridden by subclasses\n",
    "\n",
    "class Dog(Animal):\n",
    "    def speak(self):\n",
    "        return \"Woof!\"\n",
    "\n",
    "class Cat(Animal):\n",
    "    def speak(self):\n",
    "        return \"Meow!\"\n",
    "\n",
    "dog = Dog()\n",
    "cat = Cat()\n",
    "\n",
    "print(dog.speak())  \n",
    "print(cat.speak())  \n"
   ]
  },
  {
   "cell_type": "markdown",
   "id": "39c97c07-8c99-43d1-9914-a84d3c7e75c1",
   "metadata": {},
   "source": [
    "#### 8. Explain the role of the `isinstance()` function in Python and how it relates to inheritance."
   ]
  },
  {
   "cell_type": "code",
   "execution_count": 9,
   "id": "4af92b7f-3617-4a54-95f9-12c2b1c5b778",
   "metadata": {},
   "outputs": [
    {
     "name": "stdout",
     "output_type": "stream",
     "text": [
      "Woof!\n",
      "Meow!\n"
     ]
    }
   ],
   "source": [
    "# In Python, the isinstance() function is used to determine whether an object is an instance of a particular class or subclass. \n",
    "# It takes two parameters: the object to be checked and the class (or tuple of classes) to check against.\n",
    "\n",
    "# The isinstance() function is particularly useful in scenarios involving inheritance because it allows you to check \n",
    "# if an object is an instance of a specific class or any of its subclasses. \n",
    "# This is beneficial in situations where you have a hierarchy of classes and you need to perform different actions based on the type of object.\n",
    "\n",
    "class Animal:\n",
    "    def speak(self):\n",
    "        pass\n",
    "\n",
    "class Dog(Animal):\n",
    "    def speak(self):\n",
    "        return \"Woof!\"\n",
    "\n",
    "class Cat(Animal):\n",
    "    def speak(self):\n",
    "        return \"Meow!\"\n",
    "\n",
    "def make_sound(animal):\n",
    "    if isinstance(animal, Animal):\n",
    "        return animal.speak()\n",
    "    else:\n",
    "        return \"Unknown animal!\"\n",
    "\n",
    "dog = Dog()\n",
    "cat = Cat()\n",
    "print(make_sound(dog))  \n",
    "print(make_sound(cat))  \n"
   ]
  },
  {
   "cell_type": "markdown",
   "id": "7f329891-5596-4ebf-a165-6c35f162cd81",
   "metadata": {},
   "source": [
    "#### 9. What is the purpose of the `issubclass()` function in Python? Provide an example."
   ]
  },
  {
   "cell_type": "code",
   "execution_count": 10,
   "id": "069a03d0-bda2-4fea-8a7d-50d7a7d6fcea",
   "metadata": {},
   "outputs": [
    {
     "name": "stdout",
     "output_type": "stream",
     "text": [
      "True\n",
      "False\n"
     ]
    }
   ],
   "source": [
    "# The issubclass() function in Python is used to determine whether one class is a subclass of another class. \n",
    "# It takes two arguments: the potential subclass and the potential superclass. \n",
    "# It returns True if the first class is indeed a subclass of the second class, and False otherwise.\n",
    "\n",
    "class Animal:\n",
    "    pass\n",
    "\n",
    "class Dog(Animal):\n",
    "    pass\n",
    "\n",
    "# Check if Dog is a subclass of Animal\n",
    "print(issubclass(Dog, Animal))  \n",
    "\n",
    "# Check if Animal is a subclass of Dog (Animal is not a subclass of Dog)\n",
    "print(issubclass(Animal, Dog))  \n"
   ]
  },
  {
   "cell_type": "markdown",
   "id": "864564b6-da55-4055-9450-ad4877b76416",
   "metadata": {},
   "source": [
    "#### 10. Discuss the concept of constructor inheritance in Python. How are constructors inherited in child classes?"
   ]
  },
  {
   "cell_type": "code",
   "execution_count": 11,
   "id": "6dc2186a-413d-44f3-bcfa-d6feab5e5858",
   "metadata": {},
   "outputs": [
    {
     "name": "stdout",
     "output_type": "stream",
     "text": [
      "Alice\n"
     ]
    }
   ],
   "source": [
    "# In Python, when a child class is created, it can inherit the behavior and attributes of its parent class, including constructors. \n",
    "# Constructor inheritance refers to the process by which child classes automatically inherit the constructor (init method) from their parent class.\n",
    "\n",
    "# When a child class is instantiated, Python first looks for an init method within the child class itself. \n",
    "# If it doesn't find one, it will move up the class hierarchy to the parent classes, searching for an init method to use for initialization.\n",
    "\n",
    "# If the child class doesn't define its own init method, Python will automatically call the init method of its parent class (or the closest \n",
    "# ancestor class that has an init method). \n",
    "# This means that the child class inherits the constructor from its parent class and can benefit from the initialization logic defined in the parent class.\n",
    "\n",
    "class Parent:\n",
    "    def __init__(self, name):\n",
    "        self.name = name\n",
    "\n",
    "class Child(Parent):\n",
    "    pass\n",
    "\n",
    "# Creating an instance of Child\n",
    "child = Child(\"Alice\")\n",
    "\n",
    "# Accessing the 'name' attribute initialized by the Parent class constructor\n",
    "print(child.name) \n"
   ]
  },
  {
   "cell_type": "markdown",
   "id": "7fb02318-13d0-4b3b-85a4-997866a909cd",
   "metadata": {},
   "source": [
    "#### 11. Create a Python class called `Shape` with a method `area()` that calculates the area of a shape. Then, create child classes `Circle` and `Rectangle` that inherit from `Shape` and implement the `area()` method accordingly. Provide an example."
   ]
  },
  {
   "cell_type": "code",
   "execution_count": 12,
   "id": "51b78a1b-0379-40a6-8a46-cd0856354991",
   "metadata": {},
   "outputs": [
    {
     "name": "stdout",
     "output_type": "stream",
     "text": [
      "Area of circle: 78.53981633974483\n",
      "Area of rectangle: 24\n"
     ]
    }
   ],
   "source": [
    "import math\n",
    "\n",
    "class Shape:\n",
    "    def area(self):\n",
    "        pass  # Placeholder method to be overridden by child classes\n",
    "\n",
    "class Circle(Shape):\n",
    "    def __init__(self, radius):\n",
    "        self.radius = radius\n",
    "\n",
    "    def area(self):\n",
    "        return math.pi * self.radius ** 2\n",
    "\n",
    "class Rectangle(Shape):\n",
    "    def __init__(self, width, height):\n",
    "        self.width = width\n",
    "        self.height = height\n",
    "\n",
    "    def area(self):\n",
    "        return self.width * self.height\n",
    "\n",
    "circle = Circle(5)\n",
    "print(\"Area of circle:\", circle.area())  \n",
    "\n",
    "rectangle = Rectangle(4, 6)\n",
    "print(\"Area of rectangle:\", rectangle.area())  \n"
   ]
  },
  {
   "cell_type": "markdown",
   "id": "8083823c-2bf6-4b6b-97a9-85314393e0b9",
   "metadata": {},
   "source": [
    "#### 12. Explain the use of abstract base classes (ABCs) in Python and how they relate to inheritance. Provide an example using the `abc` module."
   ]
  },
  {
   "cell_type": "code",
   "execution_count": 13,
   "id": "399defac-2dec-4230-9183-38b4037e0230",
   "metadata": {},
   "outputs": [
    {
     "name": "stdout",
     "output_type": "stream",
     "text": [
      "Area of circle: 78.5\n",
      "Area of rectangle: 24\n"
     ]
    }
   ],
   "source": [
    "# Abstract Base Classes (ABCs) in Python provide a way to define interfaces or blueprints for classes, \n",
    "# without necessarily providing implementations for all methods. \n",
    "# They serve as a guide for subclasses to follow, ensuring that certain methods are implemented.\n",
    "\n",
    "from abc import ABC, abstractmethod\n",
    "\n",
    "class Shape(ABC):\n",
    "    @abstractmethod\n",
    "    def area(self):\n",
    "        pass\n",
    "\n",
    "class Circle(Shape):\n",
    "    def __init__(self, radius):\n",
    "        self.radius = radius\n",
    "\n",
    "    def area(self):\n",
    "        return 3.14 * self.radius ** 2\n",
    "\n",
    "class Rectangle(Shape):\n",
    "    def __init__(self, width, height):\n",
    "        self.width = width\n",
    "        self.height = height\n",
    "\n",
    "    def area(self):\n",
    "        return self.width * self.height\n",
    "\n",
    "# Instantiate objects and calculate areas\n",
    "circle = Circle(5)\n",
    "rectangle = Rectangle(4, 6)\n",
    "\n",
    "print(\"Area of circle:\", circle.area())      \n",
    "print(\"Area of rectangle:\", rectangle.area()) \n",
    "\n",
    "\n",
    "# Shape is defined as an abstract base class using the ABC class from the abc module.\n",
    "# It contains an abstract method area(), marked with @abstractmethod. Subclasses must implement this method.\n",
    "# The Circle and Rectangle classes inherit from Shape and provide concrete implementations of the area() method.\n",
    "# When instantiating objects of Circle and Rectangle, we can call the area() method directly, and \n",
    "# it will invoke the appropriate implementation from the respective subclass."
   ]
  },
  {
   "cell_type": "markdown",
   "id": "ba320aaf-3707-44a0-9fe6-9fb42f75d6dc",
   "metadata": {},
   "source": [
    "#### 13. How can you prevent a child class from modifying certain attributes or methods inherited from a parent class in Python?"
   ]
  },
  {
   "cell_type": "code",
   "execution_count": 20,
   "id": "5cc98222-d3d8-4b3d-aeb6-f8adf6a4c6b8",
   "metadata": {},
   "outputs": [],
   "source": [
    "# In Python, we can prevent a child class from modifying certain attributes or methods inherited from a parent class by making those attributes or methods private.\n",
    "\n",
    "class Parent:\n",
    "    def __init__(self):\n",
    "        self.__private_attr = 10  # Private attribute\n",
    "\n",
    "    def __private_method(self):  # Private method\n",
    "        pass\n",
    "\n",
    "class Child(Parent):\n",
    "    def __init__(self):\n",
    "        super().__init__()\n",
    "        # Trying to modify private attribute or call private method will raise an AttributeError\n",
    "        # self.__private_attr = 20  # This will raise AttributeError\n",
    "        # self.__private_method()    # This will raise AttributeError\n",
    "        \n",
    "child = Child()"
   ]
  },
  {
   "cell_type": "markdown",
   "id": "281fdf94-c9eb-4d6d-af3a-ac717383cac7",
   "metadata": {},
   "source": [
    "#### 14. Create a Python class called `Employee` with attributes `name` and `salary`. Then, create a child class `Manager` that inherits from `Employee` and adds an attribute `department`. Provide an example."
   ]
  },
  {
   "cell_type": "code",
   "execution_count": 22,
   "id": "9c4d4120-1337-43bc-979b-19bd4e382bdf",
   "metadata": {},
   "outputs": [
    {
     "name": "stdout",
     "output_type": "stream",
     "text": [
      "Employee: John Doe\n",
      "Salary: 50000\n",
      "\n",
      "Manager: Jane Smith\n",
      "Salary: 80000\n",
      "Department: HR\n"
     ]
    }
   ],
   "source": [
    "class Employee:\n",
    "    def __init__(self, name, salary):\n",
    "        self.name = name\n",
    "        self.salary = salary\n",
    "\n",
    "class Manager(Employee):\n",
    "    def __init__(self, name, salary, department):\n",
    "        super().__init__(name, salary)\n",
    "        self.department = department\n",
    "\n",
    "employee1 = Employee(\"John Doe\", 50000)\n",
    "print(\"Employee:\", employee1.name)\n",
    "print(\"Salary:\", employee1.salary)\n",
    "\n",
    "manager1 = Manager(\"Jane Smith\", 80000, \"HR\")\n",
    "print(\"\\nManager:\", manager1.name)\n",
    "print(\"Salary:\", manager1.salary)\n",
    "print(\"Department:\", manager1.department)\n"
   ]
  },
  {
   "cell_type": "markdown",
   "id": "302abfb1-6fca-4d34-a7e2-14d150aeb242",
   "metadata": {},
   "source": [
    "#### 15. Discuss the concept of method overloading in Python inheritance. How does it differ from method overriding?"
   ]
  },
  {
   "cell_type": "code",
   "execution_count": 24,
   "id": "6eabb01a-7706-47a7-8e91-ee61b9695539",
   "metadata": {},
   "outputs": [
    {
     "name": "stdout",
     "output_type": "stream",
     "text": [
      "Woof\n",
      "Meow\n"
     ]
    }
   ],
   "source": [
    "# Method overloading:\n",
    "\n",
    "# Method overloading refers to the ability to define multiple methods in a class with the same name but with different parameters.\n",
    "# In Python, method overloading is not directly supported like in some other programming languages (e.g., Java). \n",
    "# However, you can achieve similar behavior by using default parameter values or variable-length argument lists.\n",
    "# When a method is called, Python determines which version of the method to execute based on the number and type of arguments passed.\n",
    "\n",
    "class MyClass:\n",
    "    def method(self, x):\n",
    "        print(\"Method with one parameter\")\n",
    "\n",
    "    def method(self, x, y):\n",
    "        print(\"Method with two parameters\")\n",
    "\n",
    "# Attempting to call method with one parameter will raise an error\n",
    "obj = MyClass()\n",
    "# obj.method(5)\n",
    "\n",
    "# Method overriding:\n",
    "\n",
    "# Method overriding refers to the ability of a subclass to provide a specific implementation of a method that is already defined in its superclass.\n",
    "# When a method is overridden in a subclass, the subclass version of the method is called instead of the superclass version when the method is invoked on an instance of the subclass.\n",
    "# Method overriding is achieved by defining a method in the subclass with the same name and parameters as the method in the superclass.\n",
    "\n",
    "class Animal:\n",
    "    def make_sound(self):\n",
    "        print(\"Generic animal sound\")\n",
    "\n",
    "class Dog(Animal):\n",
    "    def make_sound(self):\n",
    "        print(\"Woof\")\n",
    "\n",
    "class Cat(Animal):\n",
    "    def make_sound(self):\n",
    "        print(\"Meow\")\n",
    "\n",
    "# Using method overriding\n",
    "dog = Dog()\n",
    "dog.make_sound()  \n",
    "\n",
    "cat = Cat()\n",
    "cat.make_sound()  \n",
    "\n"
   ]
  },
  {
   "cell_type": "markdown",
   "id": "030c029f-067c-4927-b05a-af1b5903ec89",
   "metadata": {},
   "source": [
    "#### 16. Explain the purpose of the `__init__()` method in Python inheritance and how it is utilized in child classes."
   ]
  },
  {
   "cell_type": "code",
   "execution_count": 26,
   "id": "354557c0-3d40-4757-bdd0-00cfcd4292f5",
   "metadata": {},
   "outputs": [
    {
     "name": "stdout",
     "output_type": "stream",
     "text": [
      "Canine\n",
      "Labrador\n",
      "Feline\n",
      "Siamese\n"
     ]
    }
   ],
   "source": [
    "# The __init__() method in Python is a special method, also known as a constructor, which is automatically called when a new instance of a class is created. \n",
    "# Its primary purpose is to initialize the object's attributes or perform any necessary setup when an object is instantiated.\n",
    "\n",
    "# In inheritance, when a child class is created, it can have its own __init__() method. \n",
    "# When an instance of the child class is created, its __init__() method is called, and it can perform its own initialization tasks.\n",
    "\n",
    "# The child class's __init__() method can also call the __init__() method of its parent class using the super() function, \n",
    "# allowing it to inherit and extend the initialization behavior of the parent class.\n",
    "\n",
    "class Animal:\n",
    "    def __init__(self, species):\n",
    "        self.species = species\n",
    "\n",
    "    def sound(self):\n",
    "        pass  # to be overridden in subclasses\n",
    "\n",
    "class Dog(Animal):\n",
    "    def __init__(self, species, breed):\n",
    "        super().__init__(species)\n",
    "        self.breed = breed\n",
    "\n",
    "    def sound(self):\n",
    "        return \"Woof\"\n",
    "\n",
    "class Cat(Animal):\n",
    "    def __init__(self, species, color):\n",
    "        super().__init__(species)\n",
    "        self.color = color\n",
    "\n",
    "    def sound(self):\n",
    "        return \"Meow\"\n",
    "\n",
    "# Creating instances of child classes\n",
    "dog = Dog(\"Canine\", \"Labrador\")\n",
    "print(dog.species)  \n",
    "print(dog.breed)    \n",
    "\n",
    "cat = Cat(\"Feline\", \"Siamese\")\n",
    "print(cat.species)  \n",
    "print(cat.color)    \n"
   ]
  },
  {
   "cell_type": "markdown",
   "id": "638aea0e-f27a-4b00-a065-e47caa67cdd1",
   "metadata": {},
   "source": [
    "#### 17. Create a Python class called `Bird` with a method `fly()`. Then, create child classes `Eagle` and `Sparrow` that inherit from `Bird` and implement the `fly()` method differently. Provide an example of using these classes."
   ]
  },
  {
   "cell_type": "code",
   "execution_count": 27,
   "id": "d5ab8960-9f24-428b-a8cb-ab62f0f7c75f",
   "metadata": {},
   "outputs": [
    {
     "name": "stdout",
     "output_type": "stream",
     "text": [
      "Eagle: Soaring high\n",
      "Sparrow: Flitting through the air\n"
     ]
    }
   ],
   "source": [
    "class Bird:\n",
    "    def fly(self):\n",
    "        return \"Flying\"\n",
    "\n",
    "class Eagle(Bird):\n",
    "    def fly(self):\n",
    "        return \"Soaring high\"\n",
    "\n",
    "class Sparrow(Bird):\n",
    "    def fly(self):\n",
    "        return \"Flitting through the air\"\n",
    "\n",
    "# Create instances of child classes\n",
    "eagle = Eagle()\n",
    "print(\"Eagle:\", eagle.fly())  \n",
    "\n",
    "sparrow = Sparrow()\n",
    "print(\"Sparrow:\", sparrow.fly())  \n"
   ]
  },
  {
   "cell_type": "markdown",
   "id": "d854d980-9c05-403a-af3b-c4e90beb2efc",
   "metadata": {},
   "source": [
    "#### 18. What is the \"diamond problem\" in multiple inheritance, and how does Python address it?"
   ]
  },
  {
   "cell_type": "code",
   "execution_count": 28,
   "id": "dfa93e40-3b70-4e1b-8f25-5b69d7c6ee46",
   "metadata": {},
   "outputs": [],
   "source": [
    "# The \"diamond problem\" is a challenge that arises in programming languages that support multiple inheritance, \n",
    "# where a particular class inherits from two or more classes, and those parent classes have a common ancestor. \n",
    "# This common ancestor ends up being inherited more than once by the derived class, leading to ambiguity in method resolution or data attributes.\n",
    "\n",
    "# Python addresses this issue through a mechanism called Method Resolution Order (MRO) and the C3 linearization algorithm. \n",
    "# When a class hierarchy is created using multiple inheritance, Python calculates the order in which methods and attributes \n",
    "# will be resolved by examining the inheritance hierarchy. \n",
    "# This calculation ensures that each method or attribute is only inherited once, preserving a consistent and predictable behavior.\n",
    "\n",
    "# Python's super() function also plays a role in resolving the diamond problem. \n",
    "# It allows a method in a derived class to invoke the method of a superclass in a way that respects the method resolution order, \n",
    "# ensuring that each method is called exactly once in the inheritance chain.\n",
    "\n",
    "# By employing these mechanisms, Python effectively manages the diamond problem and ensures that multiple inheritance can be used safely and predictably."
   ]
  },
  {
   "cell_type": "markdown",
   "id": "bb0c1184-cc78-4b96-ab5e-084538273790",
   "metadata": {},
   "source": [
    "#### 19. Discuss the concept of \"is-a\" and \"has-a\" relationships in inheritance, and provide examples of each."
   ]
  },
  {
   "cell_type": "code",
   "execution_count": 30,
   "id": "a9f630eb-32cb-4e67-a4ec-12a53da1ecd7",
   "metadata": {},
   "outputs": [],
   "source": [
    "# In Python, like in other object-oriented programming languages, inheritance is a fundamental concept used to establish relationships between classes. \n",
    "# These relationships are often categorized into \"is-a\" and \"has-a\" relationships.\n",
    "\n",
    "# Is-a Relationship:\n",
    "# In an \"is-a\" relationship, a subclass is considered to be a specific type of its superclass. \n",
    "# This relationship signifies specialization and inheritance of properties and behaviors from the superclass.\n",
    "# In Python, this relationship is established using class inheritance.\n",
    "\n",
    "class Animal:\n",
    "    def sound(self):\n",
    "        pass\n",
    "\n",
    "class Dog(Animal):  # Dog is-a subclass of Animal\n",
    "    def sound(self):\n",
    "        return \"Woof!\"\n",
    "\n",
    "class Cat(Animal):  # Cat is-a subclass of Animal\n",
    "    def sound(self):\n",
    "        return \"Meow!\"\n",
    "\n",
    "# Has-a Relationship:\n",
    "\n",
    "# In a \"has-a\" relationship, a class contains another class as a component or part. \n",
    "# This relationship indicates composition, where one class \"has\" another class as a member variable or utilizes another class to perform some functionality.\n",
    "# In Python, this relationship is implemented through instance variables or class attributes.\n",
    "\n",
    "class Engine:\n",
    "    def start(self):\n",
    "        print(\"Engine started\")\n",
    "\n",
    "class Car:\n",
    "    def __init__(self):\n",
    "        self.engine = Engine()  # Car has-a Engine\n",
    "        \n",
    "    def start(self):\n",
    "        self.engine.start()\n",
    "\n",
    "        \n",
    "# \"is-a\" relationships are established through class inheritance, indicating specialization, \n",
    "# while \"has-a\" relationships are formed through composition, indicating that one class contains or utilizes another class."
   ]
  },
  {
   "cell_type": "markdown",
   "id": "ebbbfbf5-23a9-4ed4-9c1b-3a1bbd90e5f7",
   "metadata": {},
   "source": [
    "#### 20. Create a Python class hierarchy for a university system. Start with a base class `Person` and create child classes `Student` and `Professor`, each with their own attributes and methods. Provide an example of using these classes in a university context."
   ]
  },
  {
   "cell_type": "code",
   "execution_count": 31,
   "id": "ca84d2ad-3a45-4eea-b6ce-5cdd67f26825",
   "metadata": {},
   "outputs": [
    {
     "name": "stdout",
     "output_type": "stream",
     "text": [
      "Alice enrolled in Mathematics\n",
      "Alice enrolled in Computer Science\n",
      "Professor Dr. Smith assigned grade A to Alice for Mathematics\n",
      "Student: Alice, 20 years old, Female, ID: S12345\n",
      "Professor: Dr. Smith, 45 years old, Male, Employee ID: P98765, Department: Computer Science\n"
     ]
    }
   ],
   "source": [
    "class Person:\n",
    "    def __init__(self, name, age, gender):\n",
    "        self.name = name\n",
    "        self.age = age\n",
    "        self.gender = gender\n",
    "    \n",
    "    def __str__(self):\n",
    "        return f\"{self.name}, {self.age} years old, {self.gender}\"\n",
    "\n",
    "class Student(Person):\n",
    "    def __init__(self, name, age, gender, student_id):\n",
    "        super().__init__(name, age, gender)\n",
    "        self.student_id = student_id\n",
    "        self.courses = []\n",
    "    \n",
    "    def enroll_course(self, course):\n",
    "        self.courses.append(course)\n",
    "        print(f\"{self.name} enrolled in {course}\")\n",
    "    \n",
    "    def __str__(self):\n",
    "        return f\"Student: {super().__str__()}, ID: {self.student_id}\"\n",
    "\n",
    "class Professor(Person):\n",
    "    def __init__(self, name, age, gender, employee_id, department):\n",
    "        super().__init__(name, age, gender)\n",
    "        self.employee_id = employee_id\n",
    "        self.department = department\n",
    "    \n",
    "    def assign_grade(self, student, course, grade):\n",
    "        print(f\"Professor {self.name} assigned grade {grade} to {student.name} for {course}\")\n",
    "    \n",
    "    def __str__(self):\n",
    "        return f\"Professor: {super().__str__()}, Employee ID: {self.employee_id}, Department: {self.department}\"\n",
    "\n",
    "    \n",
    "# Creating student and professor instances\n",
    "student1 = Student(\"Alice\", 20, \"Female\", \"S12345\")\n",
    "professor1 = Professor(\"Dr. Smith\", 45, \"Male\", \"P98765\", \"Computer Science\")\n",
    "\n",
    "# Enrolling student in courses\n",
    "student1.enroll_course(\"Mathematics\")\n",
    "student1.enroll_course(\"Computer Science\")\n",
    "\n",
    "# Assigning grade by professor\n",
    "professor1.assign_grade(student1, \"Mathematics\", \"A\")\n",
    "\n",
    "print(student1)\n",
    "print(professor1)\n"
   ]
  },
  {
   "cell_type": "markdown",
   "id": "b9bc795a-354c-40b2-9ec5-c1b590452529",
   "metadata": {},
   "source": [
    "# Encapsulation:"
   ]
  },
  {
   "cell_type": "markdown",
   "id": "ae9d33c7-bff1-405d-89dc-de900f4fc183",
   "metadata": {},
   "source": [
    "#### 1. Explain the concept of encapsulation in Python. What is its role in object-oriented programming?"
   ]
  },
  {
   "cell_type": "code",
   "execution_count": 33,
   "id": "2de0d84f-51ca-4c5d-8bcd-bb36dc92c1f0",
   "metadata": {},
   "outputs": [
    {
     "name": "stdout",
     "output_type": "stream",
     "text": [
      "100\n",
      "150\n"
     ]
    }
   ],
   "source": [
    "# Encapsulation is a fundamental concept in object-oriented programming (OOP) that refers to the idea of bundling data and \n",
    "# methods that operate on that data within a single unit, called a class or object. \n",
    "# In other words, encapsulation is the process of hiding the implementation details of an object from the outside world and \n",
    "# only exposing a public interface through which other objects can interact with it.\n",
    "\n",
    "# In Python, encapsulation is achieved through the use of classes and objects. \n",
    "# A class defines the structure and behavior of an object, and an object is an instance of a class. \n",
    "# The attributes (data) and methods of a class are encapsulated within the class, and the class provides a public interface through which \n",
    "# other objects can interact with it.\n",
    "\n",
    "# Example:\n",
    "class BankAccount:\n",
    "    def __init__(self, balance=0):\n",
    "        self.__balance = balance\n",
    "\n",
    "    def deposit(self, amount):\n",
    "        self.__balance += amount\n",
    "\n",
    "    def get_balance(self):\n",
    "        return self.__balance\n",
    "\n",
    "account = BankAccount(100)\n",
    "print(account.get_balance())  \n",
    "account.deposit(50)\n",
    "print(account.get_balance())  \n",
    "\n",
    "# In this example, the BankAccount class encapsulates the balance attribute and provides a public interface through \n",
    "# the get_balance and deposit methods. \n",
    "# The balance attribute is private and can only be accessed through the public methods.\n",
    "\n",
    "# The role of encapsulation in object-oriented programming is multifaceted:\n",
    "\n",
    "# Data Hiding: Encapsulation allows you to hide the internal implementation details of an object from the outside world. \n",
    "# This helps to reduce coupling between objects and makes it easier to change the implementation details without affecting other parts of the program.\n",
    "# Abstraction: Encapsulation provides a level of abstraction by exposing only the necessary information to the outside world, \n",
    "# while keeping the internal implementation details private. This helps to reduce complexity and makes it easier to understand and use the object.\n",
    "# Code Reusability: Encapsulation enables code reusability by allowing you to create objects that can be used in different contexts without \n",
    "# modifying their internal implementation.\n",
    "# Improved Code Organization: Encapsulation helps to organize code by grouping related data and methods together, \n",
    "# making it easier to understand and maintain the code.\n",
    "# Improved Security: Encapsulation provides a layer of security by hiding sensitive data and preventing unauthorized access to it."
   ]
  },
  {
   "cell_type": "markdown",
   "id": "a2c115e5-7fcf-446b-a513-387108263bed",
   "metadata": {},
   "source": [
    "#### 2. Describe the key principles of encapsulation, including access control and data hiding."
   ]
  },
  {
   "cell_type": "code",
   "execution_count": 34,
   "id": "61b33863-88f6-49a9-898b-90c73eeff3c6",
   "metadata": {},
   "outputs": [],
   "source": [
    "# The key principles of encapsulation are:\n",
    "\n",
    "# Access Control: Encapsulation provides access control by controlling the access to the data and methods of an object. \n",
    "# This is achieved through the use of access modifiers such as public, private, and protected.\n",
    "# 1. Public: Public members are accessible from anywhere in the program.\n",
    "# 2. Private: Private members are accessible only within the same class.\n",
    "# 3. Protected: Protected members are accessible within the same class and its subclasses.\n",
    "# Data Hiding: Encapsulation hides the implementation details of an object from the outside world. \n",
    "# This means that the internal state of an object is not directly accessible from outside the object.\n",
    "# Data Abstraction: Encapsulation provides abstraction by exposing only the necessary information to the outside world, \n",
    "# while keeping the internal implementation details private.\n",
    "# Information Hiding: Encapsulation hides the internal implementation details of an object from the outside world. \n",
    "# This means that the internal state of an object is not directly accessible from outside the object.\n",
    "# Encapsulation of Behavior: Encapsulation also encapsulates the behavior of an object, which means that the methods and \n",
    "# operations that can be performed on an object are also hidden from the outside world.\n",
    "# Single Responsibility Principle: Encapsulation follows the Single Responsibility Principle, \n",
    "# which states that a class should have only one reason to change. \n",
    "# This means that a class should have only one responsibility or single purpose.\n",
    "# Separation of Concerns: Encapsulation separates the concerns of an object into different classes or modules, \n",
    "# which makes it easier to maintain and modify the code."
   ]
  },
  {
   "cell_type": "markdown",
   "id": "1276666a-5902-49e6-820a-1fa47a05a69b",
   "metadata": {},
   "source": [
    "#### 3. How can you achieve encapsulation in Python classes? Provide an example."
   ]
  },
  {
   "cell_type": "code",
   "execution_count": 38,
   "id": "60d7b568-db7f-4d8b-bb19-adae27b7d483",
   "metadata": {},
   "outputs": [
    {
     "name": "stdout",
     "output_type": "stream",
     "text": [
      "100\n",
      "150\n",
      "130\n",
      "100\n"
     ]
    }
   ],
   "source": [
    "# Encapsulation in Python classes is achieved by using the __ (double underscore) prefix to make attributes private, \n",
    "# and the @property decorator to create getter and setter methods for attributes.\n",
    "\n",
    "class BankAccount:\n",
    "    def __init__(self, balance=0):\n",
    "        self.__balance = balance  # private variable\n",
    "\n",
    "    @property\n",
    "    def balance(self):\n",
    "        return self.__balance\n",
    "\n",
    "    @balance.setter\n",
    "    def balance(self, value):\n",
    "        if value < 0:\n",
    "            raise ValueError(\"Balance cannot be negative\")\n",
    "        self.__balance = value\n",
    "\n",
    "    def deposit(self, amount):\n",
    "        self.__balance += amount\n",
    "\n",
    "    def withdraw(self, amount):\n",
    "        if amount > self.__balance:\n",
    "            raise ValueError(\"Insufficient balance\")\n",
    "        self.__balance -= amount\n",
    "\n",
    "account = BankAccount(100)\n",
    "print(account.balance)  # getter is called\n",
    "account.deposit(50)  # deposit call\n",
    "print(account.balance)  # getter is called\n",
    "account.withdraw(20)  # withdraw call\n",
    "print(account.balance)  # getter is called\n",
    "account.balance = 100  # setter is called\n",
    "print(account.balance)"
   ]
  },
  {
   "cell_type": "markdown",
   "id": "f303972d-d331-428b-ba0d-18aede47b046",
   "metadata": {},
   "source": [
    "#### 4. Discuss the difference between public, private, and protected access modifiers in Python."
   ]
  },
  {
   "cell_type": "code",
   "execution_count": 39,
   "id": "93add58c-473e-4164-9a61-3401387a9d23",
   "metadata": {},
   "outputs": [],
   "source": [
    "# Public:\n",
    "# In Python, attributes and methods are public by default, meaning they can be accessed from outside the class without any restrictions.\n",
    "# Public attributes and methods are typically accessed using dot notation (object.attribute) or method invocation (object.method()).\n",
    "\n",
    "# Private:\n",
    "# Private attributes and methods are conventionally indicated by prefixing their names with a double underscore (__).\n",
    "# While Python doesn't strictly enforce private access, it performs name mangling on attributes and methods prefixed \n",
    "# with double underscores when accessed from outside the class. This means their names are altered in a way that makes them harder to access directly.\n",
    "# Private attributes and methods are intended to be accessed and modified only within the class itself, discouraging direct external access.\n",
    "\n",
    "# Protected:\n",
    "# Protected attributes and methods are conventionally indicated by prefixing their names with a single underscore (_).\n",
    "# Like public attributes and methods, protected ones can be accessed from outside the class, but their use is discouraged and considered to be part of \n",
    "# the class's internal implementation.\n",
    "# Protected attributes and methods are typically intended to be accessed and modified by subclasses or closely related classes rather than by external code."
   ]
  },
  {
   "cell_type": "markdown",
   "id": "673f98e8-d629-4a4e-ad73-4221d92ce879",
   "metadata": {},
   "source": [
    "#### 5. Create a Python class called `Person` with a private attribute `__name`. Provide methods to get and set the name attribute."
   ]
  },
  {
   "cell_type": "code",
   "execution_count": 40,
   "id": "a2b9014f-bbe3-4dcb-8fa8-37793d343b95",
   "metadata": {},
   "outputs": [
    {
     "name": "stdout",
     "output_type": "stream",
     "text": [
      "John\n",
      "Jane\n",
      "Name: Jane\n"
     ]
    }
   ],
   "source": [
    "class Person:\n",
    "    def __init__(self, name):\n",
    "        self.__name = name\n",
    "\n",
    "    @property\n",
    "    def name(self):\n",
    "        return self.__name\n",
    "\n",
    "    @name.setter\n",
    "    def name(self, value):\n",
    "        self.__name = value\n",
    "\n",
    "    def __str__(self):\n",
    "        return f\"Name: {self.__name}\"\n",
    "\n",
    "# Create a new Person object\n",
    "person = Person(\"John\")\n",
    "\n",
    "# Get the name\n",
    "print(person.name)  \n",
    "\n",
    "# Set the name\n",
    "person.name = \"Jane\"\n",
    "\n",
    "# Get the name again\n",
    "print(person.name)  \n",
    "\n",
    "# Print object\n",
    "print(person)"
   ]
  },
  {
   "cell_type": "markdown",
   "id": "85f02e16-0ee0-4bb3-9062-d51fb329bfb8",
   "metadata": {},
   "source": [
    "#### 6. Explain the purpose of getter and setter methods in encapsulation. Provide examples."
   ]
  },
  {
   "cell_type": "code",
   "execution_count": 42,
   "id": "f222fbf0-445c-421b-8ce1-7f84bffb2766",
   "metadata": {},
   "outputs": [
    {
     "name": "stdout",
     "output_type": "stream",
     "text": [
      "100\n",
      "200\n"
     ]
    }
   ],
   "source": [
    "# Getter and setter methods are used in encapsulation to control access to an object's attributes. \n",
    "# Getter methods are used to retrieve the value of an attribute, while setter methods are used to modify the value of an attribute.\n",
    "\n",
    "# The purpose of getter and setter methods is to:\n",
    "\n",
    "# Control Access: Getter and setter methods allow you to control who can access and modify an attribute. \n",
    "# You can restrict access to certain attributes or methods to ensure that only authorized users can modify them.\n",
    "# Validate Data: Getter and setter methods can validate the data being set or retrieved. \n",
    "# For example, you can check if a value is within a certain range or if it meets certain criteria.\n",
    "# Perform Additional Logic: Getter and setter methods can perform additional logic or operations when retrieving or setting an attribute. \n",
    "# For example, you can calculate a value or perform a calculation when retrieving an attribute.\n",
    "# Improve Code Readability: Getter and setter methods can improve code readability by providing a clear and concise way to access and modify attributes.\n",
    "\n",
    "class BankAccount:\n",
    "    def __init__(self, balance=0):\n",
    "        self.__balance = balance\n",
    "\n",
    "    @property\n",
    "    def balance(self):\n",
    "        return self.__balance\n",
    "\n",
    "    @balance.setter\n",
    "    def balance(self, value):\n",
    "        if value < 0:\n",
    "            raise ValueError(\"Balance cannot be negative\")\n",
    "        self.__balance = value\n",
    "\n",
    "account = BankAccount(100)\n",
    "print(account.balance)  \n",
    "account.balance = 200  \n",
    "print(account.balance)  \n",
    "\n",
    "# We are not accessing the private variable directly but using setter and getter to update/access self.__balance."
   ]
  },
  {
   "cell_type": "markdown",
   "id": "ae81828e-c8ed-4f7d-a7e2-884f3f46bc08",
   "metadata": {},
   "source": [
    "#### 7. What is name mangling in Python, and how does it affect encapsulation?"
   ]
  },
  {
   "cell_type": "code",
   "execution_count": 44,
   "id": "b3e8d746-6810-45ce-a410-ecd7c16c64d6",
   "metadata": {},
   "outputs": [
    {
     "name": "stdout",
     "output_type": "stream",
     "text": [
      "I am a nonmangled attribute\n",
      "I am a mangled attribute\n"
     ]
    }
   ],
   "source": [
    "# Name mangling in Python is a technique used to protect class-private and superclass-private attributes from being accidentally overwritten by subclasses. \n",
    "# Names of class-private and superclass-private attributes are transformed by the addition of a single leading underscore and a double leading underscore respectively.\n",
    "\n",
    "class MyClass:\n",
    "    def __init__(self):\n",
    "        self._nonmangled_attribute = \"I am a nonmangled attribute\"\n",
    "        self.__mangled_attribute = \"I am a mangled attribute\"\n",
    "\n",
    "my_object = MyClass()\n",
    "\n",
    "print(my_object._nonmangled_attribute) # Output: I am a nonmangled attribute\n",
    "# print(my_object.__mangled_attribute) # Throws an AttributeError\n",
    "print(my_object._MyClass__mangled_attribute) # Output: I am a mangled attribute\n",
    "\n",
    "# In the example above, the attribute _nonmangled_attribute is marked as nonmangled by convention, but can still be accessed from outside the class. \n",
    "# The attribute __mangled_attribute is private and its name is \"mangled\" to _MyClass__mangled_attribute, \n",
    "# so it can't be accessed directly from outside the class, but you can access it by calling _MyClass__mangled_attribute."
   ]
  },
  {
   "cell_type": "markdown",
   "id": "5c05e840-1a89-496c-82ef-cbcdbeeb831c",
   "metadata": {},
   "source": [
    "#### 8. Create a Python class called `BankAccount` with private attributes for the account balance (`__balance`) and account number (`__account_number`). Provide methods for depositing and withdrawing money."
   ]
  },
  {
   "cell_type": "code",
   "execution_count": 45,
   "id": "ae57b6a0-d784-4420-8bed-016054ed337d",
   "metadata": {},
   "outputs": [
    {
     "name": "stdout",
     "output_type": "stream",
     "text": [
      "1300\n",
      "123456\n",
      "Account Number: 123456, Balance: 1300\n"
     ]
    }
   ],
   "source": [
    "class BankAccount:\n",
    "    def __init__(self, account_number, initial_balance=0):\n",
    "        self.__account_number = account_number\n",
    "        self.__balance = initial_balance\n",
    "\n",
    "    def deposit(self, amount):\n",
    "        self.__balance += amount\n",
    "\n",
    "    def withdraw(self, amount):\n",
    "        if amount > self.__balance:\n",
    "            raise ValueError(\"Insufficient balance\")\n",
    "        self.__balance -= amount\n",
    "\n",
    "    def get_balance(self):\n",
    "        return self.__balance\n",
    "\n",
    "    def get_account_number(self):\n",
    "        return self.__account_number\n",
    "\n",
    "    def __str__(self):\n",
    "        return f\"Account Number: {self.__account_number}, Balance: {self.__balance}\"\n",
    "\n",
    "# Create a new BankAccount object\n",
    "account = BankAccount(\"123456\", 1000)\n",
    "\n",
    "# Deposit money\n",
    "account.deposit(500)\n",
    "\n",
    "# Withdraw money\n",
    "account.withdraw(200)\n",
    "\n",
    "# Get the balance\n",
    "print(account.get_balance())  \n",
    "\n",
    "# Get the account number\n",
    "print(account.get_account_number())  \n",
    "\n",
    "# Print the account information\n",
    "print(account)  "
   ]
  },
  {
   "cell_type": "markdown",
   "id": "207c5db7-3baa-4f56-b6af-9fdd6a0c6dc2",
   "metadata": {},
   "source": [
    "#### 9. Discuss the advantages of encapsulation in terms of code maintainability and security."
   ]
  },
  {
   "cell_type": "code",
   "execution_count": 46,
   "id": "02aca198-336e-45f2-8967-e4cf57706295",
   "metadata": {},
   "outputs": [],
   "source": [
    "# Code Maintainability:\n",
    "\n",
    "# Modularity: Encapsulation helps to break down a large program into smaller, independent modules that can be developed, tested, and maintained separately. \n",
    "# This makes it easier to understand and modify the code.\n",
    "# Reusability: Encapsulated code can be reused in other parts of the program or even in other projects, reducing code duplication and increasing efficiency.\n",
    "# Easier Debugging: With encapsulation, it's easier to identify and debug issues, as the internal implementation details are hidden from the outside world.\n",
    "# Improved Code Organization: Encapsulation helps to organize code in a logical and structured way, making it easier to understand and maintain.\n",
    "\n",
    "\n",
    "# Security:\n",
    "    \n",
    "# Data Hiding: Encapsulation helps to hide sensitive data and implementation details from the outside world, reducing the risk of unauthorized access or modification.\n",
    "# Access Control: Encapsulation provides a mechanism for controlling access to sensitive data and methods, ensuring that only authorized users can access or modify them.\n",
    "# Reduced Attack Surface: By hiding internal implementation details, encapsulation reduces the attack surface of the code, \n",
    "# making it harder for attackers to exploit vulnerabilities.\n",
    "# Improved Compliance: Encapsulation helps to ensure compliance with security regulations and standards, such as GDPR, HIPAA, and PCI-DSS."
   ]
  },
  {
   "cell_type": "markdown",
   "id": "795a70cd-1bfc-44c9-8172-d2385ae574bf",
   "metadata": {},
   "source": [
    "#### 10. How can you access private attributes in Python? Provide an example demonstrating the use of name mangling."
   ]
  },
  {
   "cell_type": "code",
   "execution_count": 47,
   "id": "48963826-8e31-4ff5-b188-16b65bafc221",
   "metadata": {},
   "outputs": [
    {
     "name": "stdout",
     "output_type": "stream",
     "text": [
      "Hello\n"
     ]
    }
   ],
   "source": [
    "# In Python, we can access private attributes using name mangling. \n",
    "# Name mangling is a mechanism in Python that modifies the name of a class attribute to make it harder to access from outside the class.\n",
    "\n",
    "class MyClass:\n",
    "    def __init__(self):\n",
    "        self.__my_attribute = \"Hello\"\n",
    "\n",
    "my_object = MyClass()\n",
    "print(my_object._MyClass__my_attribute)  "
   ]
  },
  {
   "cell_type": "markdown",
   "id": "afda4c1c-eb2f-4e87-ac21-745bb1518bf8",
   "metadata": {},
   "source": [
    "#### 11. Create a Python class hierarchy for a school system, including classes for students, teachers, and courses, and implement encapsulation principles to protect sensitive information."
   ]
  },
  {
   "cell_type": "code",
   "execution_count": 48,
   "id": "c8f3154f-0fe5-4c97-b9ab-b4a137851a3a",
   "metadata": {},
   "outputs": [
    {
     "name": "stdout",
     "output_type": "stream",
     "text": [
      "123456\n",
      "789012\n",
      "12345\n",
      "987654\n",
      "345678\n",
      "67890\n"
     ]
    }
   ],
   "source": [
    "class SchoolEntity:\n",
    "    def __init__(self, name):\n",
    "        self.__name = name\n",
    "\n",
    "    def get_name(self):\n",
    "        return self.__name\n",
    "\n",
    "    def set_name(self, name):\n",
    "        self.__name = name\n",
    "\n",
    "# Define the Student class\n",
    "class Student(SchoolEntity):\n",
    "    def __init__(self, name, student_id):\n",
    "        super().__init__(name)\n",
    "        self.__student_id = student_id\n",
    "\n",
    "    def get_student_id(self):\n",
    "        return self.__student_id\n",
    "\n",
    "    def set_student_id(self, student_id):\n",
    "        self.__student_id = student_id\n",
    "\n",
    "# Define the Teacher class\n",
    "class Teacher(SchoolEntity):\n",
    "    def __init__(self, name, teacher_id):\n",
    "        super().__init__(name)\n",
    "        self.__teacher_id = teacher_id\n",
    "\n",
    "    def get_teacher_id(self):\n",
    "        return self.__teacher_id\n",
    "\n",
    "    def set_teacher_id(self, teacher_id):\n",
    "        self.__teacher_id = teacher_id\n",
    "\n",
    "# Define the Course class\n",
    "class Course:\n",
    "    def __init__(self, course_name, course_id):\n",
    "        self.__course_name = course_name\n",
    "        self.__course_id = course_id\n",
    "\n",
    "    def get_course_name(self):\n",
    "        return self.__course_name\n",
    "\n",
    "    def set_course_name(self, course_name):\n",
    "        self.__course_name = course_name\n",
    "\n",
    "    def get_course_id(self):\n",
    "        return self.__course_id\n",
    "\n",
    "    def set_course_id(self, course_id):\n",
    "        self.__course_id = course_id\n",
    "\n",
    "# Create instances of the classes\n",
    "student = Student(\"John Doe\", \"123456\")\n",
    "teacher = Teacher(\"Jane Smith\", \"789012\")\n",
    "course = Course(\"Math\", \"12345\")\n",
    "\n",
    "# Access the sensitive information\n",
    "print(student.get_student_id())  \n",
    "print(teacher.get_teacher_id())  \n",
    "print(course.get_course_id())  \n",
    "\n",
    "# Modify the sensitive information\n",
    "student.set_student_id(\"987654\")\n",
    "teacher.set_teacher_id(\"345678\")\n",
    "course.set_course_id(\"67890\")\n",
    "\n",
    "# Access the modified sensitive information\n",
    "print(student.get_student_id())  \n",
    "print(teacher.get_teacher_id())  \n",
    "print(course.get_course_id())  "
   ]
  },
  {
   "cell_type": "markdown",
   "id": "ba29ccdc-601a-4fe6-aca6-c472e9b0bf10",
   "metadata": {},
   "source": [
    "#### 12. Explain the concept of property decorators in Python and how they relate to encapsulation."
   ]
  },
  {
   "cell_type": "code",
   "execution_count": 49,
   "id": "30ba9b62-51ab-4ca4-8d9c-80bf1bf50a92",
   "metadata": {},
   "outputs": [],
   "source": [
    "# In Python, property decorators are a feature that allows developers to define special methods (known as getters, setters, and deleters) \n",
    "# for accessing and modifying attributes of a class in a controlled manner.\n",
    "\n",
    "# Property decorators are typically used to:\n",
    "\n",
    "# Getters: Provide read-only access to an attribute or compute its value dynamically.\n",
    "# Setters: Enforce validation or perform certain actions when setting the value of an attribute.\n",
    "# Deleters: Define behavior when an attribute is deleted.\n",
    "\n",
    "# Here's how property decorators work and how they relate to encapsulation:\n",
    "\n",
    "# Getters:\n",
    "# Property decorators with a @property tag are used to define getter methods, allowing access to an attribute's value.\n",
    "# By defining a getter method, you can encapsulate the internal representation of the attribute and expose a controlled interface for accessing it.\n",
    "# This allows you to perform additional computations, validations, or transformations before returning the attribute's value to the caller.\n",
    "\n",
    "# Setters:\n",
    "# Property decorators with a @<attribute_name>.setter tag are used to define setter methods, enabling controlled modification of an attribute's value.\n",
    "# Setter methods are called when an attempt is made to assign a value to the property, allowing you to enforce validation rules or \n",
    "# perform specific actions before setting the attribute's value.\n",
    "# Encapsulation is maintained by providing a controlled interface for modifying the attribute's value, \n",
    "# ensuring that any validation logic or side effects are applied consistently.\n",
    "\n",
    "# Deleters:\n",
    "# Property decorators with a @<attribute_name>.deleter tag are used to define deleter methods, specifying behavior when an attribute is deleted.\n",
    "# Deleter methods are called when the del statement is used to delete the property, allowing you to perform cleanup actions or \n",
    "# enforce certain constraints before removing the attribute.\n",
    "\n",
    "# By using property decorators, you can achieve encapsulation by providing controlled access to attributes of a class. \n",
    "# This ensures that the internal state of the class is protected from direct manipulation and allows you to enforce validation rules and \n",
    "# apply additional logic when accessing or modifying attribute values."
   ]
  },
  {
   "cell_type": "markdown",
   "id": "ea54e23b-9641-461f-bc1c-2a05b9729335",
   "metadata": {},
   "source": [
    "#### 13. What is data hiding, and why is it important in encapsulation? Provide examples."
   ]
  },
  {
   "cell_type": "code",
   "execution_count": 50,
   "id": "5083be65-7c43-4f30-ae60-d94af1d2205d",
   "metadata": {},
   "outputs": [
    {
     "name": "stdout",
     "output_type": "stream",
     "text": [
      "123456\n"
     ]
    }
   ],
   "source": [
    "# Data hiding is a fundamental concept in encapsulation, which is the practice of hiding the internal implementation details \n",
    "# of an object from the outside world. \n",
    "# In other words, data hiding is the act of concealing the internal state of an object from the outside world, making it difficult for \n",
    "# other parts of the program to access or modify it directly.\n",
    "\n",
    "# Data hiding is important in encapsulation because it helps to:\n",
    "\n",
    "# Protect sensitive data: By hiding the internal state of an object, you can protect sensitive data from unauthorized access or modification.\n",
    "# Improve code organization: Data hiding helps to organize code in a logical and structured way, making it easier to understand and maintain.\n",
    "# Reduce coupling: By hiding the internal implementation details of an object, you can reduce coupling between different parts of the program, \n",
    "# making it easier to modify or replace individual components without affecting the entire system.\n",
    "# Improve security: Data hiding can help to improve security by making it harder for attackers to exploit vulnerabilities in the code.\n",
    "\n",
    "class Student:\n",
    "    def __init__(self, student_id):\n",
    "        self.__student_id = student_id\n",
    "\n",
    "    def get_student_id(self):\n",
    "        return self.__student_id\n",
    "\n",
    "    def set_student_id(self, student_id):\n",
    "        self.__student_id = student_id\n",
    "\n",
    "student = Student(\"123456\")\n",
    "print(student.get_student_id())  "
   ]
  },
  {
   "cell_type": "markdown",
   "id": "020fb49c-05cf-4019-8e6f-dc83400035ed",
   "metadata": {},
   "source": [
    "#### 14. Create a Python class called `Employee` with private attributes for salary (`__salary`) and employee ID (`__employee_id`). Provide a method to calculate yearly bonuses."
   ]
  },
  {
   "cell_type": "code",
   "execution_count": 51,
   "id": "348d3f75-22d5-4054-879d-22314b60ddad",
   "metadata": {},
   "outputs": [
    {
     "name": "stdout",
     "output_type": "stream",
     "text": [
      "Employee ID: E12345\n",
      "Salary: 50000\n",
      "Yearly Bonus: 5000.0\n"
     ]
    }
   ],
   "source": [
    "class Employee:\n",
    "    def __init__(self, employee_id, salary):\n",
    "        self.__employee_id = employee_id  # private attribute\n",
    "        self.__salary = salary  # private attribute\n",
    "    \n",
    "    def calculate_yearly_bonus(self):\n",
    "        # Example calculation: 10% of annual salary\n",
    "        yearly_bonus = 0.10 * self.__salary\n",
    "        return yearly_bonus\n",
    "    \n",
    "    def get_employee_id(self):\n",
    "        return self.__employee_id\n",
    "    \n",
    "    def get_salary(self):\n",
    "        return self.__salary\n",
    "\n",
    "employee1 = Employee(\"E12345\", 50000)\n",
    "print(\"Employee ID:\", employee1.get_employee_id())\n",
    "print(\"Salary:\", employee1.get_salary())\n",
    "print(\"Yearly Bonus:\", employee1.calculate_yearly_bonus())\n"
   ]
  },
  {
   "cell_type": "markdown",
   "id": "f713dda4-2f5f-4660-8492-08df00a9980f",
   "metadata": {},
   "source": [
    "#### 15. Discuss the use of accessors and mutators in encapsulation. How do they help maintain control over attribute access?"
   ]
  },
  {
   "cell_type": "code",
   "execution_count": 52,
   "id": "6d9eb6e6-322f-45ae-8728-ff86df46cb7c",
   "metadata": {},
   "outputs": [],
   "source": [
    "# Accessors and mutators, also known as getters and setters, are methods used in encapsulation to control access to the attributes of a class. \n",
    "# They provide a controlled interface for accessing and modifying the internal state of an object. \n",
    "\n",
    "# Here's how accessors and mutators help maintain control over attribute access:\n",
    "\n",
    "# Accessors (Getters):\n",
    "# Accessor methods are used to retrieve the values of private attributes.\n",
    "# They provide read-only access to the attributes, allowing external code to obtain the attribute values without directly accessing the attributes themselves.\n",
    "# Accessors typically have names prefixed with get_, such as get_attribute_name().\n",
    "# By using accessors, the internal representation of the object remains encapsulated, as external code cannot directly access or modify the private attributes.\n",
    "\n",
    "# Mutators (Setters):\n",
    "# Mutator methods are used to modify the values of private attributes.\n",
    "# They provide a controlled interface for modifying the internal state of the object, allowing validation, transformation, or \n",
    "# additional logic to be applied before setting the attribute value.\n",
    "# Mutators typically have names prefixed with set_, such as set_attribute_name(value).\n",
    "# Mutators enable encapsulation by ensuring that modifications to the object's state follow the defined rules and constraints, \n",
    "# maintaining the integrity of the object's internal representation."
   ]
  },
  {
   "cell_type": "markdown",
   "id": "5f4a04a4-2dd1-4811-b334-b5b3ef517e5c",
   "metadata": {},
   "source": [
    "#### 16. What are the potential drawbacks or disadvantages of using encapsulation in Python?"
   ]
  },
  {
   "cell_type": "code",
   "execution_count": 53,
   "id": "5185484a-2553-40dc-9f89-1e18b2b30d1c",
   "metadata": {},
   "outputs": [],
   "source": [
    "# While encapsulation is a fundamental concept in object-oriented programming that offers various benefits, \n",
    "# such as data hiding, abstraction, and improved maintainability, there are also potential drawbacks or disadvantages \n",
    "# to consider when using encapsulation in Python:\n",
    "\n",
    "# Increased Complexity: Encapsulation can introduce additional complexity to the codebase, especially when implementing getters, setters, and \n",
    "# other methods for attribute access control. This complexity may make the code harder to understand and maintain, particularly for simple classes or applications.\n",
    "\n",
    "# Performance Overhead: Using accessor and mutator methods to access and modify attributes can introduce a slight performance overhead \n",
    "# compared to direct attribute access. While this overhead may be negligible in most cases, it can become significant in performance-critical applications.\n",
    "\n",
    "# Boilerplate Code: Encapsulation often requires writing additional boilerplate code for defining getter and setter methods, \n",
    "# especially for classes with many attributes. This can lead to code verbosity and increase development time and effort.\n",
    "\n",
    "# Flexibility Trade-offs: Encapsulation can limit the flexibility of class interfaces by restricting direct access to attributes. \n",
    "# While this helps maintain data integrity and encapsulation principles, it may also hinder flexibility in certain situations where direct attribute access is necessary.\n",
    "\n",
    "# Difficulty in Debugging: Encapsulation can make it more challenging to debug code, especially when dealing with complex class \n",
    "# hierarchies or when accessing attributes indirectly through accessor methods. This can slow down the debugging process and make it harder to identify and fix issues.\n",
    "\n",
    "# Violation of Pythonic Idioms: Pythonic code often favors simplicity and readability over strict encapsulation. In some cases, \n",
    "# adhering strictly to encapsulation principles may lead to code that is less idiomatic or intuitive for Python developers.\n",
    "\n",
    "# Encapsulation Breakage: While encapsulation helps enforce data hiding and integrity, it is still possible for external code to \n",
    "# bypass encapsulation by directly accessing private attributes using name mangling or other techniques. \n",
    "# This can lead to unexpected behavior and violate the encapsulation principle."
   ]
  },
  {
   "cell_type": "markdown",
   "id": "4dcdb6bc-cd33-46cf-b240-6317c2c2e518",
   "metadata": {},
   "source": [
    "#### 17. Create a Python class for a library system that encapsulates book information, including titles, authors, and availability status."
   ]
  },
  {
   "cell_type": "code",
   "execution_count": 54,
   "id": "f529b568-5c18-44d2-b2ba-2aae61e8ba7d",
   "metadata": {},
   "outputs": [
    {
     "name": "stdout",
     "output_type": "stream",
     "text": [
      "Title: The Great Gatsby\n",
      "Author: F. Scott Fitzgerald\n",
      "Availability: Available\n",
      "Book 'The Great Gatsby' by F. Scott Fitzgerald has been borrowed.\n",
      "Availability: Not Available\n",
      "Book 'The Great Gatsby' by F. Scott Fitzgerald has been returned.\n",
      "Availability: Available\n"
     ]
    }
   ],
   "source": [
    "class Book:\n",
    "    def __init__(self, title, author):\n",
    "        self.__title = title  # private attribute\n",
    "        self.__author = author  # private attribute\n",
    "        self.__available = True  # private attribute\n",
    "    \n",
    "    def get_title(self):\n",
    "        return self.__title\n",
    "    \n",
    "    def get_author(self):\n",
    "        return self.__author\n",
    "    \n",
    "    def is_available(self):\n",
    "        return self.__available\n",
    "    \n",
    "    def borrow_book(self):\n",
    "        if self.__available:\n",
    "            self.__available = False\n",
    "            print(f\"Book '{self.__title}' by {self.__author} has been borrowed.\")\n",
    "        else:\n",
    "            print(f\"Book '{self.__title}' by {self.__author} is already borrowed.\")\n",
    "    \n",
    "    def return_book(self):\n",
    "        if not self.__available:\n",
    "            self.__available = True\n",
    "            print(f\"Book '{self.__title}' by {self.__author} has been returned.\")\n",
    "        else:\n",
    "            print(f\"Book '{self.__title}' by {self.__author} is already available.\")\n",
    "\n",
    "book1 = Book(\"The Great Gatsby\", \"F. Scott Fitzgerald\")\n",
    "print(\"Title:\", book1.get_title())\n",
    "print(\"Author:\", book1.get_author())\n",
    "print(\"Availability:\", \"Available\" if book1.is_available() else \"Not Available\")\n",
    "\n",
    "book1.borrow_book()\n",
    "print(\"Availability:\", \"Available\" if book1.is_available() else \"Not Available\")\n",
    "\n",
    "book1.return_book()\n",
    "print(\"Availability:\", \"Available\" if book1.is_available() else \"Not Available\")\n"
   ]
  },
  {
   "cell_type": "markdown",
   "id": "e201b3fe-8bea-406b-85f8-ef5ea6064c85",
   "metadata": {},
   "source": [
    "#### 18. Explain how encapsulation enhances code reusability and modularity in Python programs."
   ]
  },
  {
   "cell_type": "code",
   "execution_count": 55,
   "id": "e3a1d5fc-0c78-4cfc-9dca-52ecfeab6623",
   "metadata": {},
   "outputs": [],
   "source": [
    "# Encapsulation enhances code reusability and modularity in Python programs by promoting the creation of self-contained and reusable components. \n",
    "\n",
    "# Here's how encapsulation achieves these goals:\n",
    "\n",
    "# Code Reusability:\n",
    "# Encapsulation allows developers to package functionality and data into classes, hiding the implementation details behind well-defined interfaces.\n",
    "# By encapsulating related functionality within classes, developers can reuse these classes in multiple parts of the program without having to duplicate code.\n",
    "# Encapsulated classes provide a clear and consistent interface for interacting with their functionality, making them easy to use and \n",
    "# integrate into different parts of the program.\n",
    "# With encapsulation, developers can create libraries of reusable classes that can be shared across projects, promoting code reusability and reducing development time.\n",
    "\n",
    "# Modularity:\n",
    "# Encapsulation promotes modularity by breaking down the program into smaller, self-contained units (classes) that perform specific tasks or represent specific concepts.\n",
    "# Each class encapsulates its own data and behavior, allowing it to be developed, tested, and maintained independently of other parts of the program.\n",
    "# Encapsulated classes can be easily modified or replaced without affecting other parts of the program, as long as the class's interface remains consistent.\n",
    "# Modular design facilitated by encapsulation improves code organization and makes it easier to understand, debug, and maintain the program over time."
   ]
  },
  {
   "cell_type": "markdown",
   "id": "92add3a4-6e7b-4675-b0dc-79000131214c",
   "metadata": {},
   "source": [
    "#### 19. Describe the concept of information hiding in encapsulation. Why is it essential in software development?"
   ]
  },
  {
   "cell_type": "code",
   "execution_count": 56,
   "id": "5102e0e9-e03e-4746-857e-0e21b25a8358",
   "metadata": {},
   "outputs": [],
   "source": [
    "# Information hiding is a fundamental principle in encapsulation that involves hiding the internal implementation details of a \n",
    "# class from the outside world, exposing only the necessary interfaces for interacting with the class. \n",
    "# This means that the internal state and behavior of an object are encapsulated within the object itself, and external code cannot directly access or modify them.\n",
    "\n",
    "# The concept of information hiding is essential in software development for several reasons:\n",
    "\n",
    "# Abstraction: Information hiding allows developers to abstract away the complexity of the internal implementation of a class, \n",
    "# exposing only the essential features and behaviors through well-defined interfaces. \n",
    "# This simplifies the usage of the class and hides unnecessary details, making the code more understandable and maintainable.\n",
    "\n",
    "# Modularity: Information hiding promotes modularity by encapsulating the internal state and behavior of objects within classes. \n",
    "# Each class serves as a self-contained unit with its own interface, making it easier to develop, test, and maintain the codebase. \n",
    "# Changes to the internal implementation of a class do not affect external code as long as the class's interface remains unchanged.\n",
    "\n",
    "# Encapsulation: Information hiding is a key aspect of encapsulation, which bundles data and methods that operate on that data into a single unit or class. \n",
    "# Encapsulation ensures that the internal state of an object is protected from direct access and modification by external code, promoting data integrity and \n",
    "# preventing unintended side effects.\n",
    "\n",
    "# Security: Information hiding enhances security by limiting access to sensitive data and functionality within a class. \n",
    "# By exposing only the necessary interfaces, developers can control how external code interacts with the class and prevent unauthorized access or \n",
    "# manipulation of sensitive information.\n",
    "\n",
    "# Code Maintainability: Information hiding improves code maintainability by reducing the dependencies between different parts of the codebase. \n",
    "# Changes to the internal implementation of a class can be made without affecting other parts of the program, \n",
    "# as long as the class's interface remains unchanged. \n",
    "# This promotes code reuse, reduces code duplication, and simplifies maintenance tasks."
   ]
  },
  {
   "cell_type": "markdown",
   "id": "d19e16c6-37d9-4597-bf69-910c618bdaf6",
   "metadata": {},
   "source": [
    "#### 20. Create a Python class called `Customer` with private attributes for customer details like name, address, and contact information. Implement encapsulation to ensure data integrity and security."
   ]
  },
  {
   "cell_type": "code",
   "execution_count": 57,
   "id": "9cc8f2e9-93ce-4692-adeb-2c6dffdf608e",
   "metadata": {},
   "outputs": [
    {
     "name": "stdout",
     "output_type": "stream",
     "text": [
      "Name: Alice\n",
      "Address: 123 Main St, Anytown\n",
      "Contact Information: alice@example.com\n"
     ]
    }
   ],
   "source": [
    "class Customer:\n",
    "    def __init__(self, name, address, contact_info):\n",
    "        self.__name = name  # private attribute\n",
    "        self.__address = address  # private attribute\n",
    "        self.__contact_info = contact_info  # private attribute\n",
    "    \n",
    "    def get_name(self):\n",
    "        return self.__name\n",
    "    \n",
    "    def get_address(self):\n",
    "        return self.__address\n",
    "    \n",
    "    def get_contact_info(self):\n",
    "        return self.__contact_info\n",
    "\n",
    "customer1 = Customer(\"Alice\", \"123 Main St, Anytown\", \"alice@example.com\")\n",
    "print(\"Name:\", customer1.get_name())\n",
    "print(\"Address:\", customer1.get_address())\n",
    "print(\"Contact Information:\", customer1.get_contact_info())\n"
   ]
  },
  {
   "cell_type": "markdown",
   "id": "1ca4c827-f7c1-4bb7-8f54-2675387dec69",
   "metadata": {},
   "source": [
    "# Polymorphism:"
   ]
  },
  {
   "cell_type": "markdown",
   "id": "47f07256-2fac-41ce-a22d-3098ac000578",
   "metadata": {},
   "source": [
    "#### 1. What is polymorphism in Python? Explain how it is related to object-oriented programming."
   ]
  },
  {
   "cell_type": "code",
   "execution_count": 58,
   "id": "5a344f1f-83fd-4b0e-888c-f1b9859c9120",
   "metadata": {},
   "outputs": [],
   "source": [
    "# Polymorphism is a core concept in object-oriented programming (OOP) that refers to the ability of different objects \n",
    "# to respond to the same message or method invocation in different ways. \n",
    "# It allows objects of different classes to be treated uniformly by a common interface or superclass, enabling flexibility, extensibility, and code reuse.\n",
    "\n",
    "# In Python, polymorphism is facilitated by two main mechanisms:\n",
    "\n",
    "# Method Overriding:\n",
    "# Method overriding occurs when a subclass provides a specific implementation of a method that is already defined in its superclass.\n",
    "# When an object of the subclass is used, the overridden method in the subclass is invoked instead of the method in the superclass.\n",
    "# This allows objects of different classes to respond to the same method invocation in different ways, based on their specific implementations.\n",
    "\n",
    "# Duck Typing:\n",
    "# Duck typing is a dynamic typing technique used in Python where the type or class of an object is determined by its behavior rather than its explicit type.\n",
    "# Objects are allowed to be used based on their interface rather than their type, as long as they support the required methods or attributes.\n",
    "# This allows different classes to be treated uniformly if they share a common interface, even if they are unrelated by inheritance.\n",
    "\n",
    "\n",
    "# Polymorphism is related to object-oriented programming in several ways:\n",
    "\n",
    "# Abstraction:\n",
    "# Polymorphism allows developers to abstract away the specific implementations of methods and focus on the common interface or \n",
    "# behavior shared by objects of different classes.\n",
    "# This promotes code reuse and simplifies the design and implementation of complex systems by allowing objects to be treated uniformly based on their interface.\n",
    "\n",
    "# Encapsulation:\n",
    "# Polymorphism promotes encapsulation by hiding the internal details of object implementations behind a common interface.\n",
    "# Encapsulation ensures that the internal state and behavior of objects are protected and can only be accessed or \n",
    "# modified through well-defined interfaces, enhancing code maintainability and security.\n",
    "\n",
    "# Inheritance:\n",
    "# Polymorphism is closely related to inheritance, as it often relies on method overriding to achieve different behaviors in subclasses.\n",
    "# Inheritance allows subclasses to inherit and override methods from their superclasses, enabling polymorphic behavior by \n",
    "# providing specific implementations of methods in different subclasses.\n",
    "\n",
    "# Flexibility:\n",
    "# Polymorphism enhances the flexibility and extensibility of object-oriented systems by allowing new classes to be added and \n",
    "# existing classes to be modified or extended without affecting the overall design and functionality of the system.\n",
    "# This promotes code evolution and adaptation to changing requirements over time, making object-oriented programs more robust and maintainable."
   ]
  },
  {
   "cell_type": "markdown",
   "id": "d36d6145-f25e-4e8d-8d64-b7ea5ceb35e4",
   "metadata": {},
   "source": [
    "#### 2. Describe the difference between compile-time polymorphism and runtime polymorphism in Python."
   ]
  },
  {
   "cell_type": "code",
   "execution_count": 59,
   "id": "14261eea-04e5-4be7-8dda-1adbc297f9eb",
   "metadata": {},
   "outputs": [
    {
     "name": "stdout",
     "output_type": "stream",
     "text": [
      "The dog barks.\n",
      "The animal makes a sound.\n",
      "The dog barks.\n"
     ]
    }
   ],
   "source": [
    "# Compile-time polymorphism (also known as static polymorphism):\n",
    "\n",
    "# In compile-time polymorphism, the type of the object is determined at compile-time, before the program is executed. \n",
    "# This means that the type of the object is known at the time the code is written, and the compiler can check the types and ensure that they are compatible.\n",
    "\n",
    "# In Python, compile-time polymorphism is achieved through:\n",
    "\n",
    "# Method overriding: When a subclass provides a different implementation of a method that is already defined in its superclass.\n",
    "# Operator overloading: When a class defines a special method that allows it to be used with operators like +, -, *, etc.\n",
    "\n",
    "# Example:\n",
    "class Animal:\n",
    "    def sound(self):\n",
    "        print(\"The animal makes a sound.\")\n",
    "\n",
    "class Dog(Animal):\n",
    "    def sound(self):\n",
    "        print(\"The dog barks.\")\n",
    "\n",
    "my_dog = Dog()\n",
    "my_dog.sound()  \n",
    "\n",
    "# In this example, the Dog class overrides the sound() method of the Animal class, demonstrating compile-time polymorphism.\n",
    "\n",
    "# Runtime polymorphism (also known as dynamic polymorphism):\n",
    "\n",
    "# In runtime polymorphism, the type of the object is determined at runtime, while the program is executing. \n",
    "# This means that the type of the object is not known until the program is running, and the program must dynamically determine the type of the object.\n",
    "\n",
    "# In Python, runtime polymorphism is achieved through:\n",
    "\n",
    "# Method overriding: When a subclass provides a different implementation of a method that is already defined in its superclass.\n",
    "# Dynamic method dispatch: When a method is called on an object, and the method to be executed is determined at runtime.\n",
    "\n",
    "# Example:\n",
    "class Animal:\n",
    "    def sound(self):\n",
    "        print(\"The animal makes a sound.\")\n",
    "\n",
    "class Dog(Animal):\n",
    "    def sound(self):\n",
    "        print(\"The dog barks.\")\n",
    "\n",
    "my_animal = Animal()\n",
    "my_dog = Dog()\n",
    "\n",
    "my_animal.sound()  \n",
    "my_dog.sound()  \n",
    "\n",
    "# In this example, the my_animal object is an instance of the Animal class, and the my_dog object is an instance of the Dog class. \n",
    "# When we call the sound() method on each object, the correct implementation is executed at runtime, demonstrating runtime polymorphism."
   ]
  },
  {
   "cell_type": "markdown",
   "id": "53de5b66-f771-499f-86c2-a4a2309188ac",
   "metadata": {},
   "source": [
    "#### 3. Create a Python class hierarchy for shapes (e.g., circle, square, triangle) and demonstrate polymorphism through a common method, such as `calculate_area()`."
   ]
  },
  {
   "cell_type": "code",
   "execution_count": 60,
   "id": "7a1b2a22-c170-43c2-9ecb-c5b4782c7433",
   "metadata": {},
   "outputs": [
    {
     "name": "stdout",
     "output_type": "stream",
     "text": [
      "Area of Circle: 78.53981633974483\n",
      "Area of Square: 16\n",
      "Area of Triangle: 9.0\n"
     ]
    }
   ],
   "source": [
    "import math\n",
    "\n",
    "class Shape:\n",
    "    def calculate_area(self):\n",
    "        pass  # Common method to be overridden by subclasses\n",
    "\n",
    "class Circle(Shape):\n",
    "    def __init__(self, radius):\n",
    "        self.radius = radius\n",
    "    \n",
    "    def calculate_area(self):\n",
    "        return math.pi * self.radius ** 2\n",
    "\n",
    "class Square(Shape):\n",
    "    def __init__(self, side_length):\n",
    "        self.side_length = side_length\n",
    "    \n",
    "    def calculate_area(self):\n",
    "        return self.side_length ** 2\n",
    "\n",
    "class Triangle(Shape):\n",
    "    def __init__(self, base, height):\n",
    "        self.base = base\n",
    "        self.height = height\n",
    "    \n",
    "    def calculate_area(self):\n",
    "        return 0.5 * self.base * self.height\n",
    "\n",
    "circle = Circle(5)\n",
    "square = Square(4)\n",
    "triangle = Triangle(3, 6)\n",
    "\n",
    "print(\"Area of Circle:\", circle.calculate_area())\n",
    "print(\"Area of Square:\", square.calculate_area())\n",
    "print(\"Area of Triangle:\", triangle.calculate_area())\n"
   ]
  },
  {
   "cell_type": "markdown",
   "id": "d111facc-e94e-4f4a-9e74-b9673369dc92",
   "metadata": {},
   "source": [
    "#### 4. Explain the concept of method overriding in polymorphism. Provide an example."
   ]
  },
  {
   "cell_type": "code",
   "execution_count": 61,
   "id": "2458a14f-1da5-4f7b-8d88-6454154c1022",
   "metadata": {},
   "outputs": [
    {
     "name": "stdout",
     "output_type": "stream",
     "text": [
      "Animal sound: Generic animal sound\n",
      "Dog sound: Woof\n",
      "Cat sound: Meow\n"
     ]
    }
   ],
   "source": [
    "# Method overriding is a concept in polymorphism where a subclass provides a specific implementation of a method that is already defined in its superclass. \n",
    "# This allows the subclass to replace or override the behavior of the method inherited from the superclass, \n",
    "# providing a more specialized implementation to suit its own requirements. \n",
    "# Method overriding enables objects of different classes to respond to the same method invocation in different ways, based on their specific implementations.\n",
    "\n",
    "class Animal:\n",
    "    def make_sound(self):\n",
    "        return \"Generic animal sound\"\n",
    "\n",
    "class Dog(Animal):\n",
    "    def make_sound(self):\n",
    "        return \"Woof\"\n",
    "\n",
    "class Cat(Animal):\n",
    "    def make_sound(self):\n",
    "        return \"Meow\"\n",
    "\n",
    "animal = Animal()\n",
    "dog = Dog()\n",
    "cat = Cat()\n",
    "\n",
    "print(\"Animal sound:\", animal.make_sound())  \n",
    "print(\"Dog sound:\", dog.make_sound())        \n",
    "print(\"Cat sound:\", cat.make_sound())        \n"
   ]
  },
  {
   "cell_type": "markdown",
   "id": "08d4fc0c-07ce-456b-9a16-131319052adb",
   "metadata": {},
   "source": [
    "#### 5. How is polymorphism different from method overloading in Python? Provide examples for both."
   ]
  },
  {
   "cell_type": "code",
   "execution_count": 62,
   "id": "f11ff4fb-9a2f-4602-845a-031005de407e",
   "metadata": {},
   "outputs": [
    {
     "name": "stdout",
     "output_type": "stream",
     "text": [
      "Woof\n",
      "Meow\n",
      "5\n",
      "2\n"
     ]
    }
   ],
   "source": [
    "# Key Differences:\n",
    "\n",
    "# Implementation: \n",
    "# Polymorphism is achieved through method overriding, where subclasses provide specific implementations of methods inherited from superclasses. \n",
    "# Method overloading, on the other hand, involves defining multiple methods with the same name but different parameter lists within the same class.\n",
    "\n",
    "# Purpose: \n",
    "# Polymorphism allows objects of different types to be treated uniformly through a common interface, enabling flexibility and extensibility in object-oriented designs. \n",
    "# Method overloading provides flexibility in method calls by allowing multiple versions of a method with different parameter lists, improving code readability and \n",
    "# ease of use.\n",
    "\n",
    "# Here's an example of polymorphism using method overriding:\n",
    "class Animal:\n",
    "    def make_sound(self):\n",
    "        pass\n",
    "\n",
    "class Dog(Animal):\n",
    "    def make_sound(self):\n",
    "        return \"Woof\"\n",
    "\n",
    "class Cat(Animal):\n",
    "    def make_sound(self):\n",
    "        return \"Meow\"\n",
    "\n",
    "def print_sound(animal):\n",
    "    print(animal.make_sound())\n",
    "\n",
    "dog = Dog()\n",
    "cat = Cat()\n",
    "\n",
    "print_sound(dog)  \n",
    "print_sound(cat)  \n",
    "\n",
    "\n",
    "\n",
    "# Here's an example of method overloading using default parameter values:\n",
    "class Calculator:\n",
    "    def add(self, a, b=0):\n",
    "        return a + b\n",
    "\n",
    "\n",
    "calc = Calculator()\n",
    "\n",
    "print(calc.add(2, 3))  \n",
    "print(calc.add(2))     \n",
    "\n",
    "# In this example, the add() method of the Calculator class is overloaded to accept either one or two arguments. \n",
    "# If only one argument is provided, the default value of b is used, demonstrating method overloading."
   ]
  },
  {
   "cell_type": "markdown",
   "id": "47b7ff96-164f-46c0-be35-71e829634359",
   "metadata": {},
   "source": [
    "#### 6. Create a Python class called `Animal` with a method `speak()`. Then, create child classes like `Dog`, `Cat`, and `Bird`, each with their own `speak()` method. Demonstrate polymorphism by calling the `speak()` method on objects of different subclasses."
   ]
  },
  {
   "cell_type": "code",
   "execution_count": 63,
   "id": "78047be2-9736-4c64-80ee-48612ba96212",
   "metadata": {},
   "outputs": [
    {
     "name": "stdout",
     "output_type": "stream",
     "text": [
      "Woof\n",
      "Meow\n",
      "Chirp\n"
     ]
    }
   ],
   "source": [
    "class Animal:\n",
    "    def speak(self):\n",
    "        return \"Generic animal sound\"\n",
    "\n",
    "class Dog(Animal):\n",
    "    def speak(self):\n",
    "        return \"Woof\"\n",
    "\n",
    "class Cat(Animal):\n",
    "    def speak(self):\n",
    "        return \"Meow\"\n",
    "\n",
    "class Bird(Animal):\n",
    "    def speak(self):\n",
    "        return \"Chirp\"\n",
    "\n",
    "def print_speak(animal):\n",
    "    print(animal.speak())\n",
    "\n",
    "dog = Dog()\n",
    "cat = Cat()\n",
    "bird = Bird()\n",
    "\n",
    "print_speak(dog)  \n",
    "print_speak(cat)  \n",
    "print_speak(bird) \n"
   ]
  },
  {
   "cell_type": "markdown",
   "id": "4b6bc23f-174e-430c-8471-bdc4c68476c7",
   "metadata": {},
   "source": [
    "#### 7. Discuss the use of abstract methods and classes in achieving polymorphism in Python. Provide an example using the `abc` module."
   ]
  },
  {
   "cell_type": "code",
   "execution_count": 1,
   "id": "1fce5866-e1c8-4908-8b7c-048687b126af",
   "metadata": {},
   "outputs": [
    {
     "name": "stdout",
     "output_type": "stream",
     "text": [
      "Woof\n",
      "Meow\n",
      "Chirp\n"
     ]
    }
   ],
   "source": [
    "# Abstract methods and classes are tools used in Python to achieve polymorphism by defining common interfaces that subclasses must implement. \n",
    "# This ensures that objects of different subclasses can be treated uniformly through a common interface, even though they may have \n",
    "# different implementations for the methods.\n",
    "\n",
    "# In Python, abstract classes and methods are defined using the abc module, which stands for Abstract Base Classes. \n",
    "# The abc module provides the ABC class and the abstractmethod decorator, which are used to define abstract classes and methods, respectively.\n",
    "\n",
    "# Here's how abstract methods and classes help achieve polymorphism:\n",
    "\n",
    "# Abstract Methods:\n",
    "# Abstract methods are methods declared in an abstract class but without any implementation.\n",
    "# Subclasses of the abstract class must provide concrete implementations for all abstract methods, ensuring that all subclasses have a common interface.\n",
    "# Abstract methods define the common behavior that subclasses must adhere to, enabling polymorphic behavior across different subclasses.\n",
    "\n",
    "# Abstract Classes:\n",
    "# Abstract classes are classes that contain one or more abstract methods.\n",
    "# Abstract classes cannot be instantiated directly; they are meant to serve as blueprints for other classes.\n",
    "# Subclasses of abstract classes must implement all abstract methods to provide concrete functionality.\n",
    "# Abstract classes define the common structure and behavior that subclasses must inherit and implement, facilitating polymorphism.\n",
    "\n",
    "from abc import ABC, abstractmethod\n",
    "\n",
    "class Animal(ABC):\n",
    "    @abstractmethod\n",
    "    def speak(self):\n",
    "        pass\n",
    "\n",
    "class Dog(Animal):\n",
    "    def speak(self):\n",
    "        return \"Woof\"\n",
    "\n",
    "class Cat(Animal):\n",
    "    def speak(self):\n",
    "        return \"Meow\"\n",
    "\n",
    "class Bird(Animal):\n",
    "    def speak(self):\n",
    "        return \"Chirp\"\n",
    "\n",
    "def print_speak(animal):\n",
    "    print(animal.speak())\n",
    "\n",
    "dog = Dog()\n",
    "cat = Cat()\n",
    "bird = Bird()\n",
    "\n",
    "print_speak(dog)  \n",
    "print_speak(cat)  \n",
    "print_speak(bird) \n",
    "\n",
    "\n"
   ]
  },
  {
   "cell_type": "markdown",
   "id": "19c35fd6-927a-4837-8d7c-1e4513c97863",
   "metadata": {},
   "source": [
    "#### 8. Create a Python class hierarchy for a vehicle system (e.g., car, bicycle, boat) and implement a polymorphic `start()` method that prints a message specific to each vehicle type."
   ]
  },
  {
   "cell_type": "code",
   "execution_count": 2,
   "id": "b999e080-cb60-4226-9522-f9bd943d0136",
   "metadata": {},
   "outputs": [
    {
     "name": "stdout",
     "output_type": "stream",
     "text": [
      "Car started. Vroom vroom!\n",
      "Bicycle started. Pedal pedal!\n",
      "Boat started. Row row!\n"
     ]
    }
   ],
   "source": [
    "class Vehicle:\n",
    "    def start(self):\n",
    "        raise NotImplementedError(\"Subclasses must implement the start() method\")\n",
    "\n",
    "class Car(Vehicle):\n",
    "    def start(self):\n",
    "        return \"Car started. Vroom vroom!\"\n",
    "\n",
    "class Bicycle(Vehicle):\n",
    "    def start(self):\n",
    "        return \"Bicycle started. Pedal pedal!\"\n",
    "\n",
    "class Boat(Vehicle):\n",
    "    def start(self):\n",
    "        return \"Boat started. Row row!\"\n",
    "\n",
    "vehicles = [Car(), Bicycle(), Boat()]\n",
    "\n",
    "for vehicle in vehicles:\n",
    "    print(vehicle.start())\n"
   ]
  },
  {
   "cell_type": "markdown",
   "id": "df08e7cc-3a00-4a34-874d-025918e8a4b4",
   "metadata": {},
   "source": [
    "#### 9. Explain the significance of the `isinstance()` and `issubclass()` functions in Python polymorphism."
   ]
  },
  {
   "cell_type": "code",
   "execution_count": 3,
   "id": "f3657607-7e62-4a99-bb6f-0e2356d26858",
   "metadata": {},
   "outputs": [
    {
     "name": "stdout",
     "output_type": "stream",
     "text": [
      "True\n",
      "True\n",
      "True\n",
      "True\n",
      "True\n",
      "True\n"
     ]
    }
   ],
   "source": [
    "# The isinstance() and issubclass() functions in Python are significant in the context of polymorphism as they allow developers to \n",
    "# check relationships between objects and classes, respectively.\n",
    "\n",
    "# isinstance()\n",
    "\n",
    "# The isinstance() function is used to check if an object is an instance of a particular class or any of its subclasses. \n",
    "# It takes two parameters: the object to be checked and the class or tuple of classes to check against. \n",
    "# The function returns True if the object is an instance of the specified class or any of its subclasses, and False otherwise.\n",
    "\n",
    "class Animal:\n",
    "    pass\n",
    "\n",
    "class Dog(Animal):\n",
    "    pass\n",
    "\n",
    "dog = Dog()\n",
    "\n",
    "print(isinstance(dog, Dog))       \n",
    "print(isinstance(dog, Animal))    \n",
    "print(isinstance(dog, object))  # Output: True (All objects are instances of the object class)\n",
    "\n",
    "\n",
    "\n",
    "# issubclass()\n",
    "\n",
    "# The issubclass() function is used to check if a class is a subclass of another class. \n",
    "# It takes two parameters: the subclass to be checked and the superclass or tuple of superclasses to check against. \n",
    "# The function returns True if the subclass is a subclass of the specified superclass or any of its superclasses, and False otherwise.\n",
    "\n",
    "class Animal:\n",
    "    pass\n",
    "\n",
    "class Dog(Animal):\n",
    "    pass\n",
    "\n",
    "class Cat(Animal):\n",
    "    pass\n",
    "\n",
    "print(issubclass(Dog, Animal))    \n",
    "print(issubclass(Cat, Animal))    \n",
    "print(issubclass(Animal, object))  # Output: True (Animal is a subclass of object)\n",
    "\n",
    "\n",
    "# Significance in Polymorphism:\n",
    "\n",
    "# Dynamic Dispatch: isinstance() is often used in conjunction with polymorphic behavior to dynamically dispatch method calls based on the type of objects. \n",
    "# It allows for the handling of different types of objects uniformly through a common interface.\n",
    "\n",
    "# Type Checking: isinstance() and issubclass() are commonly used for type checking and validation in polymorphic code. \n",
    "# They enable developers to ensure that objects and classes conform to expected types and hierarchies, enhancing code reliability and robustness.\n",
    "\n",
    "# Flexible Designs: By allowing developers to check relationships between objects and classes dynamically, isinstance() and issubclass() enable \n",
    "# flexible designs that can adapt to changes in class hierarchies and support extensibility and maintainability.\n"
   ]
  },
  {
   "cell_type": "markdown",
   "id": "838badb0-5b46-4f77-9bde-e24eca94ce9a",
   "metadata": {},
   "source": [
    "#### 10. What is the role of the `@abstractmethod` decorator in achieving polymorphism in Python? Provide an example."
   ]
  },
  {
   "cell_type": "code",
   "execution_count": 5,
   "id": "dcc43cfb-5360-49f2-8342-702d48c763e6",
   "metadata": {},
   "outputs": [
    {
     "name": "stdout",
     "output_type": "stream",
     "text": [
      "Area of Circle: 78.5\n",
      "Area of Square: 16\n"
     ]
    }
   ],
   "source": [
    "# Here's the role of the @abstractmethod decorator in achieving polymorphism:\n",
    "\n",
    "# Interface Definition: Abstract methods define the common behavior that subclasses must adhere to. \n",
    "# They serve as placeholders for methods that must be implemented by subclasses.\n",
    "\n",
    "# Enforcement of Interface: The @abstractmethod decorator marks methods as abstract, indicating that they must be overridden by subclasses. \n",
    "# If a subclass fails to provide a concrete implementation for an abstract method, it will raise a TypeError at runtime.\n",
    "\n",
    "# Polymorphic Behavior: By defining abstract methods in abstract classes, developers can ensure that objects of different subclasses \n",
    "# can be treated uniformly through a common interface. \n",
    "# This promotes polymorphic behavior, allowing different subclasses to respond to the same method invocation in different ways.\n",
    "\n",
    "from abc import ABC, abstractmethod\n",
    "\n",
    "class Shape(ABC):\n",
    "    @abstractmethod\n",
    "    def calculate_area(self):\n",
    "        pass\n",
    "\n",
    "class Circle(Shape):\n",
    "    def __init__(self, radius):\n",
    "        self.radius = radius\n",
    "    \n",
    "    def calculate_area(self):\n",
    "        return 3.14 * self.radius ** 2\n",
    "\n",
    "class Square(Shape):\n",
    "    def __init__(self, side_length):\n",
    "        self.side_length = side_length\n",
    "    \n",
    "    def calculate_area(self):\n",
    "        return self.side_length ** 2\n",
    "\n",
    "shapes = [Circle(5), Square(4)]\n",
    "\n",
    "for shape in shapes:\n",
    "    print(\"Area of\", type(shape).__name__ + \":\", shape.calculate_area())\n",
    "    \n",
    "# type(shape).__name__ = dynamically gets the name of the class of the object shape without hardcoding it\n"
   ]
  },
  {
   "cell_type": "markdown",
   "id": "26b735db-100d-4a70-8296-94cad3f79e97",
   "metadata": {},
   "source": [
    "#### 11. Create a Python class called `Shape` with a polymorphic method `area()` that calculates the area of different shapes (e.g., circle, rectangle, triangle). "
   ]
  },
  {
   "cell_type": "code",
   "execution_count": 6,
   "id": "57f57d3a-c549-4882-8da1-42ec8d1fd8e5",
   "metadata": {},
   "outputs": [
    {
     "name": "stdout",
     "output_type": "stream",
     "text": [
      "Area of Circle: 78.53981633974483\n",
      "Area of Rectangle: 24\n",
      "Area of Triangle: 10.5\n"
     ]
    }
   ],
   "source": [
    "import math\n",
    "\n",
    "class Shape:\n",
    "    def area(self):\n",
    "        raise NotImplementedError(\"Subclasses must implement the area() method\")\n",
    "\n",
    "class Circle(Shape):\n",
    "    def __init__(self, radius):\n",
    "        self.radius = radius\n",
    "    \n",
    "    def area(self):\n",
    "        return math.pi * self.radius ** 2\n",
    "\n",
    "class Rectangle(Shape):\n",
    "    def __init__(self, length, width):\n",
    "        self.length = length\n",
    "        self.width = width\n",
    "    \n",
    "    def area(self):\n",
    "        return self.length * self.width\n",
    "\n",
    "class Triangle(Shape):\n",
    "    def __init__(self, base, height):\n",
    "        self.base = base\n",
    "        self.height = height\n",
    "    \n",
    "    def area(self):\n",
    "        return 0.5 * self.base * self.height\n",
    "\n",
    "shapes = [Circle(5), Rectangle(4, 6), Triangle(3, 7)]\n",
    "\n",
    "for shape in shapes:\n",
    "    print(\"Area of\", type(shape).__name__ + \":\", shape.area())\n"
   ]
  },
  {
   "cell_type": "markdown",
   "id": "00c0a103-27ba-450b-a038-d7724f0d23f6",
   "metadata": {},
   "source": [
    "#### 12. Discuss the benefits of polymorphism in terms of code reusability and flexibility in Python programs."
   ]
  },
  {
   "cell_type": "code",
   "execution_count": 7,
   "id": "f852938a-0647-40a9-a315-90683ddec6ae",
   "metadata": {},
   "outputs": [],
   "source": [
    "# Polymorphism offers several benefits in terms of code reusability and flexibility in Python programs:\n",
    "\n",
    "# Code Reusability:\n",
    "# Polymorphism allows developers to write code that can be reused across different parts of a program or even in different programs.\n",
    "# By defining common interfaces and behaviors in abstract classes and methods, developers can create reusable components that can be used with different implementations.\n",
    "# This promotes modular design and reduces code duplication, as common functionality can be encapsulated in base classes and reused across multiple subclasses.\n",
    "\n",
    "# Flexibility:\n",
    "# Polymorphism enables code to adapt and respond dynamically to changes in requirements or environments.\n",
    "# By treating objects of different types uniformly through common interfaces, polymorphism allows for flexible designs that can accommodate new types \n",
    "# of objects without requiring extensive modifications to existing code.\n",
    "# This flexibility facilitates code evolution and adaptation to changing business needs, enhancing the maintainability and scalability of software systems.\n",
    "\n",
    "# Enhanced Extensibility:\n",
    "# Polymorphism promotes extensibility by allowing new subclasses to be added to existing class hierarchies without modifying the existing code.\n",
    "# New subclasses can provide their own implementations of methods defined in abstract classes, allowing them to seamlessly integrate into the existing \n",
    "# codebase and participate in polymorphic behavior.\n",
    "# This encourages modular development and makes it easier to extend and enhance the functionality of a program over time without introducing regressions or breaking existing code.\n",
    "\n",
    "# Simplified Interfaces:\n",
    "# Polymorphism allows developers to interact with objects through common interfaces without needing to know the specific implementation details of each object.\n",
    "# This simplifies the usage of complex systems by providing clear and consistent interfaces that abstract away the implementation complexity, \n",
    "# making the code easier to understand and maintain.\n",
    "\n",
    "# Dynamic Dispatch:\n",
    "# Polymorphism enables dynamic dispatch, where method calls are resolved dynamically at runtime based on the actual type of the object.\n",
    "# This allows for flexible and adaptive behavior, as the appropriate method implementation is selected based on the type of the object, \n",
    "# rather than being determined statically at compile time."
   ]
  },
  {
   "cell_type": "markdown",
   "id": "e90715d9-5285-4379-a4a1-7f7d8c364184",
   "metadata": {},
   "source": [
    "#### 13. Explain the use of the `super()` function in Python polymorphism. How does it help call methods of parent classes?"
   ]
  },
  {
   "cell_type": "code",
   "execution_count": 8,
   "id": "f3a0215e-02bf-440a-b3cd-68cd0d616396",
   "metadata": {},
   "outputs": [],
   "source": [
    "# The super() function in Python is used to call methods and access attributes of a superclass (parent class) from within a subclass (child class). \n",
    "# It is particularly useful in achieving polymorphism by facilitating method overriding and allowing subclasses to extend or modify the behavior of \n",
    "# methods defined in their superclass.\n",
    "\n",
    "# Here's how the super() function works and how it helps call methods of parent classes:\n",
    "\n",
    "# Accessing Parent Class Methods:\n",
    "# By using super(), a subclass can access and call methods defined in its superclass.\n",
    "# This allows the subclass to extend or modify the behavior of the superclass methods while still retaining the functionality provided by the superclass.\n",
    "\n",
    "# Method Resolution Order (MRO):\n",
    "# When using super(), Python follows the Method Resolution Order (MRO) to determine which superclass method to call.\n",
    "# MRO defines the order in which methods are searched for and resolved when called from a subclass. \n",
    "# It typically follows a depth-first, left-to-right search order along the inheritance hierarchy.\n",
    "\n",
    "# Avoiding Hardcoded Class Names:\n",
    "# Using super() avoids hardcoding class names in method calls, making the code more flexible and resilient to changes in the class hierarchy.\n",
    "# This allows for easier maintenance and refactoring of code, as changes to class names or inheritance relationships do not require corresponding changes to method calls.\n",
    "\n",
    "# Support for Multiple Inheritance:\n",
    "# super() is particularly useful in the context of multiple inheritance, where a subclass inherits from multiple superclasses.\n",
    "# By using super(), a subclass can call methods from all its superclasses in a consistent and predictable manner, \n",
    "# respecting the method resolution order defined by the inheritance hierarchy."
   ]
  },
  {
   "cell_type": "markdown",
   "id": "596867e8-522a-4da8-8d7d-20cf937317f2",
   "metadata": {},
   "source": [
    "#### 14. Create a Python class hierarchy for a banking system with various account types (e.g., savings, checking, credit card) and demonstrate polymorphism by implementing a common `withdraw()` method."
   ]
  },
  {
   "cell_type": "code",
   "execution_count": 9,
   "id": "b61bfc1d-57cb-4bd3-99fd-682cb335475f",
   "metadata": {},
   "outputs": [
    {
     "name": "stdout",
     "output_type": "stream",
     "text": [
      "Withdrew 200. Remaining balance: 800\n",
      "Savings account withdrawal\n",
      "Exceeded overdraft limit\n",
      "Insufficient balance\n",
      "Credit card withdrawal\n"
     ]
    }
   ],
   "source": [
    "class Account:\n",
    "    def __init__(self, balance=0):\n",
    "        self.balance = balance\n",
    "\n",
    "    def withdraw(self, amount):\n",
    "        if amount > self.balance:\n",
    "            print(\"Insufficient balance\")\n",
    "        else:\n",
    "            self.balance -= amount\n",
    "            print(f\"Withdrew {amount}. Remaining balance: {self.balance}\")\n",
    "\n",
    "\n",
    "class SavingsAccount(Account):\n",
    "    def __init__(self, balance=0, interest_rate=0.02):\n",
    "        super().__init__(balance)\n",
    "        self.interest_rate = interest_rate\n",
    "\n",
    "    def withdraw(self, amount):\n",
    "        super().withdraw(amount)  # Calls the withdraw() method of the superclass\n",
    "        print(\"Savings account withdrawal\")\n",
    "\n",
    "\n",
    "class CheckingAccount(Account):\n",
    "    def __init__(self, balance=0, overdraft_limit=100):\n",
    "        super().__init__(balance)\n",
    "        self.overdraft_limit = overdraft_limit\n",
    "\n",
    "    def withdraw(self, amount):\n",
    "        if amount > self.balance + self.overdraft_limit:\n",
    "            print(\"Exceeded overdraft limit\")\n",
    "        else:\n",
    "            super().withdraw(amount)  # Calls the withdraw() method of the superclass\n",
    "            print(\"Checking account withdrawal\")\n",
    "\n",
    "\n",
    "class CreditCardAccount(Account):\n",
    "    def __init__(self, balance=0, credit_limit=1000):\n",
    "        super().__init__(balance)\n",
    "        self.credit_limit = credit_limit\n",
    "\n",
    "    def withdraw(self, amount):\n",
    "        if amount > self.balance + self.credit_limit:\n",
    "            print(\"Exceeded credit limit\")\n",
    "        else:\n",
    "            super().withdraw(amount)  # Calls the withdraw() method of the superclass\n",
    "            print(\"Credit card withdrawal\")\n",
    "\n",
    "\n",
    "savings_account = SavingsAccount(1000)\n",
    "checking_account = CheckingAccount(1500)\n",
    "credit_card_account = CreditCardAccount(500)\n",
    "\n",
    "savings_account.withdraw(200)   \n",
    "checking_account.withdraw(1700) \n",
    "credit_card_account.withdraw(700) "
   ]
  },
  {
   "cell_type": "markdown",
   "id": "82266936-2a0b-4c29-89d3-0d361f43649e",
   "metadata": {},
   "source": [
    "#### 15. Describe the concept of operator overloading in Python and how it relates to polymorphism. Provide examples using operators like `+` and `*`"
   ]
  },
  {
   "cell_type": "code",
   "execution_count": 10,
   "id": "2aff97d8-1f23-4734-ac49-f0d1019e0fe4",
   "metadata": {},
   "outputs": [
    {
     "name": "stdout",
     "output_type": "stream",
     "text": [
      "Point addition: 4 6\n",
      "Scalar multiplication: 2 4\n"
     ]
    }
   ],
   "source": [
    "# Operator overloading in Python refers to the ability to redefine the behavior of built-in operators such as +, -, *, /, ==, <, >, and many others \n",
    "# for user-defined classes. \n",
    "# This allows objects of user-defined classes to respond to these operators in a custom way, making the code more expressive and intuitive.\n",
    "\n",
    "# Operator overloading is closely related to polymorphism in Python because it enables objects of different classes to respond to \n",
    "# the same operator in different ways, based on the context or the types involved. \n",
    "# This promotes polymorphic behavior, where the same operator can produce different results depending on the types of the operands involved.\n",
    "\n",
    "class Point:\n",
    "    def __init__(self, x, y):\n",
    "        self.x = x\n",
    "        self.y = y\n",
    "    \n",
    "    # Overloading the '+' operator\n",
    "    def __add__(self, other):\n",
    "        return Point(self.x + other.x, self.y + other.y)\n",
    "    \n",
    "    # Overloading the '*' operator for scalar multiplication\n",
    "    def __mul__(self, scalar):\n",
    "        return Point(self.x * scalar, self.y * scalar)\n",
    "    \n",
    "    \n",
    "point1 = Point(1, 2)\n",
    "point2 = Point(3, 4)\n",
    "\n",
    "# Overloading '+' operator for point addition\n",
    "result_addition = point1 + point2\n",
    "print(\"Point addition:\", result_addition.x, result_addition.y)  \n",
    "\n",
    "# Overloading '*' operator for scalar multiplication\n",
    "result_scalar_mul = point1 * 2\n",
    "print(\"Scalar multiplication:\", result_scalar_mul.x, result_scalar_mul.y)  \n",
    "\n"
   ]
  },
  {
   "cell_type": "markdown",
   "id": "1c7352ed-c1be-49b2-99f6-7a8e8dd10d2a",
   "metadata": {},
   "source": [
    "#### 16. What is dynamic polymorphism, and how is it achieved in Python?"
   ]
  },
  {
   "cell_type": "code",
   "execution_count": 11,
   "id": "8ef38702-661e-4691-9540-57781e2579d2",
   "metadata": {},
   "outputs": [
    {
     "name": "stdout",
     "output_type": "stream",
     "text": [
      "The dog barks.\n",
      "The cat meows.\n"
     ]
    }
   ],
   "source": [
    "# Dynamic polymorphism, also known as runtime polymorphism, is a concept in object-oriented programming where the type of an object is determined at runtime, \n",
    "# rather than at compile-time. \n",
    "# This means that the behavior of an object can change depending on the type of object it is interacting with, without knowing the specific type at compile-time.\n",
    "\n",
    "# In Python, dynamic polymorphism is achieved through:\n",
    "\n",
    "# Method overriding: When a subclass provides a different implementation of a method that is already defined in its superclass.\n",
    "# Dynamic method dispatch: When a method is called on an object, and the method to be executed is determined at runtime.\n",
    "\n",
    "\n",
    "# How it works in Python:\n",
    "\n",
    "# In Python, dynamic polymorphism is achieved through the use of duck typing, which means that an object is considered to be of a certain type \n",
    "# if it has the same attributes and methods as that type. \n",
    "# This allows objects of different classes to be treated as if they were of the same type, as long as they have the same interface (methods and attributes).\n",
    "\n",
    "# Here's an example:\n",
    "\n",
    "class Animal:\n",
    "    def sound(self):\n",
    "        print(\"The animal makes a sound.\")\n",
    "\n",
    "class Dog(Animal):\n",
    "    def sound(self):\n",
    "        print(\"The dog barks.\")\n",
    "\n",
    "class Cat(Animal):\n",
    "    def sound(self):\n",
    "        print(\"The cat meows.\")\n",
    "\n",
    "def make_sound(animal):\n",
    "    animal.sound()\n",
    "\n",
    "my_dog = Dog()\n",
    "my_cat = Cat()\n",
    "\n",
    "make_sound(my_dog)  \n",
    "make_sound(my_cat)  \n"
   ]
  },
  {
   "cell_type": "markdown",
   "id": "9bf31653-788f-43cd-91a3-63c82bbea2e3",
   "metadata": {},
   "source": [
    "#### 17. Create a Python class hierarchy for employees in a company (e.g., manager, developer, designer) and implement polymorphism through a common `calculate_salary()` method."
   ]
  },
  {
   "cell_type": "code",
   "execution_count": 12,
   "id": "8d3287b6-e1b0-4c90-99cb-b5ff28a48f84",
   "metadata": {},
   "outputs": [
    {
     "name": "stdout",
     "output_type": "stream",
     "text": [
      "Alice Salary: 60000\n",
      "Bob Salary: 45000\n",
      "Charlie Salary: 52000\n"
     ]
    }
   ],
   "source": [
    "class Employee:\n",
    "    def __init__(self, name, salary):\n",
    "        self.name = name\n",
    "        self.salary = salary\n",
    "\n",
    "    def calculate_salary(self):\n",
    "        return self.salary\n",
    "\n",
    "class Manager(Employee):\n",
    "    def __init__(self, name, salary, bonus):\n",
    "        super().__init__(name, salary)\n",
    "        self.bonus = bonus\n",
    "\n",
    "    def calculate_salary(self):\n",
    "        return self.salary + self.bonus\n",
    "\n",
    "class Developer(Employee):\n",
    "    def __init__(self, name, salary, overtime_pay):\n",
    "        super().__init__(name, salary)\n",
    "        self.overtime_pay = overtime_pay\n",
    "\n",
    "    def calculate_salary(self):\n",
    "        return self.salary + self.overtime_pay\n",
    "\n",
    "class Designer(Employee):\n",
    "    def __init__(self, name, salary, project_bonus):\n",
    "        super().__init__(name, salary)\n",
    "        self.project_bonus = project_bonus\n",
    "\n",
    "    def calculate_salary(self):\n",
    "        return self.salary + self.project_bonus\n",
    "\n",
    "manager = Manager(\"Alice\", 50000, 10000)\n",
    "developer = Developer(\"Bob\", 40000, 5000)\n",
    "designer = Designer(\"Charlie\", 45000, 7000)\n",
    "\n",
    "print(manager.name, \"Salary:\", manager.calculate_salary())  \n",
    "print(developer.name, \"Salary:\", developer.calculate_salary())  \n",
    "print(designer.name, \"Salary:\", designer.calculate_salary())  \n"
   ]
  },
  {
   "cell_type": "markdown",
   "id": "388cbaf6-d5e9-4e5d-9180-53967528a9e4",
   "metadata": {},
   "source": [
    "#### 18. Discuss the concept of function pointers and how they can be used to achieve polymorphism in Python."
   ]
  },
  {
   "cell_type": "code",
   "execution_count": 13,
   "id": "e98117e5-567a-4f01-8222-9005bb8fe36e",
   "metadata": {},
   "outputs": [],
   "source": [
    "# In Python, the concept of function pointers is not as explicit as in some other programming languages like C or C++. \n",
    "# However, Python achieves a similar level of functionality through the use of first-class functions and higher-order functions.\n",
    "\n",
    "# First-Class Functions:\n",
    "\n",
    "# In Python, functions are first-class citizens, meaning they can be:\n",
    "\n",
    "# Assigned to variables\n",
    "# Passed as arguments to other functions\n",
    "# Returned as values from other functions\n",
    "\n",
    "\n",
    "# Higher-Order Functions:\n",
    "\n",
    "# A higher-order function is a function that takes another function as an argument or returns a function as its result. \n",
    "# Higher-order functions are commonly used to achieve polymorphism in Python by enabling different behaviors to be passed as arguments to a function.\n",
    "\n",
    "\n",
    "# Achieving Polymorphism with Function Pointers in Python:\n",
    "\n",
    "# Polymorphism can be achieved in Python by passing functions as arguments to other functions. \n",
    "# This allows different behaviors to be dynamically selected at runtime, depending on the function passed as an argument.\n",
    "\n",
    "# Here's how function pointers (functions passed as arguments) can be used to achieve polymorphism in Python:\n",
    "\n",
    "def operation(func, x, y):\n",
    "    return func(x, y)\n",
    "\n",
    "def add(x, y):\n",
    "    return x + y\n",
    "\n",
    "def multiply(x, y):\n",
    "    return x * y\n",
    "\n",
    "result_add = operation(add, 3, 4)       \n",
    "result_multiply = operation(multiply, 3, 4)  \n"
   ]
  },
  {
   "cell_type": "markdown",
   "id": "f2e4a596-eae0-416b-83a7-5db9fbbe747a",
   "metadata": {},
   "source": [
    "#### 19. Explain the role of interfaces and abstract classes in polymorphism, drawing comparisons between them."
   ]
  },
  {
   "cell_type": "code",
   "execution_count": 14,
   "id": "f2e6a38b-af05-48ea-8c25-82eadd244766",
   "metadata": {},
   "outputs": [],
   "source": [
    "# Interfaces:\n",
    "# In Python, interfaces are not a built-in concept like in languages such as Java or C#. \n",
    "# Instead, Python relies on the concept of \"duck typing,\" which means that an object is considered to be of a certain type if it has the same attributes and methods as that type. \n",
    "# This approach eliminates the need for explicit interfaces, but it can lead to issues with code readability and maintainability.\n",
    "\n",
    "# Abstract Classes:\n",
    "# Abstract classes, on the other hand, are a built-in concept in Python. \n",
    "# They are classes that cannot be instantiated directly and are intended to be inherited by other classes. \n",
    "# Abstract classes can contain both abstract methods (methods that must be implemented by subclasses) and concrete methods (methods that can be called directly). \n",
    "# Abstract classes are useful for defining a common base class for a group of related classes that share a common interface or implementation.\n",
    "\n",
    "# Key Differences:\n",
    "# The main difference between interfaces and abstract classes in Python is that interfaces are not a built-in concept, and Python relies on duck typing instead. \n",
    "# Abstract classes, on the other hand, are a built-in concept that provides a way to define a common base class for a group of related classes.\n",
    "\n",
    "# When to Use Each:\n",
    "# Use abstract classes when you need to define a common base class for a group of related classes that share a common interface or implementation. \n",
    "# Use interfaces when you need to define a contract or a set of methods that must be implemented by a class, but you don't care about the implementation details."
   ]
  },
  {
   "cell_type": "markdown",
   "id": "9aeb8943-833c-46c7-8272-32aa8c23104c",
   "metadata": {},
   "source": [
    "#### 20. Create a Python class for a zoo simulation, demonstrating polymorphism with different animal types (e.g., mammals, birds, reptiles) and their behavior (e.g., eating, sleeping, making sounds)."
   ]
  },
  {
   "cell_type": "code",
   "execution_count": 15,
   "id": "f0e1bb0e-561f-4bfd-8277-5c86698cada4",
   "metadata": {},
   "outputs": [
    {
     "name": "stdout",
     "output_type": "stream",
     "text": [
      "Lion says: Mammal sound\n",
      "Eagle says: Bird sound\n",
      "Snake says: Reptile sound\n",
      "Lion : Mammal eating\n",
      "Eagle : Bird eating\n",
      "Snake : Reptile eating\n",
      "Lion : Mammal sleeping\n",
      "Eagle : Bird sleeping\n",
      "Snake : Reptile sleeping\n"
     ]
    }
   ],
   "source": [
    "class Animal:\n",
    "    def __init__(self, name):\n",
    "        self.name = name\n",
    "\n",
    "    def make_sound(self):\n",
    "        pass\n",
    "\n",
    "    def eat(self):\n",
    "        pass\n",
    "\n",
    "    def sleep(self):\n",
    "        pass\n",
    "\n",
    "class Mammal(Animal):\n",
    "    def make_sound(self):\n",
    "        return \"Mammal sound\"\n",
    "\n",
    "    def eat(self):\n",
    "        return \"Mammal eating\"\n",
    "\n",
    "    def sleep(self):\n",
    "        return \"Mammal sleeping\"\n",
    "\n",
    "class Bird(Animal):\n",
    "    def make_sound(self):\n",
    "        return \"Bird sound\"\n",
    "\n",
    "    def eat(self):\n",
    "        return \"Bird eating\"\n",
    "\n",
    "    def sleep(self):\n",
    "        return \"Bird sleeping\"\n",
    "\n",
    "class Reptile(Animal):\n",
    "    def make_sound(self):\n",
    "        return \"Reptile sound\"\n",
    "\n",
    "    def eat(self):\n",
    "        return \"Reptile eating\"\n",
    "\n",
    "    def sleep(self):\n",
    "        return \"Reptile sleeping\"\n",
    "\n",
    "mammal = Mammal(\"Lion\")\n",
    "bird = Bird(\"Eagle\")\n",
    "reptile = Reptile(\"Snake\")\n",
    "\n",
    "print(mammal.name, \"says:\", mammal.make_sound())  \n",
    "print(bird.name, \"says:\", bird.make_sound())      \n",
    "print(reptile.name, \"says:\", reptile.make_sound())  \n",
    "\n",
    "print(mammal.name, \":\", mammal.eat())  \n",
    "print(bird.name, \":\", bird.eat())      \n",
    "print(reptile.name, \":\", reptile.eat())  \n",
    "\n",
    "print(mammal.name, \":\", mammal.sleep())  \n",
    "print(bird.name, \":\", bird.sleep())      \n",
    "print(reptile.name, \":\", reptile.sleep())  \n"
   ]
  },
  {
   "cell_type": "markdown",
   "id": "3de3d8b2-3bdb-49a6-80ae-38c39cb13272",
   "metadata": {},
   "source": [
    "# Abstraction:"
   ]
  },
  {
   "cell_type": "markdown",
   "id": "3190f217-1c58-48d1-bafd-0aa41b4287a1",
   "metadata": {},
   "source": [
    "#### 1. What is abstraction in Python, and how does it relate to object-oriented programming?"
   ]
  },
  {
   "cell_type": "code",
   "execution_count": 16,
   "id": "4ee7ad13-c9bd-42a6-b4c1-cf5067bc90f8",
   "metadata": {},
   "outputs": [],
   "source": [
    "# Abstraction in Python refers to the process of hiding complex implementation details and exposing only essential features of an object or system to the outside world. \n",
    "# It allows developers to focus on the high-level functionality of an object or system without being concerned about the internal complexities.\n",
    "\n",
    "# Here's how abstraction relates to OOP:\n",
    "\n",
    "# Encapsulation:\n",
    "# Abstraction and encapsulation often go hand in hand. Encapsulation involves bundling data and methods that operate on that data into a single unit, known as a class.\n",
    "# Abstraction focuses on hiding the internal details of a class and providing a simplified interface for interacting with it. \n",
    "# This simplification is achieved through encapsulation.\n",
    "\n",
    "# Hiding Implementation Details:\n",
    "# Abstraction allows developers to hide the implementation details of a class from the users of that class.\n",
    "# By exposing only essential features through a well-defined interface, abstraction shields users from the complexities of the underlying implementation, \n",
    "# making the class easier to understand and use.\n",
    "\n",
    "# Defining Interfaces:\n",
    "# Abstraction involves defining clear and concise interfaces that describe the behavior of a class without exposing its internal workings.\n",
    "# These interfaces serve as contracts that specify what methods can be called and how they should behave, promoting modularity, reusability, and maintainability.\n",
    "\n",
    "# Inheritance:\n",
    "# Inheritance enables the creation of abstract classes, which define common behavior and characteristics shared by multiple subclasses.\n",
    "# Abstract classes provide a level of abstraction by defining a template for subclasses to follow, while allowing specific implementations to vary.\n",
    "\n",
    "# Polymorphism:\n",
    "# Abstraction facilitates polymorphism by enabling objects of different types to be treated uniformly through common interfaces.\n",
    "# Polymorphic behavior allows objects to respond to method calls in different ways, depending on their specific implementations, \n",
    "# while hiding the implementation details behind a common interface."
   ]
  },
  {
   "cell_type": "markdown",
   "id": "34660e2b-b0fa-4dd9-95fd-267329356c6f",
   "metadata": {},
   "source": [
    "#### 2. Describe the benefits of abstraction in terms of code organization and complexity reduction."
   ]
  },
  {
   "cell_type": "code",
   "execution_count": 17,
   "id": "e7b37ea7-51d1-4cf1-9296-2142877c1df6",
   "metadata": {},
   "outputs": [],
   "source": [
    "# Abstraction is a fundamental concept in software development that helps reduce complexity and improve code organization. \n",
    "# By abstracting away implementation details, abstraction enables developers to focus on the essential aspects of the program, making it easier to maintain, \n",
    "# modify, and extend the code.\n",
    "\n",
    "# Benefits of Abstraction:\n",
    "\n",
    "# Code Organization: Abstraction helps organize code into logical layers, making it easier to understand and maintain. \n",
    "# By grouping related concepts together, abstraction creates a clear structure for the code, reducing complexity and improving readability.\n",
    "\n",
    "# Complexity Reduction: Abstraction reduces complexity by hiding implementation details and exposing only the necessary information to the outside world. \n",
    "# This simplifies the code, making it easier to understand and modify."
   ]
  },
  {
   "cell_type": "markdown",
   "id": "6fbdbea3-d98d-490b-8a0a-7af76b1eaca2",
   "metadata": {},
   "source": [
    "#### 3. Create a Python class called `Shape` with an abstract method `calculate_area()`. Then, create child classes (e.g., `Circle`, `Rectangle`) that implement the `calculate_area()` method. Provide an example of using these classes."
   ]
  },
  {
   "cell_type": "code",
   "execution_count": 18,
   "id": "63fd0027-ed53-480f-ab3c-ba8401630cc1",
   "metadata": {},
   "outputs": [
    {
     "name": "stdout",
     "output_type": "stream",
     "text": [
      "Area of the circle: 78.53981633974483\n",
      "Area of the rectangle: 24\n"
     ]
    }
   ],
   "source": [
    "from abc import ABC, abstractmethod\n",
    "import math\n",
    "\n",
    "class Shape(ABC):\n",
    "    @abstractmethod\n",
    "    def calculate_area(self):\n",
    "        pass\n",
    "\n",
    "class Circle(Shape):\n",
    "    def __init__(self, radius):\n",
    "        self.radius = radius\n",
    "\n",
    "    def calculate_area(self):\n",
    "        return math.pi * self.radius ** 2\n",
    "\n",
    "class Rectangle(Shape):\n",
    "    def __init__(self, width, height):\n",
    "        self.width = width\n",
    "        self.height = height\n",
    "\n",
    "    def calculate_area(self):\n",
    "        return self.width * self.height\n",
    "\n",
    "circle = Circle(5)\n",
    "rectangle = Rectangle(4, 6)\n",
    "\n",
    "print(\"Area of the circle:\", circle.calculate_area())      \n",
    "print(\"Area of the rectangle:\", rectangle.calculate_area())  \n"
   ]
  },
  {
   "cell_type": "markdown",
   "id": "6285edf0-d838-412f-9929-eed81bd05dc6",
   "metadata": {},
   "source": [
    "#### 4. Explain the concept of abstract classes in Python and how they are defined using the `abc` module. Provide an example."
   ]
  },
  {
   "cell_type": "code",
   "execution_count": 19,
   "id": "468f6421-98c4-40c7-a0e4-1463fcf4a409",
   "metadata": {},
   "outputs": [
    {
     "name": "stdout",
     "output_type": "stream",
     "text": [
      "Area of the circle: 78.5\n"
     ]
    }
   ],
   "source": [
    "# In Python, abstract classes are classes that cannot be instantiated on their own and typically contain one or more abstract methods. \n",
    "# An abstract method is a method that is declared but does not contain an implementation. \n",
    "# Instead, it must be implemented by subclasses that inherit from the abstract class. \n",
    "# Abstract classes are used to define a common interface or behavior that must be implemented by subclasses, promoting code reusability, consistency, and polymorphism.\n",
    "\n",
    "# The abc module in Python provides a mechanism for defining abstract classes and abstract methods. \n",
    "# The ABC (Abstract Base Class) class serves as the base class for defining abstract classes, and the abstractmethod decorator is used to mark methods as abstract.\n",
    "\n",
    "from abc import ABC, abstractmethod\n",
    "\n",
    "class Shape(ABC):  # Define an abstract class using the ABC class\n",
    "    @abstractmethod\n",
    "    def calculate_area(self):  # Declare an abstract method using the abstractmethod decorator\n",
    "        pass\n",
    "\n",
    "class Circle(Shape):  # Subclass inherits from the abstract class Shape\n",
    "    def __init__(self, radius):\n",
    "        self.radius = radius\n",
    "\n",
    "    def calculate_area(self):  # Implement the abstract method\n",
    "        return 3.14 * self.radius ** 2\n",
    "\n",
    "# Attempting to instantiate the abstract class will raise an error\n",
    "# shape = Shape()  # TypeError: Can't instantiate abstract class Shape with abstract methods calculate_area\n",
    "\n",
    "# Create an object of the Circle class\n",
    "circle = Circle(5)\n",
    "print(\"Area of the circle:\", circle.calculate_area())  \n"
   ]
  },
  {
   "cell_type": "markdown",
   "id": "847d8a6b-c42d-4b12-a0d6-8beaa24dbc68",
   "metadata": {},
   "source": [
    "#### 5. How do abstract classes differ from regular classes in Python? Discuss their use cases."
   ]
  },
  {
   "cell_type": "code",
   "execution_count": 21,
   "id": "2fed7d90-38b5-41fa-9b40-c9f858f3af18",
   "metadata": {},
   "outputs": [],
   "source": [
    "# Abstract Classes:\n",
    "\n",
    "# Cannot Be Instantiated Directly:\n",
    "# Abstract classes cannot be instantiated on their own. They are meant to be subclassed, and their abstract methods must be implemented by subclasses.\n",
    "\n",
    "# Contain Abstract Methods:\n",
    "# Abstract classes often contain one or more abstract methods, which are declared but not implemented in the abstract class itself.\n",
    "# Abstract methods serve as placeholders for functionality that must be implemented by subclasses.\n",
    "\n",
    "# Used to Define Interfaces or Common Behaviors:\n",
    "# Abstract classes are used to define a common interface or behavior that must be implemented by subclasses.\n",
    "# They provide a way to enforce a contract or protocol among a group of related classes.\n",
    "\n",
    "# Promote Polymorphism:\n",
    "# Abstract classes promote polymorphism by allowing objects of different subclasses to be treated uniformly through a common interface.\n",
    "# They enable the creation of code that is flexible, extensible, and easier to maintain.\n",
    "\n",
    "\n",
    "# Regular Classes:\n",
    "\n",
    "# Can Be Instantiated Directly:\n",
    "# Regular classes can be instantiated directly, and objects of these classes can be created without any restrictions.\n",
    "\n",
    "# May Contain Concrete Methods:\n",
    "# Regular classes may contain both concrete methods (with implementations) and abstract methods (if they inherit from an abstract class).\n",
    "\n",
    "# Used for Instantiation and Implementation:\n",
    "# Regular classes are used for creating objects and providing concrete implementations of methods.\n",
    "# They represent tangible entities or concepts in the application domain and encapsulate data and behavior related to those entities.\n",
    "\n",
    "# May Inherit from Abstract or Regular Classes:\n",
    "# Regular classes may inherit from abstract classes to provide implementations for abstract methods, or \n",
    "# they may inherit from other regular classes to extend their functionality.\n",
    "\n",
    "\n",
    "# Use Cases:\n",
    "\n",
    "# Abstract Classes:\n",
    "# Abstract classes are useful when defining a common interface or behavior that must be implemented by multiple subclasses.\n",
    "# They are suitable for scenarios where you want to enforce consistency and promote polymorphic behavior among related classes.\n",
    "# Use abstract classes when you want to define a template or blueprint for a group of related classes without providing concrete implementations.\n",
    "\n",
    "# Regular Classes:\n",
    "# Regular classes are used for creating objects and providing concrete implementations of methods.\n",
    "# They are suitable for representing tangible entities or concepts in the application domain.\n",
    "# Use regular classes when you need to instantiate objects with specific behavior and state or when you want to encapsulate data and behavior within a single unit."
   ]
  },
  {
   "cell_type": "markdown",
   "id": "4c9c3afc-1d1a-4ae3-92b3-c0c75639361d",
   "metadata": {},
   "source": [
    "#### 6. Create a Python class for a bank account and demonstrate abstraction by hiding the account balance and providing methods to deposit and withdraw funds."
   ]
  },
  {
   "cell_type": "code",
   "execution_count": 22,
   "id": "1321770a-6369-47aa-a90e-cb84071f8c76",
   "metadata": {},
   "outputs": [
    {
     "name": "stdout",
     "output_type": "stream",
     "text": [
      "Initial balance: 1000\n",
      "Deposited $500. New balance: $1500\n",
      "Withdrew $200. New balance: $1300\n",
      "Invalid withdrawal amount. Insufficient funds.\n"
     ]
    }
   ],
   "source": [
    "class BankAccount:\n",
    "    def __init__(self, initial_balance=0):\n",
    "        self._balance = initial_balance  # _balance is meant to be protected\n",
    "\n",
    "    def deposit(self, amount):\n",
    "        if amount > 0:\n",
    "            self._balance += amount\n",
    "            print(f\"Deposited ${amount}. New balance: ${self._balance}\")\n",
    "        else:\n",
    "            print(\"Invalid deposit amount. Please enter a positive value.\")\n",
    "\n",
    "    def withdraw(self, amount):\n",
    "        if 0 < amount <= self._balance:\n",
    "            self._balance -= amount\n",
    "            print(f\"Withdrew ${amount}. New balance: ${self._balance}\")\n",
    "        else:\n",
    "            print(\"Invalid withdrawal amount. Insufficient funds.\")\n",
    "\n",
    "    def get_balance(self):\n",
    "        return self._balance\n",
    "\n",
    "account = BankAccount(1000)\n",
    "print(\"Initial balance:\", account.get_balance())  \n",
    "\n",
    "account.deposit(500)  \n",
    "account.withdraw(200)  \n",
    "account.withdraw(2000)  \n"
   ]
  },
  {
   "cell_type": "markdown",
   "id": "16dbe989-33c1-47ad-b105-48fcb94f553d",
   "metadata": {},
   "source": [
    "#### 7. Discuss the concept of interface classes in Python and their role in achieving abstraction."
   ]
  },
  {
   "cell_type": "code",
   "execution_count": 23,
   "id": "47df2f04-e696-475c-a0dc-4247c7d0bbd8",
   "metadata": {},
   "outputs": [
    {
     "name": "stdout",
     "output_type": "stream",
     "text": [
      "Drawing a circle\n",
      "Drawing a rectangle\n"
     ]
    }
   ],
   "source": [
    "# In Python, interface classes are not a built-in feature like in some other programming languages such as Java. \n",
    "# However, the concept of interfaces can still be achieved through abstract base classes (ABCs) using the abc module. \n",
    "# Interface classes define a contract specifying a set of methods that must be implemented by classes that conform to the interface. \n",
    "# This allows for abstraction by providing a clear and standardized way for classes to interact with each other without being concerned about the specific implementation details.\n",
    "\n",
    "# Role of Interface Classes in Achieving Abstraction:\n",
    "\n",
    "# Defining Contracts:\n",
    "# Interface classes define contracts that specify a set of methods that implementing classes must provide.\n",
    "# These contracts serve as a blueprint for how classes should interact with each other, promoting consistency and interoperability.\n",
    "\n",
    "# Hiding Implementation Details:\n",
    "# Interface classes hide the implementation details of classes that conform to the interface.\n",
    "# By focusing on the interface rather than the implementation, interface classes facilitate abstraction and allow classes to interact at a higher level of abstraction.\n",
    "\n",
    "# Enforcing Consistency:\n",
    "# Interface classes enforce consistency among classes by ensuring that they provide the same set of methods specified by the interface.\n",
    "# This promotes code reliability, maintainability, and ease of understanding by establishing a common understanding of how classes should behave.\n",
    "\n",
    "# Promoting Polymorphism:\n",
    "# Interface classes enable polymorphic behavior by allowing objects of different classes to be treated uniformly through a common interface.\n",
    "# This promotes flexibility and extensibility in the codebase, as new classes can be easily integrated into existing systems as long as they conform to the interface.\n",
    "\n",
    "\n",
    "# Using Abstract Base Classes (ABCs) as Interface Classes:\n",
    "\n",
    "# In Python, interface classes can be implemented using abstract base classes (ABCs) from the abc module. \n",
    "# Abstract methods defined in ABCs serve as the interface's methods, and concrete implementations are provided by subclasses.\n",
    "\n",
    "from abc import ABC, abstractmethod\n",
    "\n",
    "class Drawable(ABC):  # Interface class\n",
    "    @abstractmethod\n",
    "    def draw(self):\n",
    "        pass\n",
    "\n",
    "class Circle(Drawable):  # Subclass implementing the interface\n",
    "    def draw(self):\n",
    "        print(\"Drawing a circle\")\n",
    "\n",
    "class Rectangle(Drawable):  # Another subclass implementing the interface\n",
    "    def draw(self):\n",
    "        print(\"Drawing a rectangle\")\n",
    "\n",
    "shapes = [Circle(), Rectangle()]\n",
    "for shape in shapes:\n",
    "    shape.draw()  "
   ]
  },
  {
   "cell_type": "markdown",
   "id": "4bd83a38-0cf4-4a8a-ad01-699a6be24d68",
   "metadata": {},
   "source": [
    "#### 8. Create a Python class hierarchy for animals and implement abstraction by defining common methods (e.g., `eat()`, `sleep()`) in an abstract base class."
   ]
  },
  {
   "cell_type": "code",
   "execution_count": 24,
   "id": "c149411b-5159-43c7-9616-964515f471dc",
   "metadata": {},
   "outputs": [
    {
     "name": "stdout",
     "output_type": "stream",
     "text": [
      "Lion the mammal is eating\n",
      "Eagle the bird is sleeping\n",
      "Snake the reptile is eating\n"
     ]
    }
   ],
   "source": [
    "from abc import ABC, abstractmethod\n",
    "\n",
    "class Animal(ABC):\n",
    "    def __init__(self, name):\n",
    "        self.name = name\n",
    "\n",
    "    @abstractmethod\n",
    "    def eat(self):\n",
    "        pass\n",
    "\n",
    "    @abstractmethod\n",
    "    def sleep(self):\n",
    "        pass\n",
    "\n",
    "class Mammal(Animal):\n",
    "    def eat(self):\n",
    "        return f\"{self.name} the mammal is eating\"\n",
    "\n",
    "    def sleep(self):\n",
    "        return f\"{self.name} the mammal is sleeping\"\n",
    "\n",
    "class Bird(Animal):\n",
    "    def eat(self):\n",
    "        return f\"{self.name} the bird is eating\"\n",
    "\n",
    "    def sleep(self):\n",
    "        return f\"{self.name} the bird is sleeping\"\n",
    "\n",
    "class Reptile(Animal):\n",
    "    def eat(self):\n",
    "        return f\"{self.name} the reptile is eating\"\n",
    "\n",
    "    def sleep(self):\n",
    "        return f\"{self.name} the reptile is sleeping\"\n",
    "\n",
    "lion = Mammal(\"Lion\")\n",
    "eagle = Bird(\"Eagle\")\n",
    "snake = Reptile(\"Snake\")\n",
    "\n",
    "print(lion.eat())   \n",
    "print(eagle.sleep())  \n",
    "print(snake.eat())  "
   ]
  },
  {
   "cell_type": "markdown",
   "id": "3f1fc232-5a96-483e-9c3d-308e82e5f8a6",
   "metadata": {},
   "source": [
    "#### 9. Explain the significance of encapsulation in achieving abstraction. Provide examples."
   ]
  },
  {
   "cell_type": "code",
   "execution_count": 25,
   "id": "659d964a-498e-43d5-b266-8b5a7b95870c",
   "metadata": {},
   "outputs": [
    {
     "name": "stdout",
     "output_type": "stream",
     "text": [
      "1000\n",
      "2000\n"
     ]
    }
   ],
   "source": [
    "# Benefits of Encapsulation:\n",
    "\n",
    "# Data Hiding: Encapsulation allows developers to hide the internal implementation details of an object from the outside world, \n",
    "# which helps to prevent accidental data modification or misuse.\n",
    "# Improved Security: By controlling access to the data and methods, encapsulation provides a layer of security, ensuring that sensitive data is not exposed to unauthorized access.\n",
    "# Code Reusability: Encapsulated code is more reusable, as it can be easily integrated into other parts of the program without exposing the internal implementation details.\n",
    "# Simplified Maintenance: Encapsulation simplifies the maintenance of the application by keeping classes separated and preventing them from tightly coupling with each other.\n",
    "\n",
    "# In Python, encapsulation is implemented using access modifiers and properties. \n",
    "# By default, all data and methods in Python are public, which means they can be accessed from anywhere in the code. \n",
    "# However, Python also allows developers to define private and protected data and methods, which can only be accessed by code within the same class or subclass.\n",
    "\n",
    "class BankAccount:\n",
    "    def __init__(self, balance):\n",
    "        self.__balance = balance\n",
    "\n",
    "    def get_balance(self):\n",
    "        return self.__balance\n",
    "\n",
    "    def set_balance(self, value):\n",
    "        if value < 0:\n",
    "            raise ValueError(\"Balance cannot be negative\")\n",
    "        self.__balance = value\n",
    "\n",
    "account = BankAccount(1000)\n",
    "print(account.get_balance())  \n",
    "account.set_balance(2000)  \n",
    "print(account.get_balance())  "
   ]
  },
  {
   "cell_type": "markdown",
   "id": "f389655a-4ca5-4f48-8efd-5d21c83ad0c4",
   "metadata": {},
   "source": [
    "#### 10. What is the purpose of abstract methods, and how do they enforce abstraction in Python classes?"
   ]
  },
  {
   "cell_type": "code",
   "execution_count": 26,
   "id": "f76e28f5-8c03-409a-923f-a68e85736c68",
   "metadata": {},
   "outputs": [],
   "source": [
    "# The purpose of abstract methods in Python is to define a method signature without providing an implementation. \n",
    "# Abstract methods serve as placeholders for functionality that must be implemented by subclasses. \n",
    "# They enforce abstraction in Python classes by defining a contract that subclasses must adhere to, ensuring consistent behavior across different implementations.\n",
    "\n",
    "# Here's how abstract methods enforce abstraction in Python classes:\n",
    "\n",
    "# Defining a Contract:\n",
    "# Abstract methods define a contract specifying a set of methods that must be implemented by subclasses.\n",
    "# This contract serves as a blueprint for how subclasses should interact with the base class or interface.\n",
    "\n",
    "# Hiding Implementation Details:\n",
    "# Abstract methods hide the implementation details of the method in the base class.\n",
    "# Subclasses are responsible for providing their own implementations of abstract methods, \n",
    "# allowing them to customize behavior while adhering to the contract defined by the base class.\n",
    "\n",
    "# Enforcing Consistency:\n",
    "# Abstract methods enforce consistency among subclasses by ensuring that they provide the same set of methods specified by the abstract base class or interface.\n",
    "# This promotes code reliability, maintainability, and ease of understanding by establishing a common understanding of how subclasses should behave.\n",
    "\n",
    "# Promoting Polymorphism:\n",
    "# Abstract methods promote polymorphic behavior by allowing objects of different subclasses to be treated uniformly through a common interface.\n",
    "# Subclasses provide their own implementations of abstract methods, allowing for flexibility and extensibility in the codebase."
   ]
  },
  {
   "cell_type": "markdown",
   "id": "bea9ddac-77a1-4aed-859d-1812a9c6c226",
   "metadata": {},
   "source": [
    "#### 11. Create a Python class for a vehicle system and demonstrate abstraction by defining common methods (e.g., `start()`, `stop()`) in an abstract base class."
   ]
  },
  {
   "cell_type": "code",
   "execution_count": 27,
   "id": "3a8fc07f-0c08-4046-a933-973116397498",
   "metadata": {},
   "outputs": [
    {
     "name": "stdout",
     "output_type": "stream",
     "text": [
      "Toyota starts the engine\n",
      "Mountain Bike stops pedaling\n",
      "Speedboat starts the motor\n"
     ]
    }
   ],
   "source": [
    "from abc import ABC, abstractmethod\n",
    "\n",
    "class Vehicle(ABC):\n",
    "    def __init__(self, name):\n",
    "        self.name = name\n",
    "\n",
    "    @abstractmethod\n",
    "    def start(self):\n",
    "        pass\n",
    "\n",
    "    @abstractmethod\n",
    "    def stop(self):\n",
    "        pass\n",
    "\n",
    "class Car(Vehicle):\n",
    "    def start(self):\n",
    "        return f\"{self.name} starts the engine\"\n",
    "\n",
    "    def stop(self):\n",
    "        return f\"{self.name} stops the engine\"\n",
    "\n",
    "class Bicycle(Vehicle):\n",
    "    def start(self):\n",
    "        return f\"{self.name} starts pedaling\"\n",
    "\n",
    "    def stop(self):\n",
    "        return f\"{self.name} stops pedaling\"\n",
    "\n",
    "class Boat(Vehicle):\n",
    "    def start(self):\n",
    "        return f\"{self.name} starts the motor\"\n",
    "\n",
    "    def stop(self):\n",
    "        return f\"{self.name} stops the motor\"\n",
    "\n",
    "car = Car(\"Toyota\")\n",
    "bicycle = Bicycle(\"Mountain Bike\")\n",
    "boat = Boat(\"Speedboat\")\n",
    "\n",
    "print(car.start())  \n",
    "print(bicycle.stop()) \n",
    "print(boat.start())  \n"
   ]
  },
  {
   "cell_type": "markdown",
   "id": "6a957a79-6604-4291-b137-4805328a8dc6",
   "metadata": {},
   "source": [
    "#### 12. Describe the use of abstract properties in Python and how they can be employed in abstract classes."
   ]
  },
  {
   "cell_type": "code",
   "execution_count": 28,
   "id": "313b92cb-d438-4c28-90cf-e8acac9cc565",
   "metadata": {},
   "outputs": [
    {
     "name": "stdout",
     "output_type": "stream",
     "text": [
      "0\n",
      "60\n"
     ]
    }
   ],
   "source": [
    "# In Python, abstract properties are properties defined in abstract base classes (ABCs) that serve as placeholders for attributes that must be implemented by subclasses. \n",
    "# They are similar to abstract methods but are used to enforce the implementation of attributes rather than methods. \n",
    "# Abstract properties are declared using the @property decorator in combination with the @abstractmethod decorator.\n",
    "\n",
    "# Here's how abstract properties can be employed in abstract classes:\n",
    "\n",
    "# Defining Abstract Properties:\n",
    "# Abstract properties are defined in abstract base classes using the @property decorator along with the @abstractmethod decorator.\n",
    "# They provide a way to specify attributes that must be implemented by subclasses, enforcing a contract for attribute existence and behavior.\n",
    "\n",
    "# Enforcing Attribute Implementation:\n",
    "# Subclasses of the abstract base class must provide concrete implementations for abstract properties.\n",
    "# Failure to implement abstract properties in subclasses will result in a TypeError at runtime, indicating that the class does not meet the requirements of the abstract base class.\n",
    "\n",
    "# Promoting Consistency and Interoperability:\n",
    "# Abstract properties promote consistency and interoperability among subclasses by ensuring that they provide the same set of attributes specified by the abstract base class.\n",
    "# This helps maintain code reliability, maintainability, and ease of understanding by establishing a common interface for attribute access.\n",
    "\n",
    "from abc import ABC, abstractmethod\n",
    "\n",
    "class Vehicle(ABC):\n",
    "    def __init__(self, name):\n",
    "        self.name = name\n",
    "\n",
    "    @property\n",
    "    @abstractmethod\n",
    "    def speed(self):\n",
    "        pass\n",
    "\n",
    "    @speed.setter\n",
    "    @abstractmethod\n",
    "    def speed(self, value):\n",
    "        pass\n",
    "\n",
    "class Car(Vehicle):\n",
    "    def __init__(self, name):\n",
    "        super().__init__(name)\n",
    "        self._speed = 0\n",
    "\n",
    "    @property\n",
    "    def speed(self):\n",
    "        return self._speed\n",
    "\n",
    "    @speed.setter\n",
    "    def speed(self, value):\n",
    "        if value >= 0:\n",
    "            self._speed = value\n",
    "        else:\n",
    "            raise ValueError(\"Speed must be non-negative\")\n",
    "\n",
    "car = Car(\"Toyota\")\n",
    "print(car.speed)  \n",
    "\n",
    "car.speed = 60\n",
    "print(car.speed)  \n"
   ]
  },
  {
   "cell_type": "markdown",
   "id": "2c4f8e88-b9be-4a9d-8303-aba0e3cf2547",
   "metadata": {},
   "source": [
    "#### 13. Create a Python class hierarchy for employees in a company (e.g., manager, developer, designer) and implement abstraction by defining a common `get_salary()` method."
   ]
  },
  {
   "cell_type": "code",
   "execution_count": 29,
   "id": "a12a6994-7ce8-4ea8-9376-423de4c919db",
   "metadata": {},
   "outputs": [
    {
     "name": "stdout",
     "output_type": "stream",
     "text": [
      "John Doe has a salary of $80000\n",
      "Alice Smith has a salary of $70000\n",
      "Bob Johnson has a salary of $60000\n"
     ]
    }
   ],
   "source": [
    "from abc import ABC, abstractmethod\n",
    "\n",
    "class Employee(ABC):\n",
    "    def __init__(self, name, salary):\n",
    "        self.name = name\n",
    "        self.salary = salary\n",
    "\n",
    "    @abstractmethod\n",
    "    def get_salary(self):\n",
    "        pass\n",
    "\n",
    "class Manager(Employee):\n",
    "    def get_salary(self):\n",
    "        return f\"{self.name} has a salary of ${self.salary}\"\n",
    "\n",
    "class Developer(Employee):\n",
    "    def get_salary(self):\n",
    "        return f\"{self.name} has a salary of ${self.salary}\"\n",
    "\n",
    "class Designer(Employee):\n",
    "    def get_salary(self):\n",
    "        return f\"{self.name} has a salary of ${self.salary}\"\n",
    "\n",
    "manager = Manager(\"John Doe\", 80000)\n",
    "developer = Developer(\"Alice Smith\", 70000)\n",
    "designer = Designer(\"Bob Johnson\", 60000)\n",
    "\n",
    "print(manager.get_salary())  \n",
    "print(developer.get_salary())  \n",
    "print(designer.get_salary())  \n"
   ]
  },
  {
   "cell_type": "markdown",
   "id": "4303228e-6ac5-4d42-9bc2-61775ac8699c",
   "metadata": {},
   "source": [
    "#### 14. Discuss the differences between abstract classes and concrete classes in Python, including their instantiation."
   ]
  },
  {
   "cell_type": "code",
   "execution_count": 1,
   "id": "7b3408a6-9a88-49b3-9af6-a225634e938b",
   "metadata": {},
   "outputs": [
    {
     "name": "stdout",
     "output_type": "stream",
     "text": [
      "Woof!\n",
      "Meow!\n"
     ]
    }
   ],
   "source": [
    "# Abstract Classes:\n",
    "\n",
    "# Purpose:\n",
    "# Abstract classes are designed to serve as blueprints for other classes. They define a set of methods (and sometimes properties) that must be implemented by subclasses.\n",
    "# Abstract classes are used to enforce a common interface or behavior among a group of related classes.\n",
    "\n",
    "# Behavior:\n",
    "# Abstract classes may contain abstract methods (methods without implementation) and concrete methods (methods with implementation).\n",
    "# Abstract classes cannot be instantiated on their own. They are meant to be subclassed, and their abstract methods must be implemented by subclasses.\n",
    "# Abstract classes may contain attributes, properties, and constructor methods like concrete classes, but their primary purpose is to define a \n",
    "# contract for subclasses rather than providing concrete functionality.\n",
    "\n",
    "# Instantiation:\n",
    "# Attempting to directly instantiate an abstract class will result in a TypeError.\n",
    "# Abstract classes are instantiated indirectly by creating instances of concrete subclasses that provide implementations for all abstract methods.\n",
    "\n",
    "\n",
    "\n",
    "# Concrete Classes:\n",
    "\n",
    "# Purpose:\n",
    "# Concrete classes are regular classes that can be instantiated directly.\n",
    "# They define concrete implementations of methods and properties and provide tangible functionality to the program.\n",
    "\n",
    "# Behavior:\n",
    "# Concrete classes may contain both methods with implementations and attributes that store data.\n",
    "# They can be instantiated directly, allowing for the creation of objects with specific behavior and state.\n",
    "\n",
    "# Instantiation:\n",
    "# Concrete classes can be instantiated directly by calling their constructor methods using the class name followed by parentheses.\n",
    "\n",
    "\n",
    "from abc import ABC, abstractmethod\n",
    "\n",
    "# Abstract class\n",
    "class Animal(ABC):\n",
    "    @abstractmethod\n",
    "    def speak(self):\n",
    "        pass\n",
    "\n",
    "# Concrete subclass\n",
    "class Dog(Animal):\n",
    "    def speak(self):\n",
    "        return \"Woof!\"\n",
    "\n",
    "# Concrete class\n",
    "class Cat(Animal):\n",
    "    def speak(self):\n",
    "        return \"Meow!\"\n",
    "\n",
    "# Attempting to instantiate an abstract class (Animal)\n",
    "# animal = Animal()  # TypeError: Can't instantiate abstract class Animal with abstract methods speak\n",
    "\n",
    "# Instantiating concrete classes (Dog and Cat)\n",
    "dog = Dog()\n",
    "cat = Cat()\n",
    "\n",
    "print(dog.speak())  \n",
    "print(cat.speak())  \n"
   ]
  },
  {
   "cell_type": "markdown",
   "id": "42bbd172-f99a-4777-9544-c2ac85a64d11",
   "metadata": {},
   "source": [
    "#### 15. Explain the concept of abstract data types (ADTs) and their role in achieving abstraction in Python."
   ]
  },
  {
   "cell_type": "code",
   "execution_count": 2,
   "id": "954fd8bf-8bc8-459a-92fe-842a749cad87",
   "metadata": {},
   "outputs": [],
   "source": [
    "# Abstract Data Types (ADTs) are high-level representations of data structures that define the operations that can be performed on them. \n",
    "# In other words, ADTs are abstract representations of data structures that define the interface or the contract that a data structure must adhere to.\n",
    "\n",
    "# Here are some key benefits of using ADTs in Python:\n",
    "\n",
    "# Abstraction: ADTs provide a way to abstract away the implementation details of a data structure, \n",
    "# allowing developers to focus on the functionality of the data structure without worrying about the implementation details.\n",
    "\n",
    "# Modularity: ADTs promote modularity by allowing developers to define the interface or the contract that a data structure \n",
    "# must adhere to, without specifying how it is implemented. \n",
    "# This makes it easier to modify or replace the implementation without affecting the rest of the code.\n",
    "\n",
    "# Reusability: ADTs promote reusability by allowing developers to define a data structure that can be used in multiple contexts without having to rewrite the implementation.\n",
    "\n",
    "# Extensibility: ADTs promote extensibility by allowing developers to add new operations or methods to a data structure without affecting the existing code.\n",
    "\n",
    "class Stack:\n",
    "    def __init__(self):\n",
    "        self.items = []\n",
    "\n",
    "    def is_empty(self):\n",
    "        return len(self.items) == 0\n",
    "\n",
    "    def push(self, item):\n",
    "        self.items.append(item)\n",
    "\n",
    "    def pop(self):\n",
    "        if not self.is_empty():\n",
    "            return self.items.pop()\n",
    "        else:\n",
    "            return None\n",
    "\n",
    "    def peek(self):\n",
    "        if not self.is_empty():\n",
    "            return self.items[-1]\n",
    "        else:\n",
    "            return None\n",
    "        \n",
    "# In this example, the Stack class defines the interface or the contract that a stack must adhere to. \n",
    "# The push, pop, and peek methods define the operations that can be performed on the stack. \n",
    "# The implementation details of the stack are abstracted away, allowing developers to focus on the functionality of the stack without worrying about the implementation details."
   ]
  },
  {
   "cell_type": "markdown",
   "id": "024c495c-518f-4ac5-b7de-8d1d88096670",
   "metadata": {},
   "source": [
    "#### 16. Create a Python class for a computer system, demonstrating abstraction by defining common methods (e.g., `power_on()`, `shutdown()`) in an abstract base class."
   ]
  },
  {
   "cell_type": "code",
   "execution_count": 3,
   "id": "c2207254-f43c-476e-be7b-5fcf95bbb4d4",
   "metadata": {},
   "outputs": [
    {
     "name": "stdout",
     "output_type": "stream",
     "text": [
      "Dell laptop is powering on\n",
      "HP desktop is shutting down\n"
     ]
    }
   ],
   "source": [
    "from abc import ABC, abstractmethod\n",
    "\n",
    "class Computer(ABC):\n",
    "    def __init__(self, brand):\n",
    "        self.brand = brand\n",
    "\n",
    "    @abstractmethod\n",
    "    def power_on(self):\n",
    "        pass\n",
    "\n",
    "    @abstractmethod\n",
    "    def shutdown(self):\n",
    "        pass\n",
    "\n",
    "class Laptop(Computer):\n",
    "    def power_on(self):\n",
    "        return f\"{self.brand} laptop is powering on\"\n",
    "\n",
    "    def shutdown(self):\n",
    "        return f\"{self.brand} laptop is shutting down\"\n",
    "\n",
    "class Desktop(Computer):\n",
    "    def power_on(self):\n",
    "        return f\"{self.brand} desktop is powering on\"\n",
    "\n",
    "    def shutdown(self):\n",
    "        return f\"{self.brand} desktop is shutting down\"\n",
    "\n",
    "laptop = Laptop(\"Dell\")\n",
    "desktop = Desktop(\"HP\")\n",
    "\n",
    "print(laptop.power_on())   \n",
    "print(desktop.shutdown())  \n"
   ]
  },
  {
   "cell_type": "markdown",
   "id": "be91f859-1601-4de1-8862-265014cb57e2",
   "metadata": {},
   "source": [
    "#### 17. Discuss the benefits of using abstraction in large-scale software development projects."
   ]
  },
  {
   "cell_type": "code",
   "execution_count": 4,
   "id": "7006c90a-9236-4356-bfb8-5e8bfdc1f823",
   "metadata": {},
   "outputs": [],
   "source": [
    "# Abstraction is a fundamental concept in software development that plays a crucial role in large-scale software development projects. \n",
    "# Abstraction is the process of exposing only the necessary information to the outside world while hiding the internal implementation details. \n",
    "\n",
    "# The benefits of using abstraction in large-scale software development projects are numerous and can be summarized as follows:\n",
    "\n",
    "# Improved Modularity: Abstraction enables developers to break down complex systems into smaller, independent modules that can be developed, tested, and maintained separately. \n",
    "# This improves the overall modularity of the system, making it easier to manage and maintain.\n",
    "\n",
    "# Easier Maintenance: Abstraction helps to decouple dependent components, making it easier to modify or replace individual components without affecting the rest of the system. \n",
    "# This reduces the risk of introducing bugs or breaking existing functionality.\n",
    "\n",
    "# Improved Scalability: Abstraction enables developers to add new features or components without affecting the existing system. \n",
    "# This makes it easier to scale the system to meet growing demands or changing requirements.\n",
    "\n",
    "# Better Reusability: Abstraction enables developers to reuse existing components or modules in other parts of the system or even in other projects. \n",
    "# This reduces the need to recreate functionality and saves time and resources.\n",
    "\n",
    "# Improved Readability and Understandability: Abstraction helps to simplify complex systems by hiding internal implementation details and exposing only the necessary information. \n",
    "# This makes it easier for developers to understand and maintain the system.\n",
    "\n",
    "# Improved Flexibility: Abstraction enables developers to change the internal implementation of a component without affecting the external interface. \n",
    "# This makes it easier to adapt to changing requirements or technologies.\n",
    "\n",
    "# Improved Testability: Abstraction enables developers to test individual components or modules independently, making it easier to identify and fix bugs. \n",
    "# This improves the overall quality and reliability of the system.\n",
    "\n",
    "# Improved Collaboration: Abstraction enables developers to work on different components or modules independently, making it easier to collaborate on large-scale projects. \n",
    "# This improves the overall efficiency and productivity of the development team.\n",
    "\n",
    "# Improved Security: Abstraction helps to reduce the attack surface by hiding internal implementation details and exposing only the necessary information. \n",
    "# This makes it harder for attackers to exploit vulnerabilities.\n",
    "\n",
    "# Improved Documentation: Abstraction enables developers to create clear and concise documentation that focuses on the external interface and hides internal implementation details. \n",
    "# This improves the overall documentation quality and makes it easier for developers to understand and maintain the system."
   ]
  },
  {
   "cell_type": "markdown",
   "id": "66dfdd5e-9c97-4835-aa8f-14b55556d7a3",
   "metadata": {},
   "source": [
    "#### 18. Explain how abstraction enhances code reusability and modularity in Python programs."
   ]
  },
  {
   "cell_type": "code",
   "execution_count": 5,
   "id": "7c957667-7b63-449e-af96-92f37071c7ab",
   "metadata": {},
   "outputs": [],
   "source": [
    "# Encapsulation of Implementation Details:\n",
    "# Abstraction allows you to encapsulate the implementation details of a component within a well-defined interface.\n",
    "# By hiding unnecessary details and exposing only essential functionalities, abstraction simplifies the usage of components and makes them easier to understand.\n",
    "\n",
    "# Promotion of Code Reusability:\n",
    "# Abstraction promotes code reusability by allowing components to be reused in different contexts without modification.\n",
    "# Once an abstract interface is defined, multiple concrete implementations can be created to fulfill different requirements while adhering to the same interface.\n",
    "# This reduces redundancy and promotes consistency across the codebase.\n",
    "\n",
    "# Facilitation of Modular Design:\n",
    "# Abstraction facilitates modular design by breaking down complex systems into smaller, more manageable components.\n",
    "# Each component can be designed, implemented, and tested independently, leading to better code organization and maintenance.\n",
    "# Modules can be easily interchanged or replaced without affecting other parts of the system as long as they adhere to the same abstract interface.\n",
    "\n",
    "# Isolation of Changes:\n",
    "# Abstraction isolates changes by decoupling the implementation details of components from their usage.\n",
    "# If a change is needed in one part of the codebase, it can often be made without affecting other parts as long as the abstract interface remains unchanged.\n",
    "# This reduces the risk of unintended side effects and makes it easier to maintain and evolve the codebase over time.\n",
    "\n",
    "# Enhancement of Testability:\n",
    "# Abstraction enhances testability by allowing components to be tested independently of their concrete implementations.\n",
    "# Mocking or stubbing can be used to simulate the behavior of dependencies, enabling thorough testing of individual components in isolation.\n",
    "\n",
    "# In summary, abstraction enhances code reusability and modularity in Python programs by encapsulating implementation details, \n",
    "# promoting code reuse, facilitating modular design, isolating changes, and enhancing testability. \n",
    "# By defining clear and well-defined interfaces, abstraction simplifies the development, maintenance, and evolution of software systems."
   ]
  },
  {
   "cell_type": "markdown",
   "id": "fc910913-0949-4e9d-bdd9-885818e31cce",
   "metadata": {},
   "source": [
    "#### 19. Create a Python class for a library system, implementing abstraction by defining common methods (e.g., `add_book()`, `borrow_book()`) in an abstract base class."
   ]
  },
  {
   "cell_type": "code",
   "execution_count": 8,
   "id": "707869b0-0649-484a-b26f-d4a11587e8ad",
   "metadata": {},
   "outputs": [
    {
     "name": "stdout",
     "output_type": "stream",
     "text": [
      "Added 'Introduction to Python' by John Doe to the library\n",
      "Added 'Data Structures and Algorithms' by Alice Smith to the library\n",
      "Borrowed 'Introduction to Python' from the library\n",
      "Borrowed 'Data Structures and Algorithms' from the library\n",
      "Returned 'Introduction to Python' to the library\n",
      "Borrowed 'Introduction to Python' from the library\n"
     ]
    }
   ],
   "source": [
    "from abc import ABC, abstractmethod\n",
    "\n",
    "class LibrarySystem(ABC):\n",
    "    def __init__(self):\n",
    "        self.books = {}\n",
    "\n",
    "    @abstractmethod\n",
    "    def add_book(self, book_title, book_author):\n",
    "        pass\n",
    "\n",
    "    @abstractmethod\n",
    "    def borrow_book(self, book_title):\n",
    "        pass\n",
    "\n",
    "    @abstractmethod\n",
    "    def return_book(self, book_title):\n",
    "        pass\n",
    "\n",
    "class SimpleLibrary(LibrarySystem):\n",
    "    def add_book(self, book_title, book_author):\n",
    "        if book_title not in self.books:\n",
    "            self.books[book_title] = book_author\n",
    "            print(f\"Added '{book_title}' by {book_author} to the library\")\n",
    "        else:\n",
    "            print(f\"'{book_title}' is already in the library\")\n",
    "\n",
    "    def borrow_book(self, book_title):\n",
    "        if book_title in self.books:\n",
    "            del self.books[book_title]\n",
    "            print(f\"Borrowed '{book_title}' from the library\")\n",
    "        else:\n",
    "            print(f\"'{book_title}' is not available in the library\")\n",
    "\n",
    "    def return_book(self, book_title, book_author):\n",
    "        if book_title not in self.books:\n",
    "            self.books[book_title] = book_author\n",
    "            print(f\"Returned '{book_title}' to the library\")\n",
    "        else:\n",
    "            print(f\"'{book_title}' is already in the library\")\n",
    "\n",
    "library = SimpleLibrary()\n",
    "library.add_book(\"Introduction to Python\", \"John Doe\")\n",
    "library.add_book(\"Data Structures and Algorithms\", \"Alice Smith\")\n",
    "\n",
    "library.borrow_book(\"Introduction to Python\")\n",
    "library.borrow_book(\"Data Structures and Algorithms\")\n",
    "\n",
    "library.return_book(\"Introduction to Python\", \"John Doe\")\n",
    "library.borrow_book(\"Introduction to Python\")\n"
   ]
  },
  {
   "cell_type": "markdown",
   "id": "4940c930-6259-4cf4-b195-4af2ddba2f9c",
   "metadata": {},
   "source": [
    "#### 20. Describe the concept of method abstraction in Python and how it relates to polymorphism."
   ]
  },
  {
   "cell_type": "code",
   "execution_count": 9,
   "id": "8a28a2e7-2fbc-42e7-90ec-77640a59df9c",
   "metadata": {},
   "outputs": [],
   "source": [
    "# Method abstraction in Python refers to the process of defining methods in abstract base classes (ABCs) without providing their implementations. \n",
    "# These abstract methods serve as placeholders for functionality that must be implemented by concrete subclasses. \n",
    "# Method abstraction is closely related to polymorphism, as it enables different subclasses to provide their own implementations of the abstract methods, \n",
    "# resulting in polymorphic behavior.\n",
    "\n",
    "# Here's how method abstraction relates to polymorphism:\n",
    "\n",
    "# Abstraction with Abstract Methods:\n",
    "# Method abstraction is achieved using abstract methods, which are defined in abstract base classes (ABCs) using the @abstractmethod decorator.\n",
    "# Abstract methods do not have implementations in the abstract base class; instead, they specify a method signature that must be implemented by concrete subclasses.\n",
    "\n",
    "# Polymorphism with Concrete Implementations:\n",
    "# Concrete subclasses of the abstract base class provide concrete implementations of the abstract methods.\n",
    "# Each subclass can implement the abstract methods differently, allowing for polymorphic behavior.\n",
    "# Polymorphism enables objects of different subclasses to be treated uniformly through a common interface, despite their different implementations.\n",
    "\n",
    "# Dynamic Binding:\n",
    "# In Python, method calls are dynamically bound at runtime based on the type of the object.\n",
    "# When a method is called on an object, Python determines the appropriate method implementation to execute based on the object's actual type.\n",
    "# This dynamic binding allows for polymorphic behavior, where the same method call can result in different behavior depending on the type of the object.\n",
    "\n",
    "# Flexibility and Extensibility:\n",
    "# Method abstraction and polymorphism provide flexibility and extensibility in object-oriented design.\n",
    "# New subclasses can be added later without modifying existing code, as long as they adhere to the abstract interface defined by the abstract base class.\n",
    "# This promotes code reuse, maintainability, and scalability in large codebases."
   ]
  },
  {
   "cell_type": "markdown",
   "id": "4a7c41f1-20d6-4fc2-8b67-7aee3568c24c",
   "metadata": {},
   "source": [
    "# Composition:"
   ]
  },
  {
   "cell_type": "markdown",
   "id": "1a7b1356-b703-4eac-84b3-743414d774d2",
   "metadata": {},
   "source": [
    "#### 1. Explain the concept of composition in Python and how it is used to build complex objects from simpler ones."
   ]
  },
  {
   "cell_type": "code",
   "execution_count": 10,
   "id": "950a3919-065e-4d3a-9084-d5f05a78c2fb",
   "metadata": {},
   "outputs": [],
   "source": [
    "# Composition in Python is a design principle that allows you to build complex objects by combining simpler objects as components. \n",
    "# It involves creating classes that contain references to other objects, rather than inheriting from them. \n",
    "# This approach promotes code reuse, modularity, and flexibility in object-oriented design.\n",
    "\n",
    "# Here's how composition works and how it is used to build complex objects from simpler ones:\n",
    "\n",
    "# Creating Simple Objects:\n",
    "# In composition, you start by defining classes for simpler objects, each representing a distinct functionality or behavior.\n",
    "# These simple objects are designed to encapsulate specific functionalities and provide well-defined interfaces for interaction.\n",
    "\n",
    "# Building Complex Objects from Simple Ones:\n",
    "# Complex objects are built by composing or combining simpler objects as components.\n",
    "# Instead of inheriting behavior from base classes, complex objects contain references to instances of simpler objects.\n",
    "# The complex object delegates specific tasks or functionalities to its component objects, utilizing their behavior to achieve its own functionality.\n",
    "\n",
    "# Promoting Code Reuse and Modularity:\n",
    "# Composition promotes code reuse by allowing you to reuse existing simple objects as components in multiple complex objects.\n",
    "# It enhances modularity by breaking down complex systems into smaller, more manageable components, each responsible for a specific aspect of functionality.\n",
    "\n",
    "# Flexibility and Extensibility:\n",
    "# Composition offers greater flexibility and extensibility compared to inheritance, as it allows objects to be composed dynamically at runtime.\n",
    "# New functionalities can be added or modified by composing different combinations of simple objects, without modifying existing code.\n",
    "\n",
    "# Encapsulation and Separation of Concerns:\n",
    "# Composition encourages encapsulation and separation of concerns by defining clear boundaries between components.\n",
    "# Each component is responsible for a specific aspect of functionality, reducing the complexity of individual classes and improving code readability and maintainability.\n",
    "\n",
    "# Example:\n",
    "# For example, in a car simulation, a Wheel class could represent a single wheel object, a Engine class could represent the engine, \n",
    "# and a Car class could be composed of instances of Wheel and Engine objects. The Car class delegates tasks such as moving and steering to its component objects."
   ]
  },
  {
   "cell_type": "markdown",
   "id": "89721337-d7c2-42c7-985d-2f92e26355fa",
   "metadata": {},
   "source": [
    "#### 2. Describe the difference between composition and inheritance in object-oriented programming."
   ]
  },
  {
   "cell_type": "code",
   "execution_count": 11,
   "id": "95ff01d5-d1bb-43ab-be8e-2fd2fb6650bb",
   "metadata": {},
   "outputs": [],
   "source": [
    "# Composition:\n",
    "\n",
    "# Relationship:\n",
    "# Composition involves a \"has-a\" relationship, where a class contains references to other objects as components.\n",
    "# The containing class (composite) has access to the functionality of the contained objects (components) and delegates tasks to them.\n",
    "\n",
    "# Code Reuse:\n",
    "# Composition promotes code reuse by allowing objects to be composed dynamically at runtime.\n",
    "# Complex objects are built by combining simpler objects as components, each responsible for specific functionality.\n",
    "\n",
    "# Flexibility:\n",
    "# Composition offers greater flexibility compared to inheritance, as objects can be composed dynamically, and components can be swapped or modified independently.\n",
    "# It allows for more granular control over the behavior and structure of classes.\n",
    "\n",
    "# Encapsulation:\n",
    "# Composition encourages encapsulation and separation of concerns by defining clear boundaries between components.\n",
    "# Each component encapsulates specific functionality, promoting modularity and maintainability.\n",
    "\n",
    "# Example:\n",
    "# In a car simulation, a Car class could be composed of instances of Engine, Wheel, and Body classes, where each class represents a specific component of the car.\n",
    "\n",
    "\n",
    "\n",
    "# Inheritance:\n",
    "\n",
    "# Relationship:\n",
    "# Inheritance involves an \"is-a\" relationship, where a subclass inherits attributes and methods from a superclass.\n",
    "# The subclass (derived class) extends or specializes the behavior of the superclass (base class).\n",
    "\n",
    "# Code Reuse:\n",
    "# Inheritance promotes code reuse by allowing subclasses to inherit attributes and methods from a superclass.\n",
    "# Subclasses can reuse and extend the functionality of the superclass without duplicating code.\n",
    "\n",
    "# Static Hierarchy:\n",
    "# Inheritance creates a static hierarchy of classes, where subclasses are tightly coupled to their superclasses.\n",
    "# Changes to the superclass can affect all subclasses, and vice versa, leading to potential dependencies and coupling.\n",
    "\n",
    "# Polymorphism:\n",
    "# Inheritance enables polymorphic behavior, where objects of different subclasses can be treated uniformly through a common superclass interface.\n",
    "\n",
    "# Example:\n",
    "# In a vehicle simulation, a Car class could inherit from a Vehicle superclass, inheriting attributes and methods such as start() and stop()."
   ]
  },
  {
   "cell_type": "markdown",
   "id": "28cace4f-d526-4f59-9786-faa06e1087c2",
   "metadata": {},
   "source": [
    "#### 3. Create a Python class called `Author` with attributes for name and birthdate. Then, create a `Book` class that contains an instance of `Author` as a composition. Provide an example of creating a `Book` object."
   ]
  },
  {
   "cell_type": "code",
   "execution_count": 12,
   "id": "ced899aa-4d2a-468e-bd66-ebf75f460cb6",
   "metadata": {},
   "outputs": [
    {
     "name": "stdout",
     "output_type": "stream",
     "text": [
      "Title: Python Programming\n",
      "Author: John Smith\n",
      "Publication Year: 2020\n"
     ]
    }
   ],
   "source": [
    "class Author:\n",
    "    def __init__(self, name, birthdate):\n",
    "        self.name = name\n",
    "        self.birthdate = birthdate\n",
    "\n",
    "class Book:\n",
    "    def __init__(self, title, author, publication_year):\n",
    "        self.title = title\n",
    "        self.author = author  # Composition: Book contains an instance of Author\n",
    "        self.publication_year = publication_year\n",
    "\n",
    "    def __str__(self):\n",
    "        return f\"Title: {self.title}\\nAuthor: {self.author.name}\\nPublication Year: {self.publication_year}\"\n",
    "\n",
    "author = Author(\"John Smith\", \"1980-05-15\")\n",
    "book = Book(\"Python Programming\", author, 2020)\n",
    "\n",
    "print(book)\n"
   ]
  },
  {
   "cell_type": "markdown",
   "id": "19a93f3e-1405-4ef1-a8a5-4180c2e1acb0",
   "metadata": {},
   "source": [
    "#### 4. Discuss the benefits of using composition over inheritance in Python, especially in terms of code flexibility and reusability."
   ]
  },
  {
   "cell_type": "code",
   "execution_count": 13,
   "id": "a45668cf-86aa-47be-915e-f7018259d8ee",
   "metadata": {},
   "outputs": [],
   "source": [
    "# Using composition over inheritance in Python offers several benefits, particularly in terms of code flexibility and reusability:\n",
    "\n",
    "# Flexibility:\n",
    "# Composition allows for greater flexibility in class design by enabling objects to be composed dynamically at runtime.\n",
    "# Objects can be composed of different combinations of components, allowing for more granular control over the behavior and structure of classes.\n",
    "# This flexibility makes it easier to adapt to changing requirements and design patterns.\n",
    "\n",
    "# Code Reusability:\n",
    "# Composition promotes code reusability by encouraging the reuse of existing components in different contexts.\n",
    "# Components can be reused across multiple classes, reducing redundancy and promoting modularity.\n",
    "# This enhances code maintainability and scalability, as changes made to a component can be propagated to all classes that use it.\n",
    "\n",
    "# Encapsulation and Separation of Concerns:\n",
    "# Composition encourages encapsulation and separation of concerns by defining clear boundaries between components.\n",
    "# Each component encapsulates specific functionality, promoting modularity and making it easier to understand and maintain individual classes.\n",
    "# This separation of concerns leads to cleaner and more maintainable code.\n",
    "\n",
    "# Reduced Coupling:\n",
    "# Composition reduces coupling between classes by decoupling the implementation details of components from their usage.\n",
    "# Classes that use composition are not tightly bound to their components, making it easier to replace or modify components without affecting other parts of the system.\n",
    "# This reduces the risk of unintended side effects and makes the codebase more robust and resilient to changes.\n",
    "\n",
    "# Dynamic Hierarchy:\n",
    "# Composition creates a dynamic hierarchy of objects, where complex objects are built by combining simpler objects as components.\n",
    "# This dynamic composition allows for more flexible and extensible class hierarchies, as objects can be composed and recomposed dynamically at runtime.\n",
    "# It enables objects to adapt to different requirements and scenarios without the need for extensive inheritance hierarchies."
   ]
  },
  {
   "cell_type": "markdown",
   "id": "b6679a1d-b2ab-4cae-9ed8-fa5f687cf92a",
   "metadata": {},
   "source": [
    "#### 5. How can you implement composition in Python classes? Provide examples of using composition to create complex objects."
   ]
  },
  {
   "cell_type": "code",
   "execution_count": 14,
   "id": "88e3d180-51d6-4860-a066-486f2099ef5a",
   "metadata": {},
   "outputs": [
    {
     "name": "stdout",
     "output_type": "stream",
     "text": [
      "Title: Harry Potter and the Philosopher's Stone\n",
      "Author: J.K. Rowling\n",
      "Birthdate: July 31, 1965\n",
      "\n"
     ]
    }
   ],
   "source": [
    "# In Python, composition can be implemented by creating classes that contain references to other objects as components. \n",
    "\n",
    "class Author:\n",
    "    def __init__(self, name, birthdate):\n",
    "        self.name = name\n",
    "        self.birthdate = birthdate\n",
    "\n",
    "class Book:\n",
    "    def __init__(self, title, author):\n",
    "        self.title = title\n",
    "        self.author = author\n",
    "\n",
    "    def display_info(self):\n",
    "        print(f\"Title: {self.title}\")\n",
    "        print(f\"Author: {self.author.name}\")\n",
    "        print(f\"Birthdate: {self.author.birthdate}\\n\")\n",
    "\n",
    "# Creating an Author object\n",
    "author = Author(\"J.K. Rowling\", \"July 31, 1965\")\n",
    "\n",
    "# Creating a Book object using composition\n",
    "book = Book(\"Harry Potter and the Philosopher's Stone\", author)\n",
    "\n",
    "# Displaying book information\n",
    "book.display_info()\n",
    "\n",
    "\n",
    "# This example illustrates how composition allows us to create complex objects by combining simpler objects as components. \n",
    "# The Book class does not inherit from the Author class; instead, it contains a reference to an Author object, demonstrating a \"has-a\" relationship between the two classes."
   ]
  },
  {
   "cell_type": "markdown",
   "id": "37cb1e6b-3fc1-47a7-a55b-bd3c9133e24f",
   "metadata": {},
   "source": [
    "#### 6. Create a Python class hierarchy for a music player system, using composition to represent playlists and songs."
   ]
  },
  {
   "cell_type": "code",
   "execution_count": 15,
   "id": "907aad07-9657-4f3a-ae93-b9dd35cf5ec1",
   "metadata": {},
   "outputs": [
    {
     "name": "stdout",
     "output_type": "stream",
     "text": [
      "Playing playlist: Pop Hits\n",
      "Playing: Shape of You - Ed Sheeran\n",
      "Playing: Believer - Imagine Dragons\n",
      "Playing playlist: Rock Classics\n",
      "Playing: Bohemian Rhapsody - Queen\n",
      "Playing: Smells Like Teen Spirit - Nirvana\n"
     ]
    }
   ],
   "source": [
    "class Song:\n",
    "    def __init__(self, title, artist, duration):\n",
    "        self.title = title\n",
    "        self.artist = artist\n",
    "        self.duration = duration\n",
    "\n",
    "    def play(self):\n",
    "        print(f\"Playing: {self.title} - {self.artist}\")\n",
    "\n",
    "\n",
    "class Playlist:\n",
    "    def __init__(self, name):\n",
    "        self.name = name\n",
    "        self.songs = []\n",
    "\n",
    "    def add_song(self, song):\n",
    "        self.songs.append(song)\n",
    "\n",
    "    def play(self):\n",
    "        print(f\"Playing playlist: {self.name}\")\n",
    "        for song in self.songs:\n",
    "            song.play()\n",
    "\n",
    "\n",
    "class MusicPlayer:\n",
    "    def __init__(self):\n",
    "        self.playlists = []\n",
    "\n",
    "    def add_playlist(self, playlist):\n",
    "        self.playlists.append(playlist)\n",
    "\n",
    "    def play_playlist(self, playlist_name):\n",
    "        for playlist in self.playlists:\n",
    "            if playlist.name == playlist_name:\n",
    "                playlist.play()\n",
    "                return\n",
    "        print(f\"Playlist '{playlist_name}' not found.\")\n",
    "\n",
    "\n",
    "song1 = Song(\"Shape of You\", \"Ed Sheeran\", \"3:53\")\n",
    "song2 = Song(\"Believer\", \"Imagine Dragons\", \"3:24\")\n",
    "\n",
    "playlist1 = Playlist(\"Pop Hits\")\n",
    "playlist1.add_song(song1)\n",
    "playlist1.add_song(song2)\n",
    "\n",
    "song3 = Song(\"Bohemian Rhapsody\", \"Queen\", \"5:55\")\n",
    "song4 = Song(\"Smells Like Teen Spirit\", \"Nirvana\", \"4:38\")\n",
    "\n",
    "playlist2 = Playlist(\"Rock Classics\")\n",
    "playlist2.add_song(song3)\n",
    "playlist2.add_song(song4)\n",
    "\n",
    "music_player = MusicPlayer()\n",
    "music_player.add_playlist(playlist1)\n",
    "music_player.add_playlist(playlist2)\n",
    "\n",
    "music_player.play_playlist(\"Pop Hits\")\n",
    "music_player.play_playlist(\"Rock Classics\")\n"
   ]
  },
  {
   "cell_type": "markdown",
   "id": "f9fdc57c-6393-4d3c-b7f0-b3665289120a",
   "metadata": {},
   "source": [
    "#### 7. Explain the concept of \"has-a\" relationships in composition and how it helps design software systems."
   ]
  },
  {
   "cell_type": "code",
   "execution_count": 16,
   "id": "aca8485a-510d-4b98-908e-94058a9af059",
   "metadata": {},
   "outputs": [],
   "source": [
    "# In object-oriented programming, a \"has-a\" relationship refers to a design principle where one class (the containing or composite class) contains an \n",
    "# instance of another class (the component or contained class) as one of its attributes. \n",
    "# This relationship is established through composition, where the containing class \"has\" (or \"contains\") an instance of the contained class.\n",
    "\n",
    "# Here's how the \"has-a\" relationship in composition helps design software systems:\n",
    "\n",
    "# Encapsulation:\n",
    "# Composition allows you to encapsulate functionality within objects, promoting modularity and encapsulation.\n",
    "# Each class encapsulates its own behavior and state, making it easier to understand and maintain.\n",
    "\n",
    "# Code Reusability:\n",
    "# Composition promotes code reusability by allowing objects to be reused as components in different contexts.\n",
    "# Components can be shared across multiple composite classes, reducing redundancy and promoting modularity.\n",
    "\n",
    "# Flexibility:\n",
    "# Composition offers greater flexibility compared to inheritance, as objects can be composed dynamically at runtime.\n",
    "# Objects can be composed of different combinations of components, allowing for more granular control over the behavior and structure of classes.\n",
    "\n",
    "# Separation of Concerns:\n",
    "# Composition encourages separation of concerns by defining clear boundaries between components.\n",
    "# Each component is responsible for a specific aspect of functionality, promoting modularity and making it easier to understand and maintain individual classes.\n",
    "\n",
    "# Dynamic Hierarchy:\n",
    "# Composition creates a dynamic hierarchy of objects, where complex objects are built by combining simpler objects as components.\n",
    "# This dynamic composition allows for more flexible and extensible class hierarchies, as objects can be composed and recomposed dynamically at runtime.\n",
    "\n",
    "# Reduced Coupling:\n",
    "# Composition reduces coupling between classes by decoupling the implementation details of components from their usage.\n",
    "# Classes that use composition are not tightly bound to their components, making it easier to replace or modify components without affecting other parts of the system."
   ]
  },
  {
   "cell_type": "markdown",
   "id": "719ae22b-acb4-4b8b-a413-d2522902c9a3",
   "metadata": {},
   "source": [
    "#### 8. Create a Python class for a computer system, using composition to represent components like CPU, RAM, and storage devices."
   ]
  },
  {
   "cell_type": "code",
   "execution_count": 17,
   "id": "2c5f1e4d-cbdd-42ec-8127-b96f9ad4861b",
   "metadata": {},
   "outputs": [
    {
     "name": "stdout",
     "output_type": "stream",
     "text": [
      "Computer System Configuration:\n",
      "CPU: Intel, Cores: 4\n",
      "RAM: 8GB, Speed: 2666MHz\n",
      "Storage: 512GB, Type: SSD\n"
     ]
    }
   ],
   "source": [
    "class CPU:\n",
    "    def __init__(self, brand, cores):\n",
    "        self.brand = brand\n",
    "        self.cores = cores\n",
    "\n",
    "    def info(self):\n",
    "        print(f\"CPU: {self.brand}, Cores: {self.cores}\")\n",
    "\n",
    "\n",
    "class RAM:\n",
    "    def __init__(self, capacity_gb, speed_mhz):\n",
    "        self.capacity_gb = capacity_gb\n",
    "        self.speed_mhz = speed_mhz\n",
    "\n",
    "    def info(self):\n",
    "        print(f\"RAM: {self.capacity_gb}GB, Speed: {self.speed_mhz}MHz\")\n",
    "\n",
    "\n",
    "class Storage:\n",
    "    def __init__(self, capacity_gb, type):\n",
    "        self.capacity_gb = capacity_gb\n",
    "        self.type = type\n",
    "\n",
    "    def info(self):\n",
    "        print(f\"Storage: {self.capacity_gb}GB, Type: {self.type}\")\n",
    "\n",
    "\n",
    "class ComputerSystem:\n",
    "    def __init__(self, cpu, ram, storage):\n",
    "        self.cpu = cpu\n",
    "        self.ram = ram\n",
    "        self.storage = storage\n",
    "\n",
    "    def system_info(self):\n",
    "        print(\"Computer System Configuration:\")\n",
    "        self.cpu.info()\n",
    "        self.ram.info()\n",
    "        self.storage.info()\n",
    "\n",
    "\n",
    "cpu = CPU(\"Intel\", 4)\n",
    "ram = RAM(8, 2666)\n",
    "storage = Storage(512, \"SSD\")\n",
    "\n",
    "computer = ComputerSystem(cpu, ram, storage)\n",
    "computer.system_info()\n"
   ]
  },
  {
   "cell_type": "markdown",
   "id": "e628f20a-83d8-45d7-ab92-be77a40f273a",
   "metadata": {},
   "source": [
    "#### 9. Describe the concept of \"delegation\" in composition and how it simplifies the design of complex systems."
   ]
  },
  {
   "cell_type": "code",
   "execution_count": 18,
   "id": "aafdba15-542b-4ce0-b600-9e28da2172b9",
   "metadata": {},
   "outputs": [],
   "source": [
    "# Delegation in composition is a design pattern where an object forwards (or delegates) a task or responsibility to another object, rather than implementing it directly. \n",
    "# In the context of composition, delegation simplifies the design of complex systems by allowing objects to collaborate and share responsibilities, \n",
    "# leading to more modular, maintainable, and flexible code.\n",
    "\n",
    "# Here's how delegation in composition works and how it simplifies the design of complex systems:\n",
    "\n",
    "# Clear Responsibilities:\n",
    "# Delegation allows objects to focus on their core responsibilities, leading to clearer and more maintainable code.\n",
    "# Each object is responsible for a specific aspect of functionality, promoting separation of concerns and encapsulation.\n",
    "\n",
    "# Code Reuse:\n",
    "# Delegation promotes code reuse by allowing objects to reuse existing functionality provided by other objects.\n",
    "# Objects can delegate tasks to shared components, reducing redundancy and promoting modularity.\n",
    "\n",
    "# Flexibility:\n",
    "# Delegation offers greater flexibility compared to inheritance, as objects can delegate tasks dynamically at runtime.\n",
    "# Objects can delegate tasks to different components based on specific requirements, allowing for more granular control over the behavior and structure of classes.\n",
    "\n",
    "# Simplified Collaboration:\n",
    "# Delegation simplifies collaboration between objects by enabling them to communicate and share responsibilities through composition.\n",
    "# Objects can collaborate without tightly coupling their implementations, leading to more robust and maintainable systems.\n",
    "\n",
    "# Encapsulation:\n",
    "# Delegation encourages encapsulation by defining clear boundaries between objects and their responsibilities.\n",
    "# Each object encapsulates its own behavior, making it easier to understand and maintain individual classes.\n",
    "\n",
    "# Reduced Complexity:\n",
    "# Delegation reduces the complexity of individual classes by breaking down complex tasks into smaller, more manageable components.\n",
    "# It promotes modular design, where each component is responsible for a specific aspect of functionality, leading to cleaner and more maintainable code."
   ]
  },
  {
   "cell_type": "markdown",
   "id": "4e9b1045-0b6d-43ef-a433-a2c3b8901c7e",
   "metadata": {},
   "source": [
    "#### 10. Create a Python class for a car, using composition to represent components like the engine, wheels, and transmission."
   ]
  },
  {
   "cell_type": "code",
   "execution_count": 19,
   "id": "ca553c18-01b8-40cb-a208-df8ef23dd60f",
   "metadata": {},
   "outputs": [
    {
     "name": "stdout",
     "output_type": "stream",
     "text": [
      "Engine started\n",
      "Car is driving\n",
      "Gear shifted to D\n",
      "Engine stopped\n"
     ]
    }
   ],
   "source": [
    "class Engine:\n",
    "    def __init__(self, fuel_type, horsepower):\n",
    "        self.fuel_type = fuel_type\n",
    "        self.horsepower = horsepower\n",
    "\n",
    "    def start(self):\n",
    "        print(\"Engine started\")\n",
    "\n",
    "    def stop(self):\n",
    "        print(\"Engine stopped\")\n",
    "\n",
    "\n",
    "class Wheel:\n",
    "    def __init__(self, size, material):\n",
    "        self.size = size\n",
    "        self.material = material\n",
    "\n",
    "    def rotate(self):\n",
    "        print(\"Wheel rotating\")\n",
    "\n",
    "\n",
    "class Transmission:\n",
    "    def __init__(self, type):\n",
    "        self.type = type\n",
    "\n",
    "    def shift_gear(self, gear):\n",
    "        print(f\"Gear shifted to {gear}\")\n",
    "\n",
    "\n",
    "class Car:\n",
    "    def __init__(self, engine, wheels, transmission):\n",
    "        self.engine = engine\n",
    "        self.wheels = wheels\n",
    "        self.transmission = transmission\n",
    "\n",
    "    def start(self):\n",
    "        self.engine.start()\n",
    "\n",
    "    def stop(self):\n",
    "        self.engine.stop()\n",
    "\n",
    "    def drive(self):\n",
    "        print(\"Car is driving\")\n",
    "\n",
    "    def change_gear(self, gear):\n",
    "        self.transmission.shift_gear(gear)\n",
    "\n",
    "\n",
    "engine = Engine(\"Gasoline\", 200)\n",
    "wheels = [Wheel(18, \"Alloy\") for _ in range(4)]  # Four wheels\n",
    "transmission = Transmission(\"Automatic\")\n",
    "\n",
    "car = Car(engine, wheels, transmission)\n",
    "car.start()\n",
    "car.drive()\n",
    "car.change_gear(\"D\")\n",
    "car.stop()\n"
   ]
  },
  {
   "cell_type": "markdown",
   "id": "0c03e148-9958-450c-8735-18daac8d2e11",
   "metadata": {},
   "source": [
    "#### 11. How can you encapsulate and hide the details of composed objects in Python classes to maintain abstraction?"
   ]
  },
  {
   "cell_type": "code",
   "execution_count": 20,
   "id": "821fe750-f208-4191-876c-7eea506d8417",
   "metadata": {},
   "outputs": [
    {
     "name": "stdout",
     "output_type": "stream",
     "text": [
      "{'fuel_type': 'Gasoline', 'horsepower': 200}\n"
     ]
    }
   ],
   "source": [
    "# To encapsulate and hide the details of composed objects in Python classes, we can follow these guidelines:\n",
    "\n",
    "# Private/Protected Attributes: Use private/protected attributes to encapsulate the details of composed objects within the class. \n",
    "# This prevents direct access to the composed objects from outside the class.\n",
    "\n",
    "# Getter Methods: Provide getter methods to access the composed objects' attributes indirectly. \n",
    "# These methods can control the access to the composed objects' details and maintain abstraction.\n",
    "\n",
    "# Setter Methods (Optional): If necessary, provide setter methods to modify the composed objects' attributes indirectly. \n",
    "# Again, these methods can enforce constraints and maintain abstraction.\n",
    "\n",
    "# Limited Exposure: Only expose necessary functionality of the composed objects to the outside world. \n",
    "# This helps in hiding unnecessary details and maintaining a clear interface for the class.\n",
    "\n",
    "# Here's an example demonstrating these principles:\n",
    "\n",
    "class Engine:\n",
    "    def __init__(self, fuel_type, horsepower):\n",
    "        self._fuel_type = fuel_type\n",
    "        self._horsepower = horsepower\n",
    "\n",
    "    def start(self):\n",
    "        print(\"Engine started\")\n",
    "\n",
    "    def stop(self):\n",
    "        print(\"Engine stopped\")\n",
    "\n",
    "    def get_fuel_type(self):\n",
    "        return self._fuel_type\n",
    "\n",
    "    def get_horsepower(self):\n",
    "        return self._horsepower\n",
    "\n",
    "\n",
    "class Car:\n",
    "    def __init__(self, engine):\n",
    "        self._engine = engine\n",
    "\n",
    "    def start(self):\n",
    "        self._engine.start()\n",
    "\n",
    "    def stop(self):\n",
    "        self._engine.stop()\n",
    "\n",
    "    def get_engine_info(self):\n",
    "        return {\n",
    "            \"fuel_type\": self._engine.get_fuel_type(),\n",
    "            \"horsepower\": self._engine.get_horsepower()\n",
    "        }\n",
    "\n",
    "\n",
    "engine = Engine(\"Gasoline\", 200)\n",
    "car = Car(engine)\n",
    "\n",
    "# Accessing engine details indirectly\n",
    "print(car.get_engine_info())\n",
    "\n",
    "\n",
    "# In this example:\n",
    "\n",
    "# The Engine class has protected attributes _fuel_type and _horsepower, and getter methods get_fuel_type() and get_horsepower() to access these attributes indirectly.\n",
    "# The Car class encapsulates an instance of Engine and provides a method get_engine_info() to access the engine details indirectly.\n",
    "# Users of the Car class can interact with the engine details through the get_engine_info() method, maintaining abstraction and \n",
    "# encapsulation of the engine details within the Car class."
   ]
  },
  {
   "cell_type": "markdown",
   "id": "dabadd14-1ef4-451e-99ea-57bb845bc1e8",
   "metadata": {},
   "source": [
    "#### 12. Create a Python class for a university course, using composition to represent students, instructors, and course materials."
   ]
  },
  {
   "cell_type": "code",
   "execution_count": 21,
   "id": "da7b185e-4cc8-46d5-808e-8aa988f44c6f",
   "metadata": {},
   "outputs": [
    {
     "name": "stdout",
     "output_type": "stream",
     "text": [
      "Course: Python Programming\n",
      "Instructor: Instructor: Dr. Smith, ID: I001\n",
      "Students: Student: Alice, ID: S001, Student: Bob, ID: S002\n",
      "Course Material:\n",
      "Textbooks: Introduction to Python, Data Structures\n",
      "Slides: Lecture 1: Introduction to Python, Lecture 2: Data Structures\n"
     ]
    }
   ],
   "source": [
    "class Student:\n",
    "    def __init__(self, name, student_id):\n",
    "        self.name = name\n",
    "        self.student_id = student_id\n",
    "\n",
    "    def __str__(self):\n",
    "        return f\"Student: {self.name}, ID: {self.student_id}\"\n",
    "\n",
    "\n",
    "class Instructor:\n",
    "    def __init__(self, name, instructor_id):\n",
    "        self.name = name\n",
    "        self.instructor_id = instructor_id\n",
    "\n",
    "    def __str__(self):\n",
    "        return f\"Instructor: {self.name}, ID: {self.instructor_id}\"\n",
    "\n",
    "\n",
    "class CourseMaterial:\n",
    "    def __init__(self, textbooks=None, slides=None):\n",
    "        self.textbooks = textbooks if textbooks else []\n",
    "        self.slides = slides if slides else []\n",
    "\n",
    "    def __str__(self):\n",
    "        return f\"Textbooks: {', '.join(self.textbooks)}\\nSlides: {', '.join(self.slides)}\"\n",
    "\n",
    "\n",
    "class UniversityCourse:\n",
    "    def __init__(self, course_name, instructor, students=None, course_material=None):\n",
    "        self.course_name = course_name\n",
    "        self.instructor = instructor\n",
    "        self.students = students if students else []\n",
    "        self.course_material = course_material if course_material else CourseMaterial()\n",
    "\n",
    "    def __str__(self):\n",
    "        return (f\"Course: {self.course_name}\\n\"\n",
    "                f\"Instructor: {self.instructor}\\n\"\n",
    "                f\"Students: {', '.join(map(str, self.students))}\\n\"\n",
    "                f\"Course Material:\\n{self.course_material}\")\n",
    "\n",
    "\n",
    "student1 = Student(\"Alice\", \"S001\")\n",
    "student2 = Student(\"Bob\", \"S002\")\n",
    "\n",
    "instructor = Instructor(\"Dr. Smith\", \"I001\")\n",
    "\n",
    "course_material = CourseMaterial(textbooks=[\"Introduction to Python\", \"Data Structures\"],\n",
    "                                 slides=[\"Lecture 1: Introduction to Python\", \"Lecture 2: Data Structures\"])\n",
    "\n",
    "course = UniversityCourse(\"Python Programming\", instructor, students=[student1, student2], course_material=course_material)\n",
    "\n",
    "print(course)\n"
   ]
  },
  {
   "cell_type": "markdown",
   "id": "e6b84af0-3ad6-4104-8a96-ac17cf0c9488",
   "metadata": {},
   "source": [
    "#### 13. Discuss the challenges and drawbacks of composition, such as increased complexity and potential for tight coupling between objects."
   ]
  },
  {
   "cell_type": "code",
   "execution_count": 22,
   "id": "ad2baca0-ec4a-458d-b7a0-a0894eac9d18",
   "metadata": {},
   "outputs": [],
   "source": [
    "# While composition offers many benefits, such as flexibility and modularity, it also comes with its own set of challenges and drawbacks:\n",
    "\n",
    "# Increased Complexity: As the number of composed objects grows, the complexity of managing interactions between them can increase significantly. \n",
    "# This complexity can make the system harder to understand, debug, and maintain.\n",
    "\n",
    "# Potential for Tight Coupling: Composition can lead to tight coupling between objects if not implemented carefully. \n",
    "# Tight coupling occurs when the behavior of one object depends heavily on the implementation details of another object, making it difficult to change or replace components without affecting other parts of the system.\n",
    "\n",
    "# Inheritance vs. Composition: Choosing between inheritance and composition can be challenging, especially when designing class hierarchies. \n",
    "# Composition often requires more explicit wiring between objects, leading to more boilerplate code and potential for errors.\n",
    "\n",
    "# Duplication of Code: In some cases, composition can lead to duplication of code, especially if multiple objects require similar functionality. \n",
    "# This duplication can make the codebase harder to maintain and increase the risk of inconsistencies.\n",
    "\n",
    "# Object Creation Overhead: Managing the lifecycle of composed objects, including creation, initialization, and destruction, can introduce overhead and complexity. \n",
    "# This overhead may become significant in systems with a large number of objects or complex object hierarchies.\n",
    "\n",
    "# Performance Overhead: Composition can introduce performance overhead, especially if objects need to communicate frequently or if there are many layers of composition. \n",
    "# This overhead may impact the overall performance of the system.\n",
    "\n",
    "# Testing Complexity: Testing composed objects can be more complex than testing standalone objects, as it often requires testing interactions between multiple objects. \n",
    "# Writing comprehensive tests for composed objects can be time-consuming and challenging."
   ]
  },
  {
   "cell_type": "markdown",
   "id": "d3f03262-0515-4642-bbe4-cc56805debf9",
   "metadata": {},
   "source": [
    "#### 14. Create a Python class hierarchy for a restaurant system, using composition to represent menus, dishes, and ingredients."
   ]
  },
  {
   "cell_type": "code",
   "execution_count": 23,
   "id": "597caaf5-62b7-438c-a4e0-207c21924dac",
   "metadata": {},
   "outputs": [
    {
     "name": "stdout",
     "output_type": "stream",
     "text": [
      "Menu: Lunch Menu\n",
      "Margherita Pizza: Classic pizza topped with tomato sauce and mozzarella cheese\n",
      "Ingredients:\n",
      "Tomato: 2\n",
      "Cheese: 200g\n",
      "Grilled Cheese Sandwich: Toasted bread with melted cheese\n",
      "Ingredients:\n",
      "Cheese: 200g\n",
      "Bread: 2 slices\n"
     ]
    }
   ],
   "source": [
    "class Ingredient:\n",
    "    def __init__(self, name, quantity):\n",
    "        self.name = name\n",
    "        self.quantity = quantity\n",
    "\n",
    "    def __str__(self):\n",
    "        return f\"{self.name}: {self.quantity}\"\n",
    "\n",
    "\n",
    "class Dish:\n",
    "    def __init__(self, name, description, ingredients=None):\n",
    "        self.name = name\n",
    "        self.description = description\n",
    "        self.ingredients = ingredients if ingredients else []\n",
    "\n",
    "    def add_ingredient(self, ingredient):\n",
    "        self.ingredients.append(ingredient)\n",
    "\n",
    "    def __str__(self):\n",
    "        return f\"{self.name}: {self.description}\\nIngredients:\\n\" + \"\\n\".join(map(str, self.ingredients))\n",
    "\n",
    "\n",
    "class Menu:\n",
    "    def __init__(self, name, dishes=None):\n",
    "        self.name = name\n",
    "        self.dishes = dishes if dishes else []\n",
    "\n",
    "    def add_dish(self, dish):\n",
    "        self.dishes.append(dish)\n",
    "\n",
    "    def __str__(self):\n",
    "        return f\"Menu: {self.name}\\n\" + \"\\n\".join(map(str, self.dishes))\n",
    "\n",
    "\n",
    "ingredient1 = Ingredient(\"Tomato\", \"2\")\n",
    "ingredient2 = Ingredient(\"Cheese\", \"200g\")\n",
    "ingredient3 = Ingredient(\"Bread\", \"2 slices\")\n",
    "\n",
    "dish1 = Dish(\"Margherita Pizza\", \"Classic pizza topped with tomato sauce and mozzarella cheese\")\n",
    "dish1.add_ingredient(ingredient1)\n",
    "dish1.add_ingredient(ingredient2)\n",
    "\n",
    "dish2 = Dish(\"Grilled Cheese Sandwich\", \"Toasted bread with melted cheese\")\n",
    "dish2.add_ingredient(ingredient2)\n",
    "dish2.add_ingredient(ingredient3)\n",
    "\n",
    "menu = Menu(\"Lunch Menu\")\n",
    "menu.add_dish(dish1)\n",
    "menu.add_dish(dish2)\n",
    "\n",
    "print(menu)\n"
   ]
  },
  {
   "cell_type": "markdown",
   "id": "a06f2e26-0332-47b0-89d8-59de9133b2d7",
   "metadata": {},
   "source": [
    "#### 15. Explain how composition enhances code maintainability and modularity in Python programs."
   ]
  },
  {
   "cell_type": "code",
   "execution_count": 24,
   "id": "f3752d3b-83b1-417f-94b1-d5ad36ecfb0a",
   "metadata": {},
   "outputs": [],
   "source": [
    "# Composition enhances code maintainability and modularity in Python programs by promoting a design approach where objects are composed of other objects to \n",
    "# build complex functionality. \n",
    "\n",
    "# Here's how composition achieves this:\n",
    "\n",
    "# Encapsulation: Composition allows objects to encapsulate functionality by delegating tasks to other objects. \n",
    "# Each object is responsible for a specific aspect of functionality, making it easier to understand and maintain.\n",
    "\n",
    "# Modularity: Composition promotes modularity by breaking down complex systems into smaller, more manageable components. \n",
    "# Each component (object) can be developed, tested, and maintained independently, which simplifies the overall development process.\n",
    "\n",
    "# Flexibility: Using composition, you can easily modify or replace individual components without affecting the entire system. \n",
    "# This flexibility allows for easier updates, enhancements, and refactoring of code.\n",
    "\n",
    "# Code Reusability: Composition encourages reusable components, as objects can be composed and reused in different contexts. \n",
    "# This reduces duplication of code and promotes a more efficient use of resources.\n",
    "\n",
    "# Separation of Concerns: Composition encourages a separation of concerns, where each object is responsible for a specific task or functionality. \n",
    "# This separation makes it easier to reason about and debug code, as each object has a clear and defined purpose.\n",
    "\n",
    "# Scalability: Composition supports scalability, as systems can be built by composing smaller, reusable components. \n",
    "# This allows for easier management of complexity and facilitates the growth of the system over time."
   ]
  },
  {
   "cell_type": "markdown",
   "id": "23c8723b-51be-47ae-915f-0ee1881a1a25",
   "metadata": {},
   "source": [
    "#### 16. Create a Python class for a computer game character, using composition to represent attributes like weapons, armor, and inventory."
   ]
  },
  {
   "cell_type": "code",
   "execution_count": 25,
   "id": "f1b9fcbf-5eb2-41da-8b82-4ec46f0ccb31",
   "metadata": {},
   "outputs": [
    {
     "name": "stdout",
     "output_type": "stream",
     "text": [
      "Character: Player\n",
      "Health: 100\n",
      "Weapon: Weapon: Sword, Damage: 10\n",
      "Armor: Armor: Shield, Defense: 5\n",
      "Inventory: Inventory:\n",
      "Weapon: Dagger, Damage: 5\n",
      "Armor: Helmet, Defense: 3\n"
     ]
    }
   ],
   "source": [
    "class Weapon:\n",
    "    def __init__(self, name, damage):\n",
    "        self.name = name\n",
    "        self.damage = damage\n",
    "\n",
    "    def __str__(self):\n",
    "        return f\"Weapon: {self.name}, Damage: {self.damage}\"\n",
    "\n",
    "\n",
    "class Armor:\n",
    "    def __init__(self, name, defense):\n",
    "        self.name = name\n",
    "        self.defense = defense\n",
    "\n",
    "    def __str__(self):\n",
    "        return f\"Armor: {self.name}, Defense: {self.defense}\"\n",
    "\n",
    "\n",
    "class Inventory:\n",
    "    def __init__(self):\n",
    "        self.items = []\n",
    "\n",
    "    def add_item(self, item):\n",
    "        self.items.append(item)\n",
    "\n",
    "    def __str__(self):\n",
    "        return \"Inventory:\\n\" + \"\\n\".join(map(str, self.items))\n",
    "\n",
    "\n",
    "class Character:\n",
    "    def __init__(self, name, health, weapon=None, armor=None):\n",
    "        self.name = name\n",
    "        self.health = health\n",
    "        self.weapon = weapon\n",
    "        self.armor = armor\n",
    "        self.inventory = Inventory()\n",
    "\n",
    "    def equip_weapon(self, weapon):\n",
    "        self.weapon = weapon\n",
    "\n",
    "    def equip_armor(self, armor):\n",
    "        self.armor = armor\n",
    "\n",
    "    def __str__(self):\n",
    "        return (f\"Character: {self.name}\\n\"\n",
    "                f\"Health: {self.health}\\n\"\n",
    "                f\"Weapon: {self.weapon}\\n\"\n",
    "                f\"Armor: {self.armor}\\n\"\n",
    "                f\"Inventory: {self.inventory}\")\n",
    "\n",
    "\n",
    "sword = Weapon(\"Sword\", 10)\n",
    "shield = Armor(\"Shield\", 5)\n",
    "\n",
    "character = Character(\"Player\", 100, weapon=sword, armor=shield)\n",
    "\n",
    "character.inventory.add_item(Weapon(\"Dagger\", 5))\n",
    "character.inventory.add_item(Armor(\"Helmet\", 3))\n",
    "\n",
    "print(character)\n"
   ]
  },
  {
   "cell_type": "markdown",
   "id": "f9550e89-7044-4a34-98fd-88d190abb2bf",
   "metadata": {},
   "source": [
    "#### 17. Describe the concept of \"aggregation\" in composition and how it differs from simple composition."
   ]
  },
  {
   "cell_type": "code",
   "execution_count": 26,
   "id": "347e57f8-9a00-4f8c-95ef-7fedffb1ed99",
   "metadata": {},
   "outputs": [],
   "source": [
    "# In object-oriented programming, \"aggregation\" is a form of composition where one class, referred to as the \"whole\" or \"container,\" \n",
    "# contains another class, referred to as the \"part\" or \"component,\" as a part of its state. \n",
    "# Aggregation represents a \"has-a\" relationship, where the whole object has a reference to the part object but doesn't own the part object's lifecycle. \n",
    "# Unlike simple composition, aggregation implies a weaker relationship, where the part object can exist independently of the whole object.\n",
    "\n",
    "# Here's how aggregation differs from simple composition:\n",
    "\n",
    "# Ownership of Lifecycle:\n",
    "# In simple composition, the whole object owns the lifecycle of the part object. \n",
    "# This means that when the whole object is created or destroyed, the part object is also created or destroyed.\n",
    "# In aggregation, the whole object does not own the lifecycle of the part object. \n",
    "# The part object can exist independently of the whole object. It can be created and destroyed separately from the whole object.\n",
    "\n",
    "# Degree of Coupling:\n",
    "# Simple composition typically implies a stronger relationship between the whole and part objects. \n",
    "# The part object is tightly coupled with the whole object, and it often cannot exist without the whole object.\n",
    "# Aggregation implies a weaker relationship between the whole and part objects. \n",
    "# The part object is loosely coupled with the whole object, and it can exist independently or be shared among multiple whole objects.\n",
    "\n",
    "# Multiplicity:\n",
    "# In simple composition, there is usually a one-to-one relationship between the whole and part objects. \n",
    "# Each whole object contains exactly one instance of the part object.\n",
    "# In aggregation, there can be a one-to-one or a one-to-many relationship between the whole and part objects. \n",
    "# The whole object can contain multiple instances of the part object, or it can share the same instance with other whole objects.\n",
    "\n",
    "# Semantic Meaning:\n",
    "# Simple composition often implies a stronger semantic meaning, where the part object is an integral part of the whole object's functionality.\n",
    "# Aggregation often implies a weaker semantic meaning, where the part object is a component that can be shared among multiple whole objects or can exist independently."
   ]
  },
  {
   "cell_type": "markdown",
   "id": "d0f1a14d-02af-4efc-b711-68c252378e5e",
   "metadata": {},
   "source": [
    "#### 18. Create a Python class for a house, using composition to represent rooms, furniture, and appliances."
   ]
  },
  {
   "cell_type": "code",
   "execution_count": 27,
   "id": "ca98f40f-4aab-4f2b-bb47-a0e3618dcd3b",
   "metadata": {},
   "outputs": [
    {
     "name": "stdout",
     "output_type": "stream",
     "text": [
      "House: My House\n",
      "Rooms:\n",
      "Room: Living Room\n",
      "Furniture:\n",
      "Furniture: Sofa\n",
      "Furniture: Coffee Table\n",
      "Appliances:\n",
      "Appliance: Television\n",
      "Room: Kitchen\n",
      "Furniture:\n",
      "Furniture: Dining Table\n",
      "Appliances:\n",
      "Appliance: Refrigerator\n",
      "Appliance: Microwave\n"
     ]
    }
   ],
   "source": [
    "class Furniture:\n",
    "    def __init__(self, name):\n",
    "        self.name = name\n",
    "\n",
    "    def __str__(self):\n",
    "        return f\"Furniture: {self.name}\"\n",
    "\n",
    "\n",
    "class Appliance:\n",
    "    def __init__(self, name):\n",
    "        self.name = name\n",
    "\n",
    "    def __str__(self):\n",
    "        return f\"Appliance: {self.name}\"\n",
    "\n",
    "\n",
    "class Room:\n",
    "    def __init__(self, name):\n",
    "        self.name = name\n",
    "        self.furniture = []\n",
    "        self.appliances = []\n",
    "\n",
    "    def add_furniture(self, furniture):\n",
    "        self.furniture.append(furniture)\n",
    "\n",
    "    def add_appliance(self, appliance):\n",
    "        self.appliances.append(appliance)\n",
    "\n",
    "    def __str__(self):\n",
    "        furniture_str = \"\\n\".join(str(item) for item in self.furniture)\n",
    "        appliance_str = \"\\n\".join(str(item) for item in self.appliances)\n",
    "        return f\"Room: {self.name}\\nFurniture:\\n{furniture_str}\\nAppliances:\\n{appliance_str}\"\n",
    "\n",
    "\n",
    "class House:\n",
    "    def __init__(self, name):\n",
    "        self.name = name\n",
    "        self.rooms = []\n",
    "\n",
    "    def add_room(self, room):\n",
    "        self.rooms.append(room)\n",
    "\n",
    "    def __str__(self):\n",
    "        room_str = \"\\n\".join(str(room) for room in self.rooms)\n",
    "        return f\"House: {self.name}\\nRooms:\\n{room_str}\"\n",
    "\n",
    "\n",
    "living_room = Room(\"Living Room\")\n",
    "living_room.add_furniture(Furniture(\"Sofa\"))\n",
    "living_room.add_furniture(Furniture(\"Coffee Table\"))\n",
    "living_room.add_appliance(Appliance(\"Television\"))\n",
    "\n",
    "kitchen = Room(\"Kitchen\")\n",
    "kitchen.add_furniture(Furniture(\"Dining Table\"))\n",
    "kitchen.add_appliance(Appliance(\"Refrigerator\"))\n",
    "kitchen.add_appliance(Appliance(\"Microwave\"))\n",
    "\n",
    "my_house = House(\"My House\")\n",
    "my_house.add_room(living_room)\n",
    "my_house.add_room(kitchen)\n",
    "\n",
    "print(my_house)\n"
   ]
  },
  {
   "cell_type": "markdown",
   "id": "776f7280-9ba1-403a-8882-88d01a1cd6c3",
   "metadata": {},
   "source": [
    "#### 19. How can you achieve flexibility in composed objects by allowing them to be replaced or modified dynamically at runtime?"
   ]
  },
  {
   "cell_type": "code",
   "execution_count": 28,
   "id": "b682b225-81c4-40c4-8dd4-ade72e29ff71",
   "metadata": {},
   "outputs": [],
   "source": [
    "# We can achieve flexibility in composed objects by designing them to support dynamic replacement or modification of their components at runtime. \n",
    "\n",
    "# Here are some strategies to achieve this flexibility:\n",
    "\n",
    "# Interface-based Composition: Define interfaces or abstract classes for the components that can be composed. \n",
    "# This allows different implementations of the components to be swapped at runtime as long as they adhere to the same interface.\n",
    "\n",
    "# Dependency Injection: Instead of directly creating or instantiating the components within the composing object, pass the components (or references to them) as \n",
    "# parameters to the constructor or setter methods. This allows different implementations of the components to be injected at runtime.\n",
    "\n",
    "# Factory Pattern: Use a factory pattern to create instances of the components. \n",
    "# The factory can determine which concrete implementation to instantiate based on runtime conditions or configuration.\n",
    "\n",
    "# Decorator Pattern: Use the decorator pattern to dynamically add or modify behavior of the components at runtime. \n",
    "# Decorators can wrap the original components and provide additional functionality without modifying their interface.\n",
    "\n",
    "# Dependency Inversion Principle (DIP): Apply the Dependency Inversion Principle to decouple the composing object from its components. \n",
    "# Instead of depending on concrete implementations, depend on abstractions or interfaces, allowing different implementations to be swapped without modifying the composing object.\n",
    "\n",
    "# Event-driven Architecture: Implement an event-driven architecture where components communicate with each other through events or messages. \n",
    "# This allows for dynamic composition and modification of components based on event triggers.\n",
    "\n",
    "# Reflection and Metadata: Use reflection and metadata to dynamically discover and instantiate components based on runtime conditions or configuration."
   ]
  },
  {
   "cell_type": "markdown",
   "id": "40d058d7-2d21-47bd-b7a0-fe583ef3198f",
   "metadata": {},
   "source": [
    "#### 20. Create a Python class for a social media application, using composition to represent users, posts, and comments."
   ]
  },
  {
   "cell_type": "code",
   "execution_count": 29,
   "id": "3d6eda03-7658-472f-8f6a-5e0c84f57fa0",
   "metadata": {},
   "outputs": [
    {
     "name": "stdout",
     "output_type": "stream",
     "text": [
      "Social Media App\n",
      "Users:\n",
      "User: user1\n",
      "Posts:\n",
      "Post by user1: Hello, World!\n",
      "Comments:\n",
      "Comment by user2: Nice post!\n",
      "User: user2\n",
      "Posts:\n",
      "Post by user2: Python is awesome!\n",
      "Comments:\n",
      "Comment by user1: I agree!\n"
     ]
    }
   ],
   "source": [
    "class Comment:\n",
    "    def __init__(self, user, content):\n",
    "        self.user = user\n",
    "        self.content = content\n",
    "\n",
    "    def __str__(self):\n",
    "        return f\"Comment by {self.user}: {self.content}\"\n",
    "\n",
    "\n",
    "class Post:\n",
    "    def __init__(self, user, content):\n",
    "        self.user = user\n",
    "        self.content = content\n",
    "        self.comments = []\n",
    "\n",
    "    def add_comment(self, comment):\n",
    "        self.comments.append(comment)\n",
    "\n",
    "    def __str__(self):\n",
    "        comments_str = \"\\n\".join(str(comment) for comment in self.comments)\n",
    "        return f\"Post by {self.user}: {self.content}\\nComments:\\n{comments_str}\"\n",
    "\n",
    "\n",
    "class User:\n",
    "    def __init__(self, username):\n",
    "        self.username = username\n",
    "        self.posts = []\n",
    "\n",
    "    def create_post(self, content):\n",
    "        post = Post(self.username, content)\n",
    "        self.posts.append(post)\n",
    "        return post\n",
    "\n",
    "    def __str__(self):\n",
    "        posts_str = \"\\n\".join(str(post) for post in self.posts)\n",
    "        return f\"User: {self.username}\\nPosts:\\n{posts_str}\"\n",
    "\n",
    "\n",
    "class SocialMediaApp:\n",
    "    def __init__(self):\n",
    "        self.users = []\n",
    "\n",
    "    def add_user(self, username):\n",
    "        user = User(username)\n",
    "        self.users.append(user)\n",
    "        return user\n",
    "\n",
    "    def __str__(self):\n",
    "        users_str = \"\\n\".join(str(user) for user in self.users)\n",
    "        return f\"Social Media App\\nUsers:\\n{users_str}\"\n",
    "\n",
    "\n",
    "social_media_app = SocialMediaApp()\n",
    "\n",
    "user1 = social_media_app.add_user(\"user1\")\n",
    "user2 = social_media_app.add_user(\"user2\")\n",
    "\n",
    "post1 = user1.create_post(\"Hello, World!\")\n",
    "post2 = user2.create_post(\"Python is awesome!\")\n",
    "\n",
    "post1.add_comment(Comment(\"user2\", \"Nice post!\"))\n",
    "post2.add_comment(Comment(\"user1\", \"I agree!\"))\n",
    "\n",
    "print(social_media_app)\n"
   ]
  }
 ],
 "metadata": {
  "kernelspec": {
   "display_name": "Python 3 (ipykernel)",
   "language": "python",
   "name": "python3"
  },
  "language_info": {
   "codemirror_mode": {
    "name": "ipython",
    "version": 3
   },
   "file_extension": ".py",
   "mimetype": "text/x-python",
   "name": "python",
   "nbconvert_exporter": "python",
   "pygments_lexer": "ipython3",
   "version": "3.10.8"
  }
 },
 "nbformat": 4,
 "nbformat_minor": 5
}
